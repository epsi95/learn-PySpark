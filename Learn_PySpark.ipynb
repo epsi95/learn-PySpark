{
  "nbformat": 4,
  "nbformat_minor": 0,
  "metadata": {
    "colab": {
      "name": "Learn-PySpark",
      "provenance": [],
      "collapsed_sections": [],
      "authorship_tag": "ABX9TyMtrubApYvOJvP4V6G04T9G",
      "include_colab_link": true
    },
    "kernelspec": {
      "name": "python3",
      "display_name": "Python 3"
    }
  },
  "cells": [
    {
      "cell_type": "markdown",
      "metadata": {
        "id": "view-in-github",
        "colab_type": "text"
      },
      "source": [
        "<a href=\"https://colab.research.google.com/github/pratikgujral/learn-PySpark/blob/master/Learn_PySpark.ipynb\" target=\"_parent\"><img src=\"https://colab.research.google.com/assets/colab-badge.svg\" alt=\"Open In Colab\"/></a>"
      ]
    },
    {
      "cell_type": "markdown",
      "metadata": {
        "id": "1nWcbtVMyjZd",
        "colab_type": "text"
      },
      "source": [
        "In this notebook, we'll learn how to use Spark using Python!\n",
        "\n",
        "# Prerequisites\n",
        "- Familiarity with Python\n"
      ]
    },
    {
      "cell_type": "markdown",
      "metadata": {
        "id": "e2Cy_rTMzqbs",
        "colab_type": "text"
      },
      "source": [
        "# Introduction\n",
        "![Spark logo](https://spark.apache.org/docs/latest/api/python/_static/spark-logo-hd.png)\n",
        "\n",
        "Spark is a tool for doing parallel computation with large datasets. Spark integrates with Python very well. PySpark is the Python package that makes the magic happen. We'll use this package to work with data about flights from Portland and Seattle. We'll learn to wrangle this data and build a whole machine learning pipeline to predict whether or not flights will be delayed. Get ready to put some Spark in your Python code and dive into the world of high-performance machine learning!"
      ]
    },
    {
      "cell_type": "markdown",
      "metadata": {
        "id": "LrfJEeqQz6He",
        "colab_type": "text"
      },
      "source": [
        "# Part 1: Getting to know PySpark\n",
        "In this part, we'll learn how Spark manages data and how can you read and write tables from Python."
      ]
    },
    {
      "cell_type": "markdown",
      "metadata": {
        "id": "8ofXzNpG1PKo",
        "colab_type": "text"
      },
      "source": [
        "## What is Spark?\n",
        "Spark is a platform for **cluster computing**. Spark lets you spread data and computations over clusters with multiple nodes (think of each node as a separate computer). Splitting up your data makes it easier to work with very large datasets because each node only works with a small amount of data.\n",
        "\n",
        "![Cluster Computing](https://i.pinimg.com/originals/bf/c4/17/bfc4173a6e383fb815935fad9a8d9c11.png)\n",
        "\n",
        "As each node works on its own subset of the total data, it also carries out a part of the total calculations required, so that both data processing and computation are performed in parallel over the nodes in the cluster. It is a fact that parallel computation can make certain types of programming tasks much faster.\n",
        "\n",
        "However, with greater computing power comes greater complexity.\n",
        "\n",
        "Deciding whether or not Spark is the best solution for your problem takes some experience, but you can consider questions like:\n",
        " - Is my data too big to work with on a single machine?\n",
        " - Can my calculations be easily parallelized?"
      ]
    },
    {
      "cell_type": "markdown",
      "metadata": {
        "id": "Q9tdzZ1y3WhO",
        "colab_type": "text"
      },
      "source": [
        "## Using Spark in Python\n",
        "The first step in using Spark is connecting to a cluster.\n",
        "\n",
        "In practice, the cluster will be hosted on a remote machine that's connected to all other nodes. There will be one computer, called the master (also sometimes called a **frontend node**) that manages splitting up the data and the computations. The **master** is connected to the rest of the computers in the cluster, which are called **worker**. The master sends the workers data and calculations to run, and they send their results back to the master.\n",
        "\n",
        "Creating the connection is as simple as creating an instance of the `SparkContext` class. The class constructor takes a few optional arguments that allow you to specify the attributes of the cluster you're connecting to.\n",
        "\n",
        "An object holding all these attributes can be created with the `SparkConf()` constructor. Take a look at the documentation for all the details!\n",
        "\n",
        "For the rest of this course we'll have a `SparkContext` called sc in our workspace.\n",
        "\n"
      ]
    },
    {
      "cell_type": "markdown",
      "metadata": {
        "id": "3fRfDqNUSEVo",
        "colab_type": "text"
      },
      "source": [
        "## Installing and setting up Spark\n",
        "Run the below code. **If  it throws an error, update the link to the Apache Spark dist in the wget and later while setting the environment variables.**"
      ]
    },
    {
      "cell_type": "code",
      "metadata": {
        "id": "fGsQUJr_R9iC",
        "colab_type": "code",
        "colab": {}
      },
      "source": [
        "!apt-get install openjdk-8-jdk-headless -qq > /dev/null\n",
        "!wget -q http://apache.org/dist/spark/spark-2.4.5/spark-2.4.5-bin-hadoop2.7.tgz\n",
        "!tar xf spark-2.4.5-bin-hadoop2.7.tgz\n",
        "!pip install -q findspark"
      ],
      "execution_count": 0,
      "outputs": []
    },
    {
      "cell_type": "markdown",
      "metadata": {
        "id": "Z42Ym6IZSwXm",
        "colab_type": "text"
      },
      "source": [
        "Now that we have installed Spark and Java in Colab, it is time to set the environment path that enables us to run PySpark in our Colab environment. Set the location of Java and Spark by running the following code:"
      ]
    },
    {
      "cell_type": "code",
      "metadata": {
        "id": "jMzfvK_VSyq4",
        "colab_type": "code",
        "colab": {}
      },
      "source": [
        "import os\n",
        "os.environ[\"JAVA_HOME\"] = \"/usr/lib/jvm/java-8-openjdk-amd64\"\n",
        "os.environ[\"SPARK_HOME\"] = \"/content/spark-2.4.5-bin-hadoop2.7\""
      ],
      "execution_count": 0,
      "outputs": []
    },
    {
      "cell_type": "markdown",
      "metadata": {
        "id": "cuwsw8BXS50g",
        "colab_type": "text"
      },
      "source": [
        "Running a local Spark Session"
      ]
    },
    {
      "cell_type": "code",
      "metadata": {
        "id": "G8_0o_zaS6GV",
        "colab_type": "code",
        "colab": {}
      },
      "source": [
        "import findspark\n",
        "findspark.init()\n",
        "from pyspark.sql import SparkSession\n",
        "spark = SparkSession.builder.master(\"local[*]\").getOrCreate()"
      ],
      "execution_count": 0,
      "outputs": []
    },
    {
      "cell_type": "markdown",
      "metadata": {
        "id": "AX81mry_zumD",
        "colab_type": "text"
      },
      "source": [
        "## Reading the datasets"
      ]
    },
    {
      "cell_type": "code",
      "metadata": {
        "id": "3CJz2NmYx4Ns",
        "colab_type": "code",
        "colab": {}
      },
      "source": [
        "url_airports_dataset = r\"https://assets.datacamp.com/production/repositories/1237/datasets/6e5c4ac2a4799338ba7e13d54ce1fa918da644ba/airports.csv\"\n",
        "url_flights_dataset = r\"https://assets.datacamp.com/production/repositories/1237/datasets/fa47bb54e83abd422831cbd4f441bd30fd18bd15/flights_small.csv\"\n",
        "url_planes_datasets = r\"https://assets.datacamp.com/production/repositories/1237/datasets/231480a2696c55fde829ce76d936596123f12c0c/planes.csv\""
      ],
      "execution_count": 0,
      "outputs": []
    },
    {
      "cell_type": "code",
      "metadata": {
        "id": "PWr4zCTyyZgg",
        "colab_type": "code",
        "outputId": "caac66e4-3606-4a69-f958-d7ad48c8a5c3",
        "colab": {
          "base_uri": "https://localhost:8080/",
          "height": 571
        }
      },
      "source": [
        "!wget --no-check-certificate \"https://assets.datacamp.com/production/repositories/1237/datasets/6e5c4ac2a4799338ba7e13d54ce1fa918da644ba/airports.csv\" -O /tmp/airports.csv\n",
        "!wget --no-check-certificate \"https://assets.datacamp.com/production/repositories/1237/datasets/fa47bb54e83abd422831cbd4f441bd30fd18bd15/flights_small.csv\" -O /tmp/flights.csv\n",
        "!wget --no-check-certificate \"https://assets.datacamp.com/production/repositories/1237/datasets/231480a2696c55fde829ce76d936596123f12c0c/planes.csv\" -O /tmp/planes.csv"
      ],
      "execution_count": 0,
      "outputs": [
        {
          "output_type": "stream",
          "text": [
            "--2020-04-18 01:10:43--  https://assets.datacamp.com/production/repositories/1237/datasets/6e5c4ac2a4799338ba7e13d54ce1fa918da644ba/airports.csv\n",
            "Resolving assets.datacamp.com (assets.datacamp.com)... 13.225.205.57, 13.225.205.121, 13.225.205.66, ...\n",
            "Connecting to assets.datacamp.com (assets.datacamp.com)|13.225.205.57|:443... connected.\n",
            "HTTP request sent, awaiting response... 200 OK\n",
            "Length: 84548 (83K)\n",
            "Saving to: ‘/tmp/airports.csv’\n",
            "\n",
            "/tmp/airports.csv   100%[===================>]  82.57K  --.-KB/s    in 0.1s    \n",
            "\n",
            "2020-04-18 01:10:44 (567 KB/s) - ‘/tmp/airports.csv’ saved [84548/84548]\n",
            "\n",
            "--2020-04-18 01:10:46--  https://assets.datacamp.com/production/repositories/1237/datasets/fa47bb54e83abd422831cbd4f441bd30fd18bd15/flights_small.csv\n",
            "Resolving assets.datacamp.com (assets.datacamp.com)... 13.225.62.126, 13.225.62.110, 13.225.62.106, ...\n",
            "Connecting to assets.datacamp.com (assets.datacamp.com)|13.225.62.126|:443... connected.\n",
            "HTTP request sent, awaiting response... 200 OK\n",
            "Length: 614174 (600K)\n",
            "Saving to: ‘/tmp/flights.csv’\n",
            "\n",
            "/tmp/flights.csv    100%[===================>] 599.78K  1.08MB/s    in 0.5s    \n",
            "\n",
            "2020-04-18 01:10:47 (1.08 MB/s) - ‘/tmp/flights.csv’ saved [614174/614174]\n",
            "\n",
            "--2020-04-18 01:10:49--  https://assets.datacamp.com/production/repositories/1237/datasets/231480a2696c55fde829ce76d936596123f12c0c/planes.csv\n",
            "Resolving assets.datacamp.com (assets.datacamp.com)... 13.225.62.9, 13.225.62.126, 13.225.62.106, ...\n",
            "Connecting to assets.datacamp.com (assets.datacamp.com)|13.225.62.9|:443... connected.\n",
            "HTTP request sent, awaiting response... 200 OK\n",
            "Length: 219326 (214K)\n",
            "Saving to: ‘/tmp/planes.csv’\n",
            "\n",
            "/tmp/planes.csv     100%[===================>] 214.19K   242KB/s    in 0.9s    \n",
            "\n",
            "2020-04-18 01:10:50 (242 KB/s) - ‘/tmp/planes.csv’ saved [219326/219326]\n",
            "\n"
          ],
          "name": "stdout"
        }
      ]
    },
    {
      "cell_type": "markdown",
      "metadata": {
        "id": "bNn5MSMQAdNo",
        "colab_type": "text"
      },
      "source": [
        "## Using DataFrames\n",
        "Spark's core data structure is the **Resilient Distributed Dataset (RDD)**. This is a low level object that lets Spark work its magic by splitting data across multiple nodes in the cluster. However, RDDs are hard to work with directly, so in this notebook we'll be using the Spark DataFrame abstraction built on top of RDDs.\n",
        "\n",
        "The Spark DataFrame was designed to behave a lot like a SQL table (a table with variables in the columns and observations in the rows). Not only are they easier to understand, DataFrames are also more optimized for complicated operations than RDDs.\n",
        "\n",
        "When you start modifying and combining columns and rows of data, there are many ways to arrive at the same result, but some often take much longer than others. When using RDDs, it's up to the data scientist to figure out the right way to optimize the query, but the DataFrame implementation has much of this optimization built in!\n",
        "\n",
        "To start working with Spark DataFrames, you first have to create a `SparkSession` object from your `SparkContext`. You can think of the `SparkContext` as your connection to the cluster and the `SparkSession` as your interface with that connection.\n",
        "\n",
        "Remember, for the rest of the notebook, we'll have a `SparkSession` called `spark` available in our workspace!"
      ]
    },
    {
      "cell_type": "markdown",
      "metadata": {
        "id": "i9Hg21g9B9Uy",
        "colab_type": "text"
      },
      "source": [
        "## Creating a SparkSession\n",
        "We'll have a `SparkSession` called `spark`, but what if you're not sure there already is one? Creating multiple SparkSessions and SparkContexts can cause issues, so it's best practice to use the `SparkSession.builder.getOrCreate()` method. This returns an existing `SparkSession` if there's already one in the environment, or creates a new one if necessary!"
      ]
    },
    {
      "cell_type": "code",
      "metadata": {
        "id": "DZis7n7UAcmM",
        "colab_type": "code",
        "outputId": "6829696a-3a8a-4fcd-f312-c5b07b697c9d",
        "colab": {
          "base_uri": "https://localhost:8080/",
          "height": 34
        }
      },
      "source": [
        "from pyspark.sql import SparkSession\n",
        "\n",
        "# Creating a new PySpark Session\n",
        "my_spark = SparkSession.builder.getOrCreate()\n",
        "print(my_spark)"
      ],
      "execution_count": 0,
      "outputs": [
        {
          "output_type": "stream",
          "text": [
            "<pyspark.sql.session.SparkSession object at 0x7f8b59e66710>\n"
          ],
          "name": "stdout"
        }
      ]
    },
    {
      "cell_type": "markdown",
      "metadata": {
        "id": "fruT1PGu_aWW",
        "colab_type": "text"
      },
      "source": [
        "---"
      ]
    },
    {
      "cell_type": "markdown",
      "metadata": {
        "id": "X3wStikOWFo6",
        "colab_type": "text"
      },
      "source": [
        "## Reading a CSV into a spark DataFrame"
      ]
    },
    {
      "cell_type": "code",
      "metadata": {
        "id": "HbKrJBcYWE9N",
        "colab_type": "code",
        "outputId": "8621718a-14c4-45f9-f80f-4263bfdea652",
        "colab": {
          "base_uri": "https://localhost:8080/",
          "height": 34
        }
      },
      "source": [
        "flights = spark.read.format(\"csv\").option(\"header\", \"true\").load('/tmp/flights.csv')\n",
        "print(type(flights))"
      ],
      "execution_count": 0,
      "outputs": [
        {
          "output_type": "stream",
          "text": [
            "<class 'pyspark.sql.dataframe.DataFrame'>\n"
          ],
          "name": "stdout"
        }
      ]
    },
    {
      "cell_type": "markdown",
      "metadata": {
        "id": "B-xKqgVqY4QM",
        "colab_type": "text"
      },
      "source": [
        "### Printing top `n` rows of the Spark DataFrame\n",
        "We use the `.show()` method on the DataFrame to fetch the top `n` rows. By default `n = 20`\n"
      ]
    },
    {
      "cell_type": "code",
      "metadata": {
        "id": "XupyvlS5X_d-",
        "colab_type": "code",
        "outputId": "2a7a20cd-a040-4a6d-ec72-4eb7e98daa2e",
        "colab": {
          "base_uri": "https://localhost:8080/",
          "height": 487
        }
      },
      "source": [
        "flights.show(n=22)"
      ],
      "execution_count": 0,
      "outputs": [
        {
          "output_type": "stream",
          "text": [
            "+----+-----+---+--------+---------+--------+---------+-------+-------+------+------+----+--------+--------+----+------+\n",
            "|year|month|day|dep_time|dep_delay|arr_time|arr_delay|carrier|tailnum|flight|origin|dest|air_time|distance|hour|minute|\n",
            "+----+-----+---+--------+---------+--------+---------+-------+-------+------+------+----+--------+--------+----+------+\n",
            "|2014|   12|  8|     658|       -7|     935|       -5|     VX| N846VA|  1780|   SEA| LAX|     132|     954|   6|    58|\n",
            "|2014|    1| 22|    1040|        5|    1505|        5|     AS| N559AS|   851|   SEA| HNL|     360|    2677|  10|    40|\n",
            "|2014|    3|  9|    1443|       -2|    1652|        2|     VX| N847VA|   755|   SEA| SFO|     111|     679|  14|    43|\n",
            "|2014|    4|  9|    1705|       45|    1839|       34|     WN| N360SW|   344|   PDX| SJC|      83|     569|  17|     5|\n",
            "|2014|    3|  9|     754|       -1|    1015|        1|     AS| N612AS|   522|   SEA| BUR|     127|     937|   7|    54|\n",
            "|2014|    1| 15|    1037|        7|    1352|        2|     WN| N646SW|    48|   PDX| DEN|     121|     991|  10|    37|\n",
            "|2014|    7|  2|     847|       42|    1041|       51|     WN| N422WN|  1520|   PDX| OAK|      90|     543|   8|    47|\n",
            "|2014|    5| 12|    1655|       -5|    1842|      -18|     VX| N361VA|   755|   SEA| SFO|      98|     679|  16|    55|\n",
            "|2014|    4| 19|    1236|       -4|    1508|       -7|     AS| N309AS|   490|   SEA| SAN|     135|    1050|  12|    36|\n",
            "|2014|   11| 19|    1812|       -3|    2352|       -4|     AS| N564AS|    26|   SEA| ORD|     198|    1721|  18|    12|\n",
            "|2014|   11|  8|    1653|       -2|    1924|       -1|     AS| N323AS|   448|   SEA| LAX|     130|     954|  16|    53|\n",
            "|2014|    8|  3|    1120|        0|    1415|        2|     AS| N305AS|   656|   SEA| PHX|     154|    1107|  11|    20|\n",
            "|2014|   10| 30|     811|       21|    1038|       29|     AS| N433AS|   608|   SEA| LAS|     127|     867|   8|    11|\n",
            "|2014|   11| 12|    2346|       -4|     217|      -28|     AS| N765AS|   121|   SEA| ANC|     183|    1448|  23|    46|\n",
            "|2014|   10| 31|    1314|       89|    1544|      111|     AS| N713AS|   306|   SEA| SFO|     129|     679|  13|    14|\n",
            "|2014|    1| 29|    2009|        3|    2159|        9|     UA| N27205|  1458|   PDX| SFO|      90|     550|  20|     9|\n",
            "|2014|   12| 17|    2015|       50|    2150|       41|     AS| N626AS|   368|   SEA| SMF|      76|     605|  20|    15|\n",
            "|2014|    8| 11|    1017|       -3|    1613|       -7|     WN| N8634A|   827|   SEA| MDW|     216|    1733|  10|    17|\n",
            "|2014|    1| 13|    2156|       -9|     607|      -15|     AS| N597AS|    24|   SEA| BOS|     290|    2496|  21|    56|\n",
            "|2014|    6|  5|    1733|      -12|    1945|      -10|     OO| N215AG|  3488|   PDX| BUR|     111|     817|  17|    33|\n",
            "|2014|    7| 27|    2105|       15|    2316|       21|     AS| N519AS|   300|   SEA| SFO|     106|     679|  21|     5|\n",
            "|2014|    9| 26|     610|       -5|    1523|       65|     US| N127UW|   616|   SEA| PHL|     293|    2378|   6|    10|\n",
            "+----+-----+---+--------+---------+--------+---------+-------+-------+------+------+----+--------+--------+----+------+\n",
            "only showing top 22 rows\n",
            "\n"
          ],
          "name": "stdout"
        }
      ]
    },
    {
      "cell_type": "markdown",
      "metadata": {
        "id": "5THajZL_YEMr",
        "colab_type": "text"
      },
      "source": [
        "## Selecting data\n",
        "### Selecting only specific column(s)\n",
        "\n",
        "Passing the name of the column or a list of column\n",
        " names to the `.select()` method will return the desired columns only\n"
      ]
    },
    {
      "cell_type": "code",
      "metadata": {
        "id": "P-OcX4maYInM",
        "colab_type": "code",
        "outputId": "d8254d57-8700-4b54-c0ad-1692621a0143",
        "colab": {
          "base_uri": "https://localhost:8080/",
          "height": 454
        }
      },
      "source": [
        "flights.select(['carrier', 'origin']).show()"
      ],
      "execution_count": 0,
      "outputs": [
        {
          "output_type": "stream",
          "text": [
            "+-------+------+\n",
            "|carrier|origin|\n",
            "+-------+------+\n",
            "|     VX|   SEA|\n",
            "|     AS|   SEA|\n",
            "|     VX|   SEA|\n",
            "|     WN|   PDX|\n",
            "|     AS|   SEA|\n",
            "|     WN|   PDX|\n",
            "|     WN|   PDX|\n",
            "|     VX|   SEA|\n",
            "|     AS|   SEA|\n",
            "|     AS|   SEA|\n",
            "|     AS|   SEA|\n",
            "|     AS|   SEA|\n",
            "|     AS|   SEA|\n",
            "|     AS|   SEA|\n",
            "|     AS|   SEA|\n",
            "|     UA|   PDX|\n",
            "|     AS|   SEA|\n",
            "|     WN|   SEA|\n",
            "|     AS|   SEA|\n",
            "|     OO|   PDX|\n",
            "+-------+------+\n",
            "only showing top 20 rows\n",
            "\n"
          ],
          "name": "stdout"
        }
      ]
    },
    {
      "cell_type": "markdown",
      "metadata": {
        "id": "s_dBydw2Zx8t",
        "colab_type": "text"
      },
      "source": [
        "### Selecting everybody, but applying some transformation on the column\n",
        "Selecting `carrier`, `origin` and `air_time` columns and incrementing the values in the `air_time` by 50"
      ]
    },
    {
      "cell_type": "code",
      "metadata": {
        "id": "yaDRUeJHaHX2",
        "colab_type": "code",
        "outputId": "0c7b7005-da91-4fe5-b58e-fbe556013503",
        "colab": {
          "base_uri": "https://localhost:8080/",
          "height": 454
        }
      },
      "source": [
        "flights.select(flights['carrier'], flights['origin'],flights['air_time'] + 50).show()"
      ],
      "execution_count": 0,
      "outputs": [
        {
          "output_type": "stream",
          "text": [
            "+-------+------+---------------+\n",
            "|carrier|origin|(air_time + 50)|\n",
            "+-------+------+---------------+\n",
            "|     VX|   SEA|          182.0|\n",
            "|     AS|   SEA|          410.0|\n",
            "|     VX|   SEA|          161.0|\n",
            "|     WN|   PDX|          133.0|\n",
            "|     AS|   SEA|          177.0|\n",
            "|     WN|   PDX|          171.0|\n",
            "|     WN|   PDX|          140.0|\n",
            "|     VX|   SEA|          148.0|\n",
            "|     AS|   SEA|          185.0|\n",
            "|     AS|   SEA|          248.0|\n",
            "|     AS|   SEA|          180.0|\n",
            "|     AS|   SEA|          204.0|\n",
            "|     AS|   SEA|          177.0|\n",
            "|     AS|   SEA|          233.0|\n",
            "|     AS|   SEA|          179.0|\n",
            "|     UA|   PDX|          140.0|\n",
            "|     AS|   SEA|          126.0|\n",
            "|     WN|   SEA|          266.0|\n",
            "|     AS|   SEA|          340.0|\n",
            "|     OO|   PDX|          161.0|\n",
            "+-------+------+---------------+\n",
            "only showing top 20 rows\n",
            "\n"
          ],
          "name": "stdout"
        }
      ]
    },
    {
      "cell_type": "markdown",
      "metadata": {
        "id": "QBAlaZxNcdTg",
        "colab_type": "text"
      },
      "source": [
        "### Selecting data based on some condition\n",
        "We use the `.filter()` method on the Spark DataFrame and fetch the data based on the condition provided. "
      ]
    },
    {
      "cell_type": "code",
      "metadata": {
        "id": "Yn07IqdncmRm",
        "colab_type": "code",
        "outputId": "01ae1330-8225-4b0b-d733-cc81e1ccc428",
        "colab": {
          "base_uri": "https://localhost:8080/",
          "height": 454
        }
      },
      "source": [
        "flights.filter(flights['air_time'] > 200).show()"
      ],
      "execution_count": 0,
      "outputs": [
        {
          "output_type": "stream",
          "text": [
            "+----+-----+---+--------+---------+--------+---------+-------+-------+------+------+----+--------+--------+----+------+\n",
            "|year|month|day|dep_time|dep_delay|arr_time|arr_delay|carrier|tailnum|flight|origin|dest|air_time|distance|hour|minute|\n",
            "+----+-----+---+--------+---------+--------+---------+-------+-------+------+------+----+--------+--------+----+------+\n",
            "|2014|    1| 22|    1040|        5|    1505|        5|     AS| N559AS|   851|   SEA| HNL|     360|    2677|  10|    40|\n",
            "|2014|    8| 11|    1017|       -3|    1613|       -7|     WN| N8634A|   827|   SEA| MDW|     216|    1733|  10|    17|\n",
            "|2014|    1| 13|    2156|       -9|     607|      -15|     AS| N597AS|    24|   SEA| BOS|     290|    2496|  21|    56|\n",
            "|2014|    9| 26|     610|       -5|    1523|       65|     US| N127UW|   616|   SEA| PHL|     293|    2378|   6|    10|\n",
            "|2014|   12|  4|     954|       -6|    1348|      -17|     HA| N395HA|    29|   SEA| OGG|     333|    2640|   9|    54|\n",
            "|2014|    6|  7|    1823|       -7|    2112|      -28|     AS| N512AS|   815|   SEA| LIH|     335|    2701|  18|    23|\n",
            "|2014|    4| 30|     801|        1|    1757|       90|     AS| N407AS|    18|   SEA| MCO|     342|    2554|   8|     1|\n",
            "|2014|   11| 29|     905|      155|    1655|      170|     DL| N824DN|  1598|   SEA| ATL|     229|    2182|   9|     5|\n",
            "|2014|   10| 20|    1328|       -1|    1949|        4|     UA| N68805|  1212|   SEA| IAH|     228|    1874|  13|    28|\n",
            "|2014|    3| 13|    2201|        1|     554|      -14|     UA| N37468|  1275|   SEA| EWR|     268|    2402|  22|     1|\n",
            "|2014|    9|  4|     830|       -5|    1647|      -23|     AS| N583AS|    12|   SEA| BOS|     285|    2496|   8|    30|\n",
            "|2014|    5| 22|    1018|       -3|    1621|        1|     UA| N559UA|   732|   PDX| ORD|     211|    1739|  10|    18|\n",
            "|2014|    2| 18|     554|       -1|    1151|      -19|     UA| N37419|  1445|   SEA| IAH|     203|    1874|   5|    54|\n",
            "|2014|    4|  1|    1010|       -5|    1258|      -17|     HA| N381HA|    25|   PDX| HNL|     328|    2603|  10|    10|\n",
            "|2014|   12| 26|    2337|        0|     741|       -1|     DL| N3760C|  1358|   PDX| JFK|     274|    2454|  23|    37|\n",
            "|2014|    6| 29|    1347|        3|    2016|       14|     UA| N848UA|   475|   SEA| IAH|     215|    1874|  13|    47|\n",
            "|2014|    8| 23|     831|       -4|    1639|       -3|     AS| N435AS|    32|   SEA| PHL|     285|    2378|   8|    31|\n",
            "|2014|   10| 15|    2244|        5|     607|        3|     DL| N816DN|  2497|   PDX| ATL|     233|    2172|  22|    44|\n",
            "|2014|    4| 12|    1248|       -2|    1836|      -14|     UA| N435UA|   464|   PDX| ORD|     212|    1739|  12|    48|\n",
            "|2014|   12|  1|    2210|        0|     124|       11|     AS| N538AS|   143|   PDX| ANC|     225|    1542|  22|    10|\n",
            "+----+-----+---+--------+---------+--------+---------+-------+-------+------+------+----+--------+--------+----+------+\n",
            "only showing top 20 rows\n",
            "\n"
          ],
          "name": "stdout"
        }
      ]
    },
    {
      "cell_type": "markdown",
      "metadata": {
        "id": "fvCMnwQRtv2Y",
        "colab_type": "text"
      },
      "source": [
        "We would like to know how many flights originated from Seattle and Portland respectively."
      ]
    },
    {
      "cell_type": "code",
      "metadata": {
        "id": "EqeJXfOYiBpa",
        "colab_type": "code",
        "outputId": "63044167-eb74-4b16-e3c9-707113df0b6b",
        "colab": {
          "base_uri": "https://localhost:8080/",
          "height": 134
        }
      },
      "source": [
        "flights.groupby('origin').count().show()"
      ],
      "execution_count": 0,
      "outputs": [
        {
          "output_type": "stream",
          "text": [
            "+------+-----+\n",
            "|origin|count|\n",
            "+------+-----+\n",
            "|   SEA| 6754|\n",
            "|   PDX| 3246|\n",
            "+------+-----+\n",
            "\n"
          ],
          "name": "stdout"
        }
      ]
    },
    {
      "cell_type": "markdown",
      "metadata": {
        "id": "pa2nX-mvYlAx",
        "colab_type": "text"
      },
      "source": [
        "### Printing the schema"
      ]
    },
    {
      "cell_type": "code",
      "metadata": {
        "id": "y_DTbreZXudO",
        "colab_type": "code",
        "outputId": "46623e33-6c64-4a04-a450-b0a9a338f02d",
        "colab": {
          "base_uri": "https://localhost:8080/",
          "height": 319
        }
      },
      "source": [
        "flights.printSchema()"
      ],
      "execution_count": 0,
      "outputs": [
        {
          "output_type": "stream",
          "text": [
            "root\n",
            " |-- year: string (nullable = true)\n",
            " |-- month: string (nullable = true)\n",
            " |-- day: string (nullable = true)\n",
            " |-- dep_time: string (nullable = true)\n",
            " |-- dep_delay: string (nullable = true)\n",
            " |-- arr_time: string (nullable = true)\n",
            " |-- arr_delay: string (nullable = true)\n",
            " |-- carrier: string (nullable = true)\n",
            " |-- tailnum: string (nullable = true)\n",
            " |-- flight: string (nullable = true)\n",
            " |-- origin: string (nullable = true)\n",
            " |-- dest: string (nullable = true)\n",
            " |-- air_time: string (nullable = true)\n",
            " |-- distance: string (nullable = true)\n",
            " |-- hour: string (nullable = true)\n",
            " |-- minute: string (nullable = true)\n",
            "\n"
          ],
          "name": "stdout"
        }
      ]
    },
    {
      "cell_type": "markdown",
      "metadata": {
        "id": "bN2h29l-oC3s",
        "colab_type": "text"
      },
      "source": [
        "## Creating Tables\n",
        "The `.createDataFrame()` method takes a `pandas` DataFrame and returns a Spark DataFrame.\n",
        "\n",
        "The output of this method is stored locally, not in the `SparkSession` `catalog`. This means that you can use all the Spark DataFrame methods on it, but you can't access the data in other contexts.\n",
        "\n",
        "For example, a SQL query (using the `.sql()` method) that references your DataFrame will throw an error. To access the data in this way, you have to save it as a temporary table.\n",
        "\n",
        "You can do this using the `.createTempView()` Spark DataFrame method, which takes as its only argument the name of the temporary table you'd like to register. This method registers the DataFrame as a table in the catalog, but as this table is temporary, it can only be accessed from the specific `SparkSession` used to create the Spark DataFrame.\n",
        "\n",
        "There is also the method `.createOrReplaceTempView()`. This safely creates a new temporary table if nothing was there before, or updates an existing table if one was already defined. You'll use this method to avoid running into problems with duplicate tables.\n",
        "\n",
        "Check out the diagram to see all the different ways your Spark data structures interact with each other.\n",
        "\n",
        "![alt](https://s3.amazonaws.com/assets.datacamp.com/production/course_4452/datasets/spark_figure.png)"
      ]
    },
    {
      "cell_type": "markdown",
      "metadata": {
        "id": "U3C9vVDgC8zo",
        "colab_type": "text"
      },
      "source": [
        "## Viewing Tables\n",
        "Now that we have created a `SparkSession`, we can start poking around to see what data is in our cluster!\n",
        "\n",
        "Our `SparkSession` has an attribute called `catalog` which lists all the data inside the cluster. This attribute has a few methods for extracting different pieces of information.\n",
        "\n",
        "One of the most useful is the `.listTables()` method, which returns the names of all the tables in your cluster as a list."
      ]
    },
    {
      "cell_type": "code",
      "metadata": {
        "id": "1XSRC6WbDYTe",
        "colab_type": "code",
        "outputId": "02e3f34f-8206-4af6-ae9a-70d8c95d79cd",
        "colab": {
          "base_uri": "https://localhost:8080/",
          "height": 34
        }
      },
      "source": [
        "print(spark.catalog.listTables()) # Output -> []"
      ],
      "execution_count": 0,
      "outputs": [
        {
          "output_type": "stream",
          "text": [
            "[]\n"
          ],
          "name": "stdout"
        }
      ]
    },
    {
      "cell_type": "markdown",
      "metadata": {
        "id": "Bm0uszt2jtZK",
        "colab_type": "text"
      },
      "source": [
        "This just printed an empty list. That is because even though we have a variable storing a Spark DataFrame in memory, we do not have any Tables or Views in the Spark context.\n",
        "\n",
        "\n",
        "Creating a new 'temporary view' from the `flights` Spark DataFrame and adding it to the catalog by the name `'flights'`"
      ]
    },
    {
      "cell_type": "code",
      "metadata": {
        "id": "J1iStUiXjhrK",
        "colab_type": "code",
        "colab": {}
      },
      "source": [
        "flights.createOrReplaceTempView(\"flights\")"
      ],
      "execution_count": 0,
      "outputs": []
    },
    {
      "cell_type": "markdown",
      "metadata": {
        "id": "fOgwt7WUknX0",
        "colab_type": "text"
      },
      "source": [
        "Now when we list the tables present in the catalog, we should get our newly created temporary table in the results."
      ]
    },
    {
      "cell_type": "code",
      "metadata": {
        "id": "EVOFVeppjo8B",
        "colab_type": "code",
        "outputId": "5591452d-2d84-445e-87ed-2f4983649d31",
        "colab": {
          "base_uri": "https://localhost:8080/",
          "height": 34
        }
      },
      "source": [
        "print(spark.catalog.listTables()) # Output -> [Table(name='flights', database=None, description=None, tableType='TEMPORARY', isTemporary=True)]"
      ],
      "execution_count": 0,
      "outputs": [
        {
          "output_type": "stream",
          "text": [
            "[Table(name='flights', database=None, description=None, tableType='TEMPORARY', isTemporary=True)]\n"
          ],
          "name": "stdout"
        }
      ]
    },
    {
      "cell_type": "markdown",
      "metadata": {
        "id": "2PHy3nH3-ZQ-",
        "colab_type": "text"
      },
      "source": [
        "### Are you query-ious?\n",
        "One of the advantages of the DataFrame interface is that you can run SQL queries on the tables in your Spark cluster.\n",
        "\n",
        "As you saw in the last exercise, one of the tables in your cluster is the `flights` table. This table contains a row for every flight that left Portland International Airport (PDX) or Seattle-Tacoma International Airport (SEA) in 2014 and 2015.\n",
        "\n",
        "Running a query on this table is as easy as using the `.sql()` method on your `SparkSession`. This method takes a string containing the query and returns a DataFrame with the results!\n",
        "\n",
        "If you look closely, you'll notice that the table `flights` is only mentioned in the query, not as an argument to any of the methods. This is because there isn't a local object in your environment that holds that data, so it wouldn't make sense to pass the table as an argument.\n",
        "\n",
        "Before that, we'll create a `SparkSession` called `spark`."
      ]
    },
    {
      "cell_type": "code",
      "metadata": {
        "id": "klco-mvQ_rrO",
        "colab_type": "code",
        "outputId": "ecd27a5e-f84f-4df1-a446-a955d5b9549e",
        "colab": {
          "base_uri": "https://localhost:8080/",
          "height": 269
        }
      },
      "source": [
        "from pyspark.sql import SparkSession\n",
        "\n",
        "spark = SparkSession.builder.getOrCreate()\n",
        "\n",
        "# Writing the query to fetch first 10 rows of flights\n",
        "query = 'FROM flights SELECT * LIMIT 10' # === SELECT * FROM flights LIMIT 10\n",
        "\n",
        "# Executing the query using the .sql() method of SparkSession\n",
        "flights10 = spark.sql(query)\n",
        "\n",
        "# Using the DataFrame method .show() to print flights10\n",
        "flights10.show()"
      ],
      "execution_count": 0,
      "outputs": [
        {
          "output_type": "stream",
          "text": [
            "+----+-----+---+--------+---------+--------+---------+-------+-------+------+------+----+--------+--------+----+------+\n",
            "|year|month|day|dep_time|dep_delay|arr_time|arr_delay|carrier|tailnum|flight|origin|dest|air_time|distance|hour|minute|\n",
            "+----+-----+---+--------+---------+--------+---------+-------+-------+------+------+----+--------+--------+----+------+\n",
            "|2014|   12|  8|     658|       -7|     935|       -5|     VX| N846VA|  1780|   SEA| LAX|     132|     954|   6|    58|\n",
            "|2014|    1| 22|    1040|        5|    1505|        5|     AS| N559AS|   851|   SEA| HNL|     360|    2677|  10|    40|\n",
            "|2014|    3|  9|    1443|       -2|    1652|        2|     VX| N847VA|   755|   SEA| SFO|     111|     679|  14|    43|\n",
            "|2014|    4|  9|    1705|       45|    1839|       34|     WN| N360SW|   344|   PDX| SJC|      83|     569|  17|     5|\n",
            "|2014|    3|  9|     754|       -1|    1015|        1|     AS| N612AS|   522|   SEA| BUR|     127|     937|   7|    54|\n",
            "|2014|    1| 15|    1037|        7|    1352|        2|     WN| N646SW|    48|   PDX| DEN|     121|     991|  10|    37|\n",
            "|2014|    7|  2|     847|       42|    1041|       51|     WN| N422WN|  1520|   PDX| OAK|      90|     543|   8|    47|\n",
            "|2014|    5| 12|    1655|       -5|    1842|      -18|     VX| N361VA|   755|   SEA| SFO|      98|     679|  16|    55|\n",
            "|2014|    4| 19|    1236|       -4|    1508|       -7|     AS| N309AS|   490|   SEA| SAN|     135|    1050|  12|    36|\n",
            "|2014|   11| 19|    1812|       -3|    2352|       -4|     AS| N564AS|    26|   SEA| ORD|     198|    1721|  18|    12|\n",
            "+----+-----+---+--------+---------+--------+---------+-------+-------+------+------+----+--------+--------+----+------+\n",
            "\n"
          ],
          "name": "stdout"
        }
      ]
    },
    {
      "cell_type": "markdown",
      "metadata": {
        "id": "563BqvcMBT-G",
        "colab_type": "text"
      },
      "source": [
        "\n",
        "\n",
        "---\n"
      ]
    },
    {
      "cell_type": "markdown",
      "metadata": {
        "id": "bR0OtZ5NBW6r",
        "colab_type": "text"
      },
      "source": [
        "### Panda-fying a Spark DataFrame\n",
        "\n",
        "Suppose you've run a query on your huge dataset and aggregated it down to something a little more manageable.\n",
        "\n",
        "Sometimes it makes sense to then take that table and work with it locally using a tool like `pandas`. Spark DataFrames make that easy with the `.toPandas()` method. Calling this method on a Spark DataFrame returns the corresponding `pandas` DataFrame. It's as simple as that!\n",
        "\n",
        "This time the query counts the number of flights to each airport from SEA and PDX.\n",
        "\n",
        "Ofcourse, we shall first create a `SparkSession` called `spark` in our workspace!"
      ]
    },
    {
      "cell_type": "code",
      "metadata": {
        "id": "7qrur4UrB1rN",
        "colab_type": "code",
        "outputId": "1b97ccf9-dcc2-4075-d685-914ccf02020c",
        "colab": {
          "base_uri": "https://localhost:8080/",
          "height": 118
        }
      },
      "source": [
        "from pyspark.sql import SparkSession\n",
        "\n",
        "spark = SparkSession.builder.getOrCreate()\n",
        "\n",
        "query = 'SELECT origin, dest, COUNT(*) AS N FROM flights GROUP BY origin, dest'\n",
        "\n",
        "# Running the query\n",
        "flight_counts = spark.sql(query)\n",
        "\n",
        "# Conerting the resulting table into a Pandas DataFrame\n",
        "pd_counts = flight_counts.toPandas()\n",
        "\n",
        "# Print the head of pd_counts\n",
        "print(pd_counts.head())"
      ],
      "execution_count": 0,
      "outputs": [
        {
          "output_type": "stream",
          "text": [
            "  origin dest    N\n",
            "0    SEA  RNO    8\n",
            "1    SEA  DTW   98\n",
            "2    SEA  CLE    2\n",
            "3    SEA  LAX  450\n",
            "4    PDX  SEA  144\n"
          ],
          "name": "stdout"
        }
      ]
    },
    {
      "cell_type": "markdown",
      "metadata": {
        "id": "CB1w281IGRw0",
        "colab_type": "text"
      },
      "source": [
        "---\n",
        "### Creating a Spark DataFrame from a Pandas DataFrame\n",
        "Spark DataFrame can be created by calling the `spark.createDataFrame()` function with the `pandas` DataFrame as the argument"
      ]
    },
    {
      "cell_type": "code",
      "metadata": {
        "id": "_3fslT5YJQu0",
        "colab_type": "code",
        "outputId": "3e144949-c4f5-4ca2-d618-73ca4ea15c77",
        "colab": {
          "base_uri": "https://localhost:8080/",
          "height": 343
        }
      },
      "source": [
        "from pyspark.sql import SparkSession\n",
        "import numpy as np\n",
        "import pandas as pd\n",
        "\n",
        "# Creating a temporary pandas DataFrame\n",
        "pd_temp = pd.DataFrame(np.random.random(10))\n",
        "pd_temp"
      ],
      "execution_count": 0,
      "outputs": [
        {
          "output_type": "execute_result",
          "data": {
            "text/html": [
              "<div>\n",
              "<style scoped>\n",
              "    .dataframe tbody tr th:only-of-type {\n",
              "        vertical-align: middle;\n",
              "    }\n",
              "\n",
              "    .dataframe tbody tr th {\n",
              "        vertical-align: top;\n",
              "    }\n",
              "\n",
              "    .dataframe thead th {\n",
              "        text-align: right;\n",
              "    }\n",
              "</style>\n",
              "<table border=\"1\" class=\"dataframe\">\n",
              "  <thead>\n",
              "    <tr style=\"text-align: right;\">\n",
              "      <th></th>\n",
              "      <th>0</th>\n",
              "    </tr>\n",
              "  </thead>\n",
              "  <tbody>\n",
              "    <tr>\n",
              "      <th>0</th>\n",
              "      <td>0.254494</td>\n",
              "    </tr>\n",
              "    <tr>\n",
              "      <th>1</th>\n",
              "      <td>0.633873</td>\n",
              "    </tr>\n",
              "    <tr>\n",
              "      <th>2</th>\n",
              "      <td>0.699481</td>\n",
              "    </tr>\n",
              "    <tr>\n",
              "      <th>3</th>\n",
              "      <td>0.215531</td>\n",
              "    </tr>\n",
              "    <tr>\n",
              "      <th>4</th>\n",
              "      <td>0.420659</td>\n",
              "    </tr>\n",
              "    <tr>\n",
              "      <th>5</th>\n",
              "      <td>0.862715</td>\n",
              "    </tr>\n",
              "    <tr>\n",
              "      <th>6</th>\n",
              "      <td>0.181990</td>\n",
              "    </tr>\n",
              "    <tr>\n",
              "      <th>7</th>\n",
              "      <td>0.486184</td>\n",
              "    </tr>\n",
              "    <tr>\n",
              "      <th>8</th>\n",
              "      <td>0.668209</td>\n",
              "    </tr>\n",
              "    <tr>\n",
              "      <th>9</th>\n",
              "      <td>0.608704</td>\n",
              "    </tr>\n",
              "  </tbody>\n",
              "</table>\n",
              "</div>"
            ],
            "text/plain": [
              "          0\n",
              "0  0.254494\n",
              "1  0.633873\n",
              "2  0.699481\n",
              "3  0.215531\n",
              "4  0.420659\n",
              "5  0.862715\n",
              "6  0.181990\n",
              "7  0.486184\n",
              "8  0.668209\n",
              "9  0.608704"
            ]
          },
          "metadata": {
            "tags": []
          },
          "execution_count": 19
        }
      ]
    },
    {
      "cell_type": "code",
      "metadata": {
        "id": "H0_pwe44y7Up",
        "colab_type": "code",
        "outputId": "97c9af76-241e-431a-a7e7-2119f42d98b2",
        "colab": {
          "base_uri": "https://localhost:8080/",
          "height": 70
        }
      },
      "source": [
        "spark = SparkSession.builder.getOrCreate()\n",
        "\n",
        "# Creating a Spark DataFrame called spark_temp by calling the .createDataFrame() method with pd_temp as the argument\n",
        "spark_temp = spark.createDataFrame(pd_temp)\n",
        "\n",
        "# Examing the tables in the catalog\n",
        "print(spark.catalog.listTables()) # OUTPUT -> # [Table(name='flights', database=None, description=None, tableType='TEMPORARY', isTemporary=True)]\n",
        "# Note that it DOES NOT have the newly created spark_temp table as this is only created locally and not in the spark catalog\n",
        "\n",
        "# Registering spark_temp as a temporary table names 'temp' using the createOrReplaceTempView() method. The name of the table is set by passing the desired name as an argument to the method\n",
        "spark_temp.createOrReplaceTempView('temp')\n",
        "\n",
        "# Examining the list of tables once again. This time, it will list our newly created temp DataFrame as a table\n",
        "print(spark.catalog.listTables()) \n",
        "# OUTPUT-> [Table(name='flights', database=None, description=None, tableType='TEMPORARY', isTemporary=True), Table(name='temp', database=None, description=None, tableType='TEMPORARY', isTemporary=True)]"
      ],
      "execution_count": 0,
      "outputs": [
        {
          "output_type": "stream",
          "text": [
            "[Table(name='flights', database=None, description=None, tableType='TEMPORARY', isTemporary=True)]\n",
            "[Table(name='flights', database=None, description=None, tableType='TEMPORARY', isTemporary=True), Table(name='temp', database=None, description=None, tableType='TEMPORARY', isTemporary=True)]\n"
          ],
          "name": "stdout"
        }
      ]
    },
    {
      "cell_type": "markdown",
      "metadata": {
        "id": "ZsZYtRssNur2",
        "colab_type": "text"
      },
      "source": [
        "---\n"
      ]
    },
    {
      "cell_type": "markdown",
      "metadata": {
        "id": "2lOAibbQNzcw",
        "colab_type": "text"
      },
      "source": [
        "### Dropping the middle man\n",
        "Now you know how to put data into Spark via `pandas`, but you're probably wondering why deal with `pandas` at all? Wouldn't it be easier to just read a text file straight into Spark? Of course it would!\n",
        "\n",
        "Luckily, your `SparkSession` has a `.read` attribute which has several methods for reading different data sources into Spark DataFrames. Using these you can create a DataFrame from a .csv file just like with regular pandas DataFrames!\n",
        "\n",
        "The variable `file_path` is a string with the path to the file `airports.csv`. This file contains information about different airports all over the world."
      ]
    },
    {
      "cell_type": "code",
      "metadata": {
        "id": "-tBV9l32QBo4",
        "colab_type": "code",
        "outputId": "022a92cd-9c61-46d8-b3a2-fba518b0d64e",
        "colab": {
          "base_uri": "https://localhost:8080/",
          "height": 470
        }
      },
      "source": [
        "spark = SparkSession.builder.getOrCreate()\n",
        "\n",
        "file_path = '/tmp/airports.csv'\n",
        "\n",
        "# Reading the CSV file into a Spark DataFrame\n",
        "airports = spark.read.csv(file_path, header=True)\n",
        "print(type(airports)) # Note the Datatype is <class 'pyspark.sql.dataframe.DataFrame'>\n",
        "\n",
        "# Show the data\n",
        "airports.show()"
      ],
      "execution_count": 0,
      "outputs": [
        {
          "output_type": "stream",
          "text": [
            "<class 'pyspark.sql.dataframe.DataFrame'>\n",
            "+---+--------------------+----------------+-----------------+----+---+---+\n",
            "|faa|                name|             lat|              lon| alt| tz|dst|\n",
            "+---+--------------------+----------------+-----------------+----+---+---+\n",
            "|04G|   Lansdowne Airport|      41.1304722|      -80.6195833|1044| -5|  A|\n",
            "|06A|Moton Field Munic...|      32.4605722|      -85.6800278| 264| -5|  A|\n",
            "|06C| Schaumburg Regional|      41.9893408|      -88.1012428| 801| -6|  A|\n",
            "|06N|     Randall Airport|       41.431912|      -74.3915611| 523| -5|  A|\n",
            "|09J|Jekyll Island Air...|      31.0744722|      -81.4277778|  11| -4|  A|\n",
            "|0A9|Elizabethton Muni...|      36.3712222|      -82.1734167|1593| -4|  A|\n",
            "|0G6|Williams County A...|      41.4673056|      -84.5067778| 730| -5|  A|\n",
            "|0G7|Finger Lakes Regi...|      42.8835647|      -76.7812318| 492| -5|  A|\n",
            "|0P2|Shoestring Aviati...|      39.7948244|      -76.6471914|1000| -5|  U|\n",
            "|0S9|Jefferson County ...|      48.0538086|     -122.8106436| 108| -8|  A|\n",
            "|0W3|Harford County Ai...|      39.5668378|      -76.2024028| 409| -5|  A|\n",
            "|10C|  Galt Field Airport|      42.4028889|      -88.3751111| 875| -6|  U|\n",
            "|17G|Port Bucyrus-Craw...|      40.7815556|      -82.9748056|1003| -5|  A|\n",
            "|19A|Jackson County Ai...|      34.1758638|      -83.5615972| 951| -4|  U|\n",
            "|1A3|Martin Campbell F...|      35.0158056|      -84.3468333|1789| -4|  A|\n",
            "|1B9| Mansfield Municipal|      42.0001331|      -71.1967714| 122| -5|  A|\n",
            "|1C9|Frazier Lake Airpark|54.0133333333333|-124.768333333333| 152| -8|  A|\n",
            "|1CS|Clow Internationa...|      41.6959744|      -88.1292306| 670| -6|  U|\n",
            "|1G3|  Kent State Airport|      41.1513889|      -81.4151111|1134| -4|  A|\n",
            "|1OH|     Fortman Airport|      40.5553253|      -84.3866186| 885| -5|  U|\n",
            "+---+--------------------+----------------+-----------------+----+---+---+\n",
            "only showing top 20 rows\n",
            "\n"
          ],
          "name": "stdout"
        }
      ]
    },
    {
      "cell_type": "markdown",
      "metadata": {
        "id": "ya1Ojkc2UxT_",
        "colab_type": "text"
      },
      "source": [
        "\n",
        "\n",
        "---\n",
        "\n",
        "\n",
        "\n",
        "---\n",
        "\n"
      ]
    },
    {
      "cell_type": "markdown",
      "metadata": {
        "id": "dptCqiwl0fEi",
        "colab_type": "text"
      },
      "source": [
        "# Part 2: Manipulating data\n",
        "In this chapter, we'll learn about the pyspark.sql module, which provides optimized data queries to our Spark session."
      ]
    },
    {
      "cell_type": "markdown",
      "metadata": {
        "id": "9i06WeTWXDMn",
        "colab_type": "text"
      },
      "source": [
        "## Creating columns\n",
        "In this chapter, you'll learn how to use the methods defined by Spark's DataFrame class to perform common data operations.\n",
        "\n",
        "Let's look at performing column-wise operations. In Spark you can do this using the `.withColumn()` method, which takes two arguments. \n",
        "\n",
        "> 1) A string with the name of your new column\n",
        "\n",
        "> 2) Values for the new column\n",
        "\n",
        "The new column must be an object of class `Column`. Creating one of these is as easy as extracting a column from your DataFrame using `df.colName`.\n",
        "\n",
        "Updating a Spark DataFrame is somewhat different than working in `pandas` because the **Spark DataFrame is immutable**. This means that it can't be changed, and so columns can't be updated inplace.\n",
        "\n",
        "Thus, all these methods return a **new** DataFrame. To overwrite the original DataFrame you must reassign the returned DataFrame using the method like so:\n",
        "\n",
        "> `df = df.withColumn(\"newCol\", df.oldCol + 1)`\n",
        "\n",
        "The above code creates a DataFrame with the same columns as `df` plus a new column, `newCol`, where every entry is equal to the corresponding entry from `oldCol`, plus one.\n",
        "\n",
        "To overwrite an existing column, just pass the name of that particular column as the first argument!"
      ]
    },
    {
      "cell_type": "code",
      "metadata": {
        "id": "3YHUhZxj0r-t",
        "colab_type": "code",
        "outputId": "5e968623-017d-49bd-a4d1-8c20db664330",
        "colab": {
          "base_uri": "https://localhost:8080/",
          "height": 454
        }
      },
      "source": [
        "from pyspark.sql import SparkSession\n",
        "spark = SparkSession.builder.getOrCreate()\n",
        "\n",
        "# Pulling the flights from the catalog to create a Spark DataFrame containing the values of the flights.\n",
        "flights = spark.table('flights')\n",
        "\n",
        "# Show the head using .show() method. The column air_time contains the duration of the flight in minutes.\n",
        "flights.show()"
      ],
      "execution_count": 0,
      "outputs": [
        {
          "output_type": "stream",
          "text": [
            "+----+-----+---+--------+---------+--------+---------+-------+-------+------+------+----+--------+--------+----+------+\n",
            "|year|month|day|dep_time|dep_delay|arr_time|arr_delay|carrier|tailnum|flight|origin|dest|air_time|distance|hour|minute|\n",
            "+----+-----+---+--------+---------+--------+---------+-------+-------+------+------+----+--------+--------+----+------+\n",
            "|2014|   12|  8|     658|       -7|     935|       -5|     VX| N846VA|  1780|   SEA| LAX|     132|     954|   6|    58|\n",
            "|2014|    1| 22|    1040|        5|    1505|        5|     AS| N559AS|   851|   SEA| HNL|     360|    2677|  10|    40|\n",
            "|2014|    3|  9|    1443|       -2|    1652|        2|     VX| N847VA|   755|   SEA| SFO|     111|     679|  14|    43|\n",
            "|2014|    4|  9|    1705|       45|    1839|       34|     WN| N360SW|   344|   PDX| SJC|      83|     569|  17|     5|\n",
            "|2014|    3|  9|     754|       -1|    1015|        1|     AS| N612AS|   522|   SEA| BUR|     127|     937|   7|    54|\n",
            "|2014|    1| 15|    1037|        7|    1352|        2|     WN| N646SW|    48|   PDX| DEN|     121|     991|  10|    37|\n",
            "|2014|    7|  2|     847|       42|    1041|       51|     WN| N422WN|  1520|   PDX| OAK|      90|     543|   8|    47|\n",
            "|2014|    5| 12|    1655|       -5|    1842|      -18|     VX| N361VA|   755|   SEA| SFO|      98|     679|  16|    55|\n",
            "|2014|    4| 19|    1236|       -4|    1508|       -7|     AS| N309AS|   490|   SEA| SAN|     135|    1050|  12|    36|\n",
            "|2014|   11| 19|    1812|       -3|    2352|       -4|     AS| N564AS|    26|   SEA| ORD|     198|    1721|  18|    12|\n",
            "|2014|   11|  8|    1653|       -2|    1924|       -1|     AS| N323AS|   448|   SEA| LAX|     130|     954|  16|    53|\n",
            "|2014|    8|  3|    1120|        0|    1415|        2|     AS| N305AS|   656|   SEA| PHX|     154|    1107|  11|    20|\n",
            "|2014|   10| 30|     811|       21|    1038|       29|     AS| N433AS|   608|   SEA| LAS|     127|     867|   8|    11|\n",
            "|2014|   11| 12|    2346|       -4|     217|      -28|     AS| N765AS|   121|   SEA| ANC|     183|    1448|  23|    46|\n",
            "|2014|   10| 31|    1314|       89|    1544|      111|     AS| N713AS|   306|   SEA| SFO|     129|     679|  13|    14|\n",
            "|2014|    1| 29|    2009|        3|    2159|        9|     UA| N27205|  1458|   PDX| SFO|      90|     550|  20|     9|\n",
            "|2014|   12| 17|    2015|       50|    2150|       41|     AS| N626AS|   368|   SEA| SMF|      76|     605|  20|    15|\n",
            "|2014|    8| 11|    1017|       -3|    1613|       -7|     WN| N8634A|   827|   SEA| MDW|     216|    1733|  10|    17|\n",
            "|2014|    1| 13|    2156|       -9|     607|      -15|     AS| N597AS|    24|   SEA| BOS|     290|    2496|  21|    56|\n",
            "|2014|    6|  5|    1733|      -12|    1945|      -10|     OO| N215AG|  3488|   PDX| BUR|     111|     817|  17|    33|\n",
            "+----+-----+---+--------+---------+--------+---------+-------+-------+------+------+----+--------+--------+----+------+\n",
            "only showing top 20 rows\n",
            "\n"
          ],
          "name": "stdout"
        }
      ]
    },
    {
      "cell_type": "markdown",
      "metadata": {
        "id": "PrFJ7FK33X5y",
        "colab_type": "text"
      },
      "source": [
        "Verfying that the `spark.table()` method returns a Spark DataFrame"
      ]
    },
    {
      "cell_type": "code",
      "metadata": {
        "id": "7CNqrB2r3Q4F",
        "colab_type": "code",
        "outputId": "f484141e-5e9a-4373-b208-c045b9409747",
        "colab": {
          "base_uri": "https://localhost:8080/",
          "height": 34
        }
      },
      "source": [
        "type(flights)"
      ],
      "execution_count": 0,
      "outputs": [
        {
          "output_type": "execute_result",
          "data": {
            "text/plain": [
              "pyspark.sql.dataframe.DataFrame"
            ]
          },
          "metadata": {
            "tags": []
          },
          "execution_count": 23
        }
      ]
    },
    {
      "cell_type": "markdown",
      "metadata": {
        "id": "Rtai6lfF345F",
        "colab_type": "text"
      },
      "source": [
        "### The `.withColumn()` method\n",
        "We can manipulate a column, or add a new column to our Spark DataFrame by calling the `.withColumn()` method on the DataFrame.\n",
        "\n",
        "Now, we'll add another column `duration_hrs` to our DataFrame whose value is derived from the `air_time` column..."
      ]
    },
    {
      "cell_type": "code",
      "metadata": {
        "id": "Q_6Qyb50209j",
        "colab_type": "code",
        "outputId": "234aa054-b085-44cc-c910-eff5cb6a71ca",
        "colab": {
          "base_uri": "https://localhost:8080/",
          "height": 454
        }
      },
      "source": [
        "flights = flights.withColumn('duration_hrs', flights.air_time / 60)\n",
        "\n",
        "flights.show()"
      ],
      "execution_count": 0,
      "outputs": [
        {
          "output_type": "stream",
          "text": [
            "+----+-----+---+--------+---------+--------+---------+-------+-------+------+------+----+--------+--------+----+------+------------------+\n",
            "|year|month|day|dep_time|dep_delay|arr_time|arr_delay|carrier|tailnum|flight|origin|dest|air_time|distance|hour|minute|      duration_hrs|\n",
            "+----+-----+---+--------+---------+--------+---------+-------+-------+------+------+----+--------+--------+----+------+------------------+\n",
            "|2014|   12|  8|     658|       -7|     935|       -5|     VX| N846VA|  1780|   SEA| LAX|     132|     954|   6|    58|               2.2|\n",
            "|2014|    1| 22|    1040|        5|    1505|        5|     AS| N559AS|   851|   SEA| HNL|     360|    2677|  10|    40|               6.0|\n",
            "|2014|    3|  9|    1443|       -2|    1652|        2|     VX| N847VA|   755|   SEA| SFO|     111|     679|  14|    43|              1.85|\n",
            "|2014|    4|  9|    1705|       45|    1839|       34|     WN| N360SW|   344|   PDX| SJC|      83|     569|  17|     5|1.3833333333333333|\n",
            "|2014|    3|  9|     754|       -1|    1015|        1|     AS| N612AS|   522|   SEA| BUR|     127|     937|   7|    54|2.1166666666666667|\n",
            "|2014|    1| 15|    1037|        7|    1352|        2|     WN| N646SW|    48|   PDX| DEN|     121|     991|  10|    37|2.0166666666666666|\n",
            "|2014|    7|  2|     847|       42|    1041|       51|     WN| N422WN|  1520|   PDX| OAK|      90|     543|   8|    47|               1.5|\n",
            "|2014|    5| 12|    1655|       -5|    1842|      -18|     VX| N361VA|   755|   SEA| SFO|      98|     679|  16|    55|1.6333333333333333|\n",
            "|2014|    4| 19|    1236|       -4|    1508|       -7|     AS| N309AS|   490|   SEA| SAN|     135|    1050|  12|    36|              2.25|\n",
            "|2014|   11| 19|    1812|       -3|    2352|       -4|     AS| N564AS|    26|   SEA| ORD|     198|    1721|  18|    12|               3.3|\n",
            "|2014|   11|  8|    1653|       -2|    1924|       -1|     AS| N323AS|   448|   SEA| LAX|     130|     954|  16|    53|2.1666666666666665|\n",
            "|2014|    8|  3|    1120|        0|    1415|        2|     AS| N305AS|   656|   SEA| PHX|     154|    1107|  11|    20| 2.566666666666667|\n",
            "|2014|   10| 30|     811|       21|    1038|       29|     AS| N433AS|   608|   SEA| LAS|     127|     867|   8|    11|2.1166666666666667|\n",
            "|2014|   11| 12|    2346|       -4|     217|      -28|     AS| N765AS|   121|   SEA| ANC|     183|    1448|  23|    46|              3.05|\n",
            "|2014|   10| 31|    1314|       89|    1544|      111|     AS| N713AS|   306|   SEA| SFO|     129|     679|  13|    14|              2.15|\n",
            "|2014|    1| 29|    2009|        3|    2159|        9|     UA| N27205|  1458|   PDX| SFO|      90|     550|  20|     9|               1.5|\n",
            "|2014|   12| 17|    2015|       50|    2150|       41|     AS| N626AS|   368|   SEA| SMF|      76|     605|  20|    15|1.2666666666666666|\n",
            "|2014|    8| 11|    1017|       -3|    1613|       -7|     WN| N8634A|   827|   SEA| MDW|     216|    1733|  10|    17|               3.6|\n",
            "|2014|    1| 13|    2156|       -9|     607|      -15|     AS| N597AS|    24|   SEA| BOS|     290|    2496|  21|    56| 4.833333333333333|\n",
            "|2014|    6|  5|    1733|      -12|    1945|      -10|     OO| N215AG|  3488|   PDX| BUR|     111|     817|  17|    33|              1.85|\n",
            "+----+-----+---+--------+---------+--------+---------+-------+-------+------+------+----+--------+--------+----+------+------------------+\n",
            "only showing top 20 rows\n",
            "\n"
          ],
          "name": "stdout"
        }
      ]
    },
    {
      "cell_type": "markdown",
      "metadata": {
        "id": "fyytGL7Whq0V",
        "colab_type": "text"
      },
      "source": [
        "---"
      ]
    },
    {
      "cell_type": "markdown",
      "metadata": {
        "id": "3ZfLnVjFhrt0",
        "colab_type": "text"
      },
      "source": [
        "### Filtering Data\n",
        "Now that you have a bit of SQL know-how under your belt, it's easier to talk about the analogous operations using Spark DataFrames.\n",
        "\n",
        "Let's take a look at the `.filter()` method. As you might suspect, this is the Spark counterpart of SQL's WHERE clause. The `.filter()` method takes either an expression that would follow the WHERE clause of a SQL expression as a string, or a Spark Column of boolean (True/False) values.\n",
        "\n",
        "For example, the following two expressions will produce the same output:\n",
        "\n",
        "> `flights.filter(\"air_time > 120\").show()`\n",
        "\n",
        "> `flights.filter(flights.air_time > 120).show()`\n",
        "\n",
        "Notice that in the first case, we pass a **string** to `.filter()`. In SQL, we would write this filtering task as `SELECT * FROM flights WHERE air_time > 120`. Spark's `.filter()` can accept any expression that could go in the WHERE clause of a SQL query (in this case, `\"air_time > 120\"`), as long as it is passed as a string. Notice that in this case, we do not reference the name of the table in the string -- as we wouldn't in the SQL request.\n",
        "\n",
        "In the second case, we actually pass a **column of boolean values** to `.filter()`. Remember that `flights.air_time > 120` returns a column of boolean values that has True in place of those records in `flights.air_time` that are over 120, and False otherwise.\n",
        "\n",
        "Remember, a SparkSession called `spark` is already in your workspace, along with the Spark DataFrame `flights`."
      ]
    },
    {
      "cell_type": "code",
      "metadata": {
        "id": "iH93owQUkFQ4",
        "colab_type": "code",
        "outputId": "975b1b5c-7981-4aae-94cb-13971af5dce3",
        "colab": {
          "base_uri": "https://localhost:8080/",
          "height": 890
        }
      },
      "source": [
        "# Filter flights by passing a string to filter() method to find all flights that flew over 1000 miles distance.\n",
        "long_flights1 = flights.filter('distance > 1000')\n",
        "\n",
        "# Filter flights by passing a column of boolean values\n",
        "long_flights2 = flights.filter(flights.distance > 1000)\n",
        "\n",
        "# Print the data to check they're equal\n",
        "long_flights1.show()\n",
        "long_flights2.show()"
      ],
      "execution_count": 0,
      "outputs": [
        {
          "output_type": "stream",
          "text": [
            "+----+-----+---+--------+---------+--------+---------+-------+-------+------+------+----+--------+--------+----+------+------------------+\n",
            "|year|month|day|dep_time|dep_delay|arr_time|arr_delay|carrier|tailnum|flight|origin|dest|air_time|distance|hour|minute|      duration_hrs|\n",
            "+----+-----+---+--------+---------+--------+---------+-------+-------+------+------+----+--------+--------+----+------+------------------+\n",
            "|2014|    1| 22|    1040|        5|    1505|        5|     AS| N559AS|   851|   SEA| HNL|     360|    2677|  10|    40|               6.0|\n",
            "|2014|    4| 19|    1236|       -4|    1508|       -7|     AS| N309AS|   490|   SEA| SAN|     135|    1050|  12|    36|              2.25|\n",
            "|2014|   11| 19|    1812|       -3|    2352|       -4|     AS| N564AS|    26|   SEA| ORD|     198|    1721|  18|    12|               3.3|\n",
            "|2014|    8|  3|    1120|        0|    1415|        2|     AS| N305AS|   656|   SEA| PHX|     154|    1107|  11|    20| 2.566666666666667|\n",
            "|2014|   11| 12|    2346|       -4|     217|      -28|     AS| N765AS|   121|   SEA| ANC|     183|    1448|  23|    46|              3.05|\n",
            "|2014|    8| 11|    1017|       -3|    1613|       -7|     WN| N8634A|   827|   SEA| MDW|     216|    1733|  10|    17|               3.6|\n",
            "|2014|    1| 13|    2156|       -9|     607|      -15|     AS| N597AS|    24|   SEA| BOS|     290|    2496|  21|    56| 4.833333333333333|\n",
            "|2014|    9| 26|     610|       -5|    1523|       65|     US| N127UW|   616|   SEA| PHL|     293|    2378|   6|    10| 4.883333333333334|\n",
            "|2014|   12|  4|     954|       -6|    1348|      -17|     HA| N395HA|    29|   SEA| OGG|     333|    2640|   9|    54|              5.55|\n",
            "|2014|    6|  4|    1115|        0|    1346|       -3|     AS| N461AS|   488|   SEA| SAN|     133|    1050|  11|    15| 2.216666666666667|\n",
            "|2014|    6| 26|    2054|       -1|    2318|       -6|     B6| N590JB|   907|   SEA| ANC|     179|    1448|  20|    54|2.9833333333333334|\n",
            "|2014|    6|  7|    1823|       -7|    2112|      -28|     AS| N512AS|   815|   SEA| LIH|     335|    2701|  18|    23| 5.583333333333333|\n",
            "|2014|    4| 30|     801|        1|    1757|       90|     AS| N407AS|    18|   SEA| MCO|     342|    2554|   8|     1|               5.7|\n",
            "|2014|   11| 29|     905|      155|    1655|      170|     DL| N824DN|  1598|   SEA| ATL|     229|    2182|   9|     5| 3.816666666666667|\n",
            "|2014|    6|  2|    2222|        7|      55|       15|     AS| N402AS|    99|   SEA| ANC|     190|    1448|  22|    22|3.1666666666666665|\n",
            "|2014|   11| 15|    1034|       -6|    1414|      -26|     AS| N589AS|   794|   SEA| ABQ|     139|    1180|  10|    34| 2.316666666666667|\n",
            "|2014|   10| 20|    1328|       -1|    1949|        4|     UA| N68805|  1212|   SEA| IAH|     228|    1874|  13|    28|               3.8|\n",
            "|2014|   12| 16|    1500|        0|    1906|       19|     US| N662AW|   500|   SEA| PHX|     151|    1107|  15|     0|2.5166666666666666|\n",
            "|2014|   11| 19|    1319|       -6|    1821|      -14|     DL| N309US|  2164|   PDX| MSP|     169|    1426|  13|    19| 2.816666666666667|\n",
            "|2014|    5| 21|     515|        0|     757|        0|     US| N172US|   593|   SEA| PHX|     143|    1107|   5|    15|2.3833333333333333|\n",
            "+----+-----+---+--------+---------+--------+---------+-------+-------+------+------+----+--------+--------+----+------+------------------+\n",
            "only showing top 20 rows\n",
            "\n",
            "+----+-----+---+--------+---------+--------+---------+-------+-------+------+------+----+--------+--------+----+------+------------------+\n",
            "|year|month|day|dep_time|dep_delay|arr_time|arr_delay|carrier|tailnum|flight|origin|dest|air_time|distance|hour|minute|      duration_hrs|\n",
            "+----+-----+---+--------+---------+--------+---------+-------+-------+------+------+----+--------+--------+----+------+------------------+\n",
            "|2014|    1| 22|    1040|        5|    1505|        5|     AS| N559AS|   851|   SEA| HNL|     360|    2677|  10|    40|               6.0|\n",
            "|2014|    4| 19|    1236|       -4|    1508|       -7|     AS| N309AS|   490|   SEA| SAN|     135|    1050|  12|    36|              2.25|\n",
            "|2014|   11| 19|    1812|       -3|    2352|       -4|     AS| N564AS|    26|   SEA| ORD|     198|    1721|  18|    12|               3.3|\n",
            "|2014|    8|  3|    1120|        0|    1415|        2|     AS| N305AS|   656|   SEA| PHX|     154|    1107|  11|    20| 2.566666666666667|\n",
            "|2014|   11| 12|    2346|       -4|     217|      -28|     AS| N765AS|   121|   SEA| ANC|     183|    1448|  23|    46|              3.05|\n",
            "|2014|    8| 11|    1017|       -3|    1613|       -7|     WN| N8634A|   827|   SEA| MDW|     216|    1733|  10|    17|               3.6|\n",
            "|2014|    1| 13|    2156|       -9|     607|      -15|     AS| N597AS|    24|   SEA| BOS|     290|    2496|  21|    56| 4.833333333333333|\n",
            "|2014|    9| 26|     610|       -5|    1523|       65|     US| N127UW|   616|   SEA| PHL|     293|    2378|   6|    10| 4.883333333333334|\n",
            "|2014|   12|  4|     954|       -6|    1348|      -17|     HA| N395HA|    29|   SEA| OGG|     333|    2640|   9|    54|              5.55|\n",
            "|2014|    6|  4|    1115|        0|    1346|       -3|     AS| N461AS|   488|   SEA| SAN|     133|    1050|  11|    15| 2.216666666666667|\n",
            "|2014|    6| 26|    2054|       -1|    2318|       -6|     B6| N590JB|   907|   SEA| ANC|     179|    1448|  20|    54|2.9833333333333334|\n",
            "|2014|    6|  7|    1823|       -7|    2112|      -28|     AS| N512AS|   815|   SEA| LIH|     335|    2701|  18|    23| 5.583333333333333|\n",
            "|2014|    4| 30|     801|        1|    1757|       90|     AS| N407AS|    18|   SEA| MCO|     342|    2554|   8|     1|               5.7|\n",
            "|2014|   11| 29|     905|      155|    1655|      170|     DL| N824DN|  1598|   SEA| ATL|     229|    2182|   9|     5| 3.816666666666667|\n",
            "|2014|    6|  2|    2222|        7|      55|       15|     AS| N402AS|    99|   SEA| ANC|     190|    1448|  22|    22|3.1666666666666665|\n",
            "|2014|   11| 15|    1034|       -6|    1414|      -26|     AS| N589AS|   794|   SEA| ABQ|     139|    1180|  10|    34| 2.316666666666667|\n",
            "|2014|   10| 20|    1328|       -1|    1949|        4|     UA| N68805|  1212|   SEA| IAH|     228|    1874|  13|    28|               3.8|\n",
            "|2014|   12| 16|    1500|        0|    1906|       19|     US| N662AW|   500|   SEA| PHX|     151|    1107|  15|     0|2.5166666666666666|\n",
            "|2014|   11| 19|    1319|       -6|    1821|      -14|     DL| N309US|  2164|   PDX| MSP|     169|    1426|  13|    19| 2.816666666666667|\n",
            "|2014|    5| 21|     515|        0|     757|        0|     US| N172US|   593|   SEA| PHX|     143|    1107|   5|    15|2.3833333333333333|\n",
            "+----+-----+---+--------+---------+--------+---------+-------+-------+------+------+----+--------+--------+----+------+------------------+\n",
            "only showing top 20 rows\n",
            "\n"
          ],
          "name": "stdout"
        }
      ]
    },
    {
      "cell_type": "markdown",
      "metadata": {
        "id": "AN2xV2lIlXE3",
        "colab_type": "text"
      },
      "source": [
        "---"
      ]
    },
    {
      "cell_type": "markdown",
      "metadata": {
        "id": "yQnYeMLvlX7l",
        "colab_type": "text"
      },
      "source": [
        "### Selecting\n",
        "The Spark variant of SQL's `SELECT` is the `.select()` method. This method takes multiple arguments - one for each column you want to select. These arguments can either be the column name as a string (one for each column) or a column object (using the `df.colName` syntax). When you pass a column object, you can perform operations like addition or subtraction on the column to change the data contained in it, much like inside `.withColumn()`.\n",
        "\n",
        "#### Difference between `.select()` and `.withColumn()`\n",
        "The difference between `.select()` and `.withColumn()` methods is that `.select()` returns only the columns you specify, while `.withColumn()` returns all the columns of the DataFrame in addition to the one you defined. It's often a good idea to drop columns you don't need at the beginning of an operation so that you're not dragging around extra data as you're wrangling. In this case, you would use `.select()` and not `.withColumn()`.\n"
      ]
    },
    {
      "cell_type": "code",
      "metadata": {
        "id": "AsNAoH7vmGTe",
        "colab_type": "code",
        "outputId": "e59d1e78-e8a6-4a90-d301-c04e214fe790",
        "colab": {
          "base_uri": "https://localhost:8080/",
          "height": 1000
        }
      },
      "source": [
        "# BY STRINGS: Selecting the columns tailnum, origin, and dest from flights by passing the column names as strings.\n",
        "selected1 = flights.select('tailnum', 'origin', 'dest')\n",
        "selected1.show()\n",
        "\n",
        "# BY BOOLEAN MASK: Selecting the columns origin, dest, and carrier using the df.colName\n",
        "temp = flights.select(flights.origin, flights.dest, flights.carrier)\n",
        "temp.show()\n",
        "\n",
        "# Defining boolean filters and filtering data based on these filters\n",
        "filterA = flights.origin == \"SEA\"\n",
        "filterB = flights.dest == \"PDX\"\n",
        "selected2  = flights.filter(filterA).filter(filterB)\n",
        "selected2.show()"
      ],
      "execution_count": 0,
      "outputs": [
        {
          "output_type": "stream",
          "text": [
            "+-------+------+----+\n",
            "|tailnum|origin|dest|\n",
            "+-------+------+----+\n",
            "| N846VA|   SEA| LAX|\n",
            "| N559AS|   SEA| HNL|\n",
            "| N847VA|   SEA| SFO|\n",
            "| N360SW|   PDX| SJC|\n",
            "| N612AS|   SEA| BUR|\n",
            "| N646SW|   PDX| DEN|\n",
            "| N422WN|   PDX| OAK|\n",
            "| N361VA|   SEA| SFO|\n",
            "| N309AS|   SEA| SAN|\n",
            "| N564AS|   SEA| ORD|\n",
            "| N323AS|   SEA| LAX|\n",
            "| N305AS|   SEA| PHX|\n",
            "| N433AS|   SEA| LAS|\n",
            "| N765AS|   SEA| ANC|\n",
            "| N713AS|   SEA| SFO|\n",
            "| N27205|   PDX| SFO|\n",
            "| N626AS|   SEA| SMF|\n",
            "| N8634A|   SEA| MDW|\n",
            "| N597AS|   SEA| BOS|\n",
            "| N215AG|   PDX| BUR|\n",
            "+-------+------+----+\n",
            "only showing top 20 rows\n",
            "\n",
            "+------+----+-------+\n",
            "|origin|dest|carrier|\n",
            "+------+----+-------+\n",
            "|   SEA| LAX|     VX|\n",
            "|   SEA| HNL|     AS|\n",
            "|   SEA| SFO|     VX|\n",
            "|   PDX| SJC|     WN|\n",
            "|   SEA| BUR|     AS|\n",
            "|   PDX| DEN|     WN|\n",
            "|   PDX| OAK|     WN|\n",
            "|   SEA| SFO|     VX|\n",
            "|   SEA| SAN|     AS|\n",
            "|   SEA| ORD|     AS|\n",
            "|   SEA| LAX|     AS|\n",
            "|   SEA| PHX|     AS|\n",
            "|   SEA| LAS|     AS|\n",
            "|   SEA| ANC|     AS|\n",
            "|   SEA| SFO|     AS|\n",
            "|   PDX| SFO|     UA|\n",
            "|   SEA| SMF|     AS|\n",
            "|   SEA| MDW|     WN|\n",
            "|   SEA| BOS|     AS|\n",
            "|   PDX| BUR|     OO|\n",
            "+------+----+-------+\n",
            "only showing top 20 rows\n",
            "\n",
            "+----+-----+---+--------+---------+--------+---------+-------+-------+------+------+----+--------+--------+----+------+-------------------+\n",
            "|year|month|day|dep_time|dep_delay|arr_time|arr_delay|carrier|tailnum|flight|origin|dest|air_time|distance|hour|minute|       duration_hrs|\n",
            "+----+-----+---+--------+---------+--------+---------+-------+-------+------+------+----+--------+--------+----+------+-------------------+\n",
            "|2014|   10|  1|    1717|       -8|    1819|        4|     OO| N810SK|  4546|   SEA| PDX|      28|     129|  17|    17| 0.4666666666666667|\n",
            "|2014|    9| 26|    2339|      144|      29|      142|     OO| N822SK|  4612|   SEA| PDX|      29|     129|  23|    39|0.48333333333333334|\n",
            "|2014|    8| 18|    1728|       -2|    1822|        0|     OO| N586SW|  5440|   SEA| PDX|      41|     129|  17|    28| 0.6833333333333333|\n",
            "|2014|    2|  4|    2053|       -7|    2144|       -4|     OO| N223SW|  5433|   SEA| PDX|      29|     129|  20|    53|0.48333333333333334|\n",
            "|2014|    2|  9|    1058|      133|    1158|      145|     OO| N580SW|  5438|   SEA| PDX|      35|     129|  10|    58| 0.5833333333333334|\n",
            "|2014|   12|  6|    2227|       -3|    2304|      -11|     AS| N520AS|   414|   SEA| PDX|      25|     129|  22|    27| 0.4166666666666667|\n",
            "|2014|   10| 15|    1722|       -3|    1816|        1|     OO| N809SK|  4546|   SEA| PDX|      28|     129|  17|    22| 0.4666666666666667|\n",
            "|2014|    3|  3|    1720|       -8|    1810|       -6|     OO| N295SW|  5305|   SEA| PDX|      34|     129|  17|    20| 0.5666666666666667|\n",
            "|2014|    2| 23|    2050|      -10|    2140|       -8|     OO| N221SW|  5433|   SEA| PDX|      34|     129|  20|    50| 0.5666666666666667|\n",
            "|2014|    3| 25|    2050|      -10|    2148|        1|     OO| N294SW|  5433|   SEA| PDX|      34|     129|  20|    50| 0.5666666666666667|\n",
            "|2014|    4| 19|    1842|       -3|    1940|        3|     OO| N581SW|  5424|   SEA| PDX|      35|     129|  18|    42| 0.5833333333333334|\n",
            "|2014|    3|  4|     928|       -7|    1026|        3|     OO| N563SW|  5438|   SEA| PDX|      34|     129|   9|    28| 0.5666666666666667|\n",
            "|2014|    1| 15|    1433|       -6|    1528|        1|     OO| N297SW|  5417|   SEA| PDX|      40|     129|  14|    33| 0.6666666666666666|\n",
            "|2014|    5| 11|    1850|      -10|    1938|      -14|     OO| N564SW|  5424|   SEA| PDX|      35|     129|  18|    50| 0.5833333333333334|\n",
            "|2014|   11| 24|    2227|       -3|    2309|       -6|     AS| N468AS|   414|   SEA| PDX|      30|     129|  22|    27|                0.5|\n",
            "|2014|    2| 22|    1450|       -5|    1544|        1|     OO| N229SW|  5417|   SEA| PDX|      30|     129|  14|    50|                0.5|\n",
            "|2014|    3| 28|     921|       -5|    1023|       10|     OO| N565SW|  5411|   SEA| PDX|      40|     129|   9|    21| 0.6666666666666666|\n",
            "|2014|    3| 25|    1515|      274|    1608|      279|     OO| N580SW|  5325|   SEA| PDX|      36|     129|  15|    15|                0.6|\n",
            "|2014|   12| 28|     652|       -8|     802|        2|     OO| N817SK|  4608|   SEA| PDX|      32|     129|   6|    52| 0.5333333333333333|\n",
            "|2014|    5| 11|    1501|        1|    1550|        0|     OO| N564SW|  5417|   SEA| PDX|      34|     129|  15|     1| 0.5666666666666667|\n",
            "+----+-----+---+--------+---------+--------+---------+-------+-------+------+------+----+--------+--------+----+------+-------------------+\n",
            "only showing top 20 rows\n",
            "\n"
          ],
          "name": "stdout"
        }
      ]
    },
    {
      "cell_type": "markdown",
      "metadata": {
        "id": "tIAnnAzBBBA3",
        "colab_type": "text"
      },
      "source": [
        "Similar to SQL, we can also use the `.select()` method to perform column-wise operations. When we're selecting a column using the `df.colName` notation, we can perform any column operation and the `.select()` method will return the transformed column. For example,\n",
        "\n",
        "> `flights.select(flights.air_time/60)`\n",
        "\n",
        "returns a column of flight durations in hours instead of minutes. We can also use the `.alias()` method to rename a column we're selecting. So if we wanted to `.select()` the column duration_hrs (which isn't in our DataFrame) we could do\n",
        "\n",
        "> `flights.select((flights.air_time/60).alias(\"duration_hrs\"))`\n",
        "\n",
        "The equivalent Spark DataFrame method `.selectExpr()` takes SQL expressions as a string:\n",
        "\n",
        "> `flights.selectExpr(\"air_time/60 as duration_hrs\")`\n",
        "\n",
        "with the SQL as keyword being equivalent to the `.alias()` method. \n",
        "\n",
        "To select multiple columns, we can pass multiple strings."
      ]
    },
    {
      "cell_type": "code",
      "metadata": {
        "id": "CzyeAt3dCFQn",
        "colab_type": "code",
        "outputId": "41889125-3c39-4359-e9a6-d3f7085660af",
        "colab": {
          "base_uri": "https://localhost:8080/",
          "height": 974
        }
      },
      "source": [
        "# Define avg_speed\n",
        "avg_speed = (flights.distance/(flights.air_time/60)).alias(\"avg_speed\") # The result has a dataype of Spark Column\n",
        "print(type(avg_speed))\n",
        "\n",
        "## Just to prettify the output\n",
        "print(\"-\" * 5)\n",
        "\n",
        "# Select the correct columns\n",
        "speed1 = flights.select(\"origin\", \"dest\", \"tailnum\", avg_speed)\n",
        "print(type(speed1))\n",
        "speed1.show()\n",
        "\n",
        "## Just to prettify the output\n",
        "print(\"-\" * 5)\n",
        "\n",
        "# Create the same table using a SQL expression\n",
        "speed2 = flights.selectExpr(\"origin\", \"dest\", \"tailnum\", \"distance/(air_time/60) as avg_speed\")\n",
        "print(type(speed2))\n",
        "speed2.show()"
      ],
      "execution_count": 0,
      "outputs": [
        {
          "output_type": "stream",
          "text": [
            "<class 'pyspark.sql.column.Column'>\n",
            "-----\n",
            "<class 'pyspark.sql.dataframe.DataFrame'>\n",
            "+------+----+-------+------------------+\n",
            "|origin|dest|tailnum|         avg_speed|\n",
            "+------+----+-------+------------------+\n",
            "|   SEA| LAX| N846VA| 433.6363636363636|\n",
            "|   SEA| HNL| N559AS| 446.1666666666667|\n",
            "|   SEA| SFO| N847VA|367.02702702702703|\n",
            "|   PDX| SJC| N360SW| 411.3253012048193|\n",
            "|   SEA| BUR| N612AS| 442.6771653543307|\n",
            "|   PDX| DEN| N646SW|491.40495867768595|\n",
            "|   PDX| OAK| N422WN|             362.0|\n",
            "|   SEA| SFO| N361VA| 415.7142857142857|\n",
            "|   SEA| SAN| N309AS| 466.6666666666667|\n",
            "|   SEA| ORD| N564AS| 521.5151515151515|\n",
            "|   SEA| LAX| N323AS| 440.3076923076923|\n",
            "|   SEA| PHX| N305AS|431.29870129870125|\n",
            "|   SEA| LAS| N433AS| 409.6062992125984|\n",
            "|   SEA| ANC| N765AS|474.75409836065575|\n",
            "|   SEA| SFO| N713AS| 315.8139534883721|\n",
            "|   PDX| SFO| N27205| 366.6666666666667|\n",
            "|   SEA| SMF| N626AS|477.63157894736844|\n",
            "|   SEA| MDW| N8634A|481.38888888888886|\n",
            "|   SEA| BOS| N597AS| 516.4137931034483|\n",
            "|   PDX| BUR| N215AG| 441.6216216216216|\n",
            "+------+----+-------+------------------+\n",
            "only showing top 20 rows\n",
            "\n",
            "-----\n",
            "<class 'pyspark.sql.dataframe.DataFrame'>\n",
            "+------+----+-------+------------------+\n",
            "|origin|dest|tailnum|         avg_speed|\n",
            "+------+----+-------+------------------+\n",
            "|   SEA| LAX| N846VA| 433.6363636363636|\n",
            "|   SEA| HNL| N559AS| 446.1666666666667|\n",
            "|   SEA| SFO| N847VA|367.02702702702703|\n",
            "|   PDX| SJC| N360SW| 411.3253012048193|\n",
            "|   SEA| BUR| N612AS| 442.6771653543307|\n",
            "|   PDX| DEN| N646SW|491.40495867768595|\n",
            "|   PDX| OAK| N422WN|             362.0|\n",
            "|   SEA| SFO| N361VA| 415.7142857142857|\n",
            "|   SEA| SAN| N309AS| 466.6666666666667|\n",
            "|   SEA| ORD| N564AS| 521.5151515151515|\n",
            "|   SEA| LAX| N323AS| 440.3076923076923|\n",
            "|   SEA| PHX| N305AS|431.29870129870125|\n",
            "|   SEA| LAS| N433AS| 409.6062992125984|\n",
            "|   SEA| ANC| N765AS|474.75409836065575|\n",
            "|   SEA| SFO| N713AS| 315.8139534883721|\n",
            "|   PDX| SFO| N27205| 366.6666666666667|\n",
            "|   SEA| SMF| N626AS|477.63157894736844|\n",
            "|   SEA| MDW| N8634A|481.38888888888886|\n",
            "|   SEA| BOS| N597AS| 516.4137931034483|\n",
            "|   PDX| BUR| N215AG| 441.6216216216216|\n",
            "+------+----+-------+------------------+\n",
            "only showing top 20 rows\n",
            "\n"
          ],
          "name": "stdout"
        }
      ]
    },
    {
      "cell_type": "markdown",
      "metadata": {
        "id": "DthbzAN3LCRm",
        "colab_type": "text"
      },
      "source": [
        "---\n",
        "\n",
        "## Aggregating\n",
        "All of the common aggregation methods, like `.min()`, `.max()`, and `.count()` are `GroupedData` methods. These are created by calling the `.groupBy()` DataFrame method. For example, to find the minimum value of a column, `col`, in a DataFrame, `df`, we can do\n",
        "\n",
        "> `df.groupBy().min(\"col\").show()`\n",
        "\n",
        "This creates a `GroupedData` object (so we can use the `.min()` method), then finds the minimum value in `col`, and returns it as a DataFrame.\n",
        "\n",
        "Now we're ready to do some aggregating of our own!\n",
        "\n",
        "\n",
        "Finding the length of the shortest flight (in terms of distance) that left `PDX` by first `.filter()`ing and using the `.min()` method."
      ]
    },
    {
      "cell_type": "code",
      "metadata": {
        "id": "6Pl_QY9nA7U3",
        "colab_type": "code",
        "outputId": "0b4483e1-55af-4ea3-981a-7eb867f33050",
        "colab": {
          "base_uri": "https://localhost:8080/",
          "height": 454
        }
      },
      "source": [
        "flights.show()"
      ],
      "execution_count": 0,
      "outputs": [
        {
          "output_type": "stream",
          "text": [
            "+----+-----+---+--------+---------+--------+---------+-------+-------+------+------+----+--------+--------+----+------+------------------+\n",
            "|year|month|day|dep_time|dep_delay|arr_time|arr_delay|carrier|tailnum|flight|origin|dest|air_time|distance|hour|minute|      duration_hrs|\n",
            "+----+-----+---+--------+---------+--------+---------+-------+-------+------+------+----+--------+--------+----+------+------------------+\n",
            "|2014|   12|  8|     658|       -7|     935|       -5|     VX| N846VA|  1780|   SEA| LAX|     132|     954|   6|    58|               2.2|\n",
            "|2014|    1| 22|    1040|        5|    1505|        5|     AS| N559AS|   851|   SEA| HNL|     360|    2677|  10|    40|               6.0|\n",
            "|2014|    3|  9|    1443|       -2|    1652|        2|     VX| N847VA|   755|   SEA| SFO|     111|     679|  14|    43|              1.85|\n",
            "|2014|    4|  9|    1705|       45|    1839|       34|     WN| N360SW|   344|   PDX| SJC|      83|     569|  17|     5|1.3833333333333333|\n",
            "|2014|    3|  9|     754|       -1|    1015|        1|     AS| N612AS|   522|   SEA| BUR|     127|     937|   7|    54|2.1166666666666667|\n",
            "|2014|    1| 15|    1037|        7|    1352|        2|     WN| N646SW|    48|   PDX| DEN|     121|     991|  10|    37|2.0166666666666666|\n",
            "|2014|    7|  2|     847|       42|    1041|       51|     WN| N422WN|  1520|   PDX| OAK|      90|     543|   8|    47|               1.5|\n",
            "|2014|    5| 12|    1655|       -5|    1842|      -18|     VX| N361VA|   755|   SEA| SFO|      98|     679|  16|    55|1.6333333333333333|\n",
            "|2014|    4| 19|    1236|       -4|    1508|       -7|     AS| N309AS|   490|   SEA| SAN|     135|    1050|  12|    36|              2.25|\n",
            "|2014|   11| 19|    1812|       -3|    2352|       -4|     AS| N564AS|    26|   SEA| ORD|     198|    1721|  18|    12|               3.3|\n",
            "|2014|   11|  8|    1653|       -2|    1924|       -1|     AS| N323AS|   448|   SEA| LAX|     130|     954|  16|    53|2.1666666666666665|\n",
            "|2014|    8|  3|    1120|        0|    1415|        2|     AS| N305AS|   656|   SEA| PHX|     154|    1107|  11|    20| 2.566666666666667|\n",
            "|2014|   10| 30|     811|       21|    1038|       29|     AS| N433AS|   608|   SEA| LAS|     127|     867|   8|    11|2.1166666666666667|\n",
            "|2014|   11| 12|    2346|       -4|     217|      -28|     AS| N765AS|   121|   SEA| ANC|     183|    1448|  23|    46|              3.05|\n",
            "|2014|   10| 31|    1314|       89|    1544|      111|     AS| N713AS|   306|   SEA| SFO|     129|     679|  13|    14|              2.15|\n",
            "|2014|    1| 29|    2009|        3|    2159|        9|     UA| N27205|  1458|   PDX| SFO|      90|     550|  20|     9|               1.5|\n",
            "|2014|   12| 17|    2015|       50|    2150|       41|     AS| N626AS|   368|   SEA| SMF|      76|     605|  20|    15|1.2666666666666666|\n",
            "|2014|    8| 11|    1017|       -3|    1613|       -7|     WN| N8634A|   827|   SEA| MDW|     216|    1733|  10|    17|               3.6|\n",
            "|2014|    1| 13|    2156|       -9|     607|      -15|     AS| N597AS|    24|   SEA| BOS|     290|    2496|  21|    56| 4.833333333333333|\n",
            "|2014|    6|  5|    1733|      -12|    1945|      -10|     OO| N215AG|  3488|   PDX| BUR|     111|     817|  17|    33|              1.85|\n",
            "+----+-----+---+--------+---------+--------+---------+-------+-------+------+------+----+--------+--------+----+------+------------------+\n",
            "only showing top 20 rows\n",
            "\n"
          ],
          "name": "stdout"
        }
      ]
    },
    {
      "cell_type": "markdown",
      "metadata": {
        "id": "oYBCGPSVDIgd",
        "colab_type": "text"
      },
      "source": [
        "All the columns are in the `flights` table are of the datatype string because the data was read from a CSV file. "
      ]
    },
    {
      "cell_type": "code",
      "metadata": {
        "id": "HrWzsdSsEDFM",
        "colab_type": "code",
        "colab": {}
      },
      "source": [
        "from pyspark.sql.types import FloatType, IntegerType, DoubleType "
      ],
      "execution_count": 0,
      "outputs": []
    },
    {
      "cell_type": "code",
      "metadata": {
        "id": "6pel-ihEDr8b",
        "colab_type": "code",
        "colab": {}
      },
      "source": [
        "flights = flights.withColumn('distance', flights['distance'].cast(IntegerType()))\n",
        "flights = flights.withColumn('air_time', flights['air_time'].cast(IntegerType()))\n",
        "flights = flights.withColumn('dep_delay', flights['dep_delay'].cast(IntegerType()))"
      ],
      "execution_count": 0,
      "outputs": []
    },
    {
      "cell_type": "markdown",
      "metadata": {
        "id": "Oj4pJIIGcqRp",
        "colab_type": "text"
      },
      "source": [
        "Finding the minimum flight distance of any flight "
      ]
    },
    {
      "cell_type": "code",
      "metadata": {
        "id": "nK-5L_2mLkv7",
        "colab_type": "code",
        "outputId": "bbc57a44-1ccf-42c5-a0ff-9b0f0f517d77",
        "colab": {
          "base_uri": "https://localhost:8080/",
          "height": 118
        }
      },
      "source": [
        "flights.filter(flights.origin=='PDX').groupBy().min('distance').show()"
      ],
      "execution_count": 0,
      "outputs": [
        {
          "output_type": "stream",
          "text": [
            "+-------------+\n",
            "|min(distance)|\n",
            "+-------------+\n",
            "|          106|\n",
            "+-------------+\n",
            "\n"
          ],
          "name": "stdout"
        }
      ]
    },
    {
      "cell_type": "markdown",
      "metadata": {
        "id": "ZYbLE7EHNc-V",
        "colab_type": "text"
      },
      "source": [
        "Finding the length of the longest (in terms of time) flight that left `SEA` by filter()ing and using the .max() method. Performing the filtering by referencing the column directly, not passing a SQL string."
      ]
    },
    {
      "cell_type": "code",
      "metadata": {
        "id": "ie5MyzMMNkCy",
        "colab_type": "code",
        "outputId": "ab0617bc-b202-481d-ff33-cac44097aee4",
        "colab": {
          "base_uri": "https://localhost:8080/",
          "height": 118
        }
      },
      "source": [
        "flights.filter(flights.origin=='SEA').groupBy().max('duration_hrs').show()"
      ],
      "execution_count": 0,
      "outputs": [
        {
          "output_type": "stream",
          "text": [
            "+-----------------+\n",
            "|max(duration_hrs)|\n",
            "+-----------------+\n",
            "|6.816666666666666|\n",
            "+-----------------+\n",
            "\n"
          ],
          "name": "stdout"
        }
      ]
    },
    {
      "cell_type": "markdown",
      "metadata": {
        "id": "OLG3-OIs8Mzq",
        "colab_type": "text"
      },
      "source": [
        "##Aggregating\n",
        "All of the common aggregation methods, like `.min()`, `.max()`, and `.count()` are `GroupedData` methods. These are created by calling the `.groupBy()` DataFrame method. To use these functions, call that method on your DataFrame. For example, to find the minimum value of a column, `col`, in a DataFrame, `df`, you could do\n",
        "\n",
        "> `df.groupBy().min(\"col\").show()`\n",
        "\n",
        "This creates a `GroupedData` object (so you can use the `.min()` method), then finds the minimum value in `col`, and returns it as a DataFrame.\n",
        "\n",
        "\n",
        "Finding the length of the shortest (in terms of distance) flight that left `PDX` by first `.filter()`ing and using the `.min()` method..."
      ]
    },
    {
      "cell_type": "code",
      "metadata": {
        "id": "Yv1NdOh963fi",
        "colab_type": "code",
        "outputId": "ba31b301-333a-4d58-8e13-cc1f9526082d",
        "colab": {
          "base_uri": "https://localhost:8080/",
          "height": 118
        }
      },
      "source": [
        "flights.filter(flights.origin=='PDX').groupBy().min('distance').show()"
      ],
      "execution_count": 0,
      "outputs": [
        {
          "output_type": "stream",
          "text": [
            "+-------------+\n",
            "|min(distance)|\n",
            "+-------------+\n",
            "|          106|\n",
            "+-------------+\n",
            "\n"
          ],
          "name": "stdout"
        }
      ]
    },
    {
      "cell_type": "markdown",
      "metadata": {
        "id": "QXnbn6ha8yhB",
        "colab_type": "text"
      },
      "source": [
        "Finding the length of the longest (in terms of time) flight that left `SEA` by `filter()`ing and using the `.max()` method..."
      ]
    },
    {
      "cell_type": "code",
      "metadata": {
        "id": "y18m_Tmu8-4N",
        "colab_type": "code",
        "outputId": "fcbc2d14-6e10-40df-a779-60ce8478fad3",
        "colab": {
          "base_uri": "https://localhost:8080/",
          "height": 118
        }
      },
      "source": [
        "flights.filter(flights.origin=='SEA').groupBy().max('air_time').show()"
      ],
      "execution_count": 0,
      "outputs": [
        {
          "output_type": "stream",
          "text": [
            "+-------------+\n",
            "|max(air_time)|\n",
            "+-------------+\n",
            "|          409|\n",
            "+-------------+\n",
            "\n"
          ],
          "name": "stdout"
        }
      ]
    },
    {
      "cell_type": "markdown",
      "metadata": {
        "id": "vUccDRkZ9Hgt",
        "colab_type": "text"
      },
      "source": [
        "Using the `.avg()` method to get the average air time of Delta Airlines flights (where the carrier column has the value `DL`) that left `SEA`. (The place of departure is stored in the column `origin`, and `show()` the result)."
      ]
    },
    {
      "cell_type": "code",
      "metadata": {
        "id": "WjC5-RwS9e79",
        "colab_type": "code",
        "outputId": "53dfa5e9-36ef-43bc-8f4c-9703f6c269cf",
        "colab": {
          "base_uri": "https://localhost:8080/",
          "height": 118
        }
      },
      "source": [
        "flights.filter(flights.origin == 'SEA').filter(flights.carrier=='DL').groupBy().avg('air_time').show()"
      ],
      "execution_count": 0,
      "outputs": [
        {
          "output_type": "stream",
          "text": [
            "+------------------+\n",
            "|     avg(air_time)|\n",
            "+------------------+\n",
            "|188.20689655172413|\n",
            "+------------------+\n",
            "\n"
          ],
          "name": "stdout"
        }
      ]
    },
    {
      "cell_type": "markdown",
      "metadata": {
        "id": "X3ITOoV99hbd",
        "colab_type": "text"
      },
      "source": [
        "Using the `.sum()` method to get the total number of hours all planes in this dataset spent in the air by creating a column called `duration_hrs` from the column `air_time`..."
      ]
    },
    {
      "cell_type": "code",
      "metadata": {
        "id": "tpL4a_1b9p7e",
        "colab_type": "code",
        "outputId": "9b861375-8bed-4e8b-98db-690c7b7ce5be",
        "colab": {
          "base_uri": "https://localhost:8080/",
          "height": 118
        }
      },
      "source": [
        "flights.withColumn(\"duration_hrs\", flights.air_time/60).groupBy().sum('duration_hrs').show()"
      ],
      "execution_count": 0,
      "outputs": [
        {
          "output_type": "stream",
          "text": [
            "+------------------+\n",
            "| sum(duration_hrs)|\n",
            "+------------------+\n",
            "|25289.600000000126|\n",
            "+------------------+\n",
            "\n"
          ],
          "name": "stdout"
        }
      ]
    },
    {
      "cell_type": "markdown",
      "metadata": {
        "id": "S8eZ-d559uR8",
        "colab_type": "text"
      },
      "source": [
        "---\n",
        "\n",
        "## Grouping and aggregating\n",
        "Part of what makes aggregating so powerful is the addition of groups. PySpark has a whole class devoted to grouped data frames: `pyspark.sql.GroupedData`\n",
        "\n",
        "You've learned how to create a grouped DataFrame by calling the `.groupBy()` method on a DataFrame with no arguments.\n",
        "\n",
        "Now you'll see that when you pass the name of one or more columns in your DataFrame to the `.groupBy()` method, the aggregation methods behave like when you use a `GROUP BY` statement in a SQL query!\n",
        "\n",
        "**INSTRUCTIONS**\n",
        "\n",
        "1) Create a DataFrame called `by_plane` that is grouped by the column `tailnum`.\n",
        "\n",
        "2) Use the `.count()` method with no arguments to count the number of flights each plane made.\n",
        "\n",
        "3) Create a DataFrame called `by_origin` that is grouped by the column origin.\n",
        "\n",
        "4) Find the `.avg()` of the `air_time` column to find average duration of flights from `PDX` and `SEA`."
      ]
    },
    {
      "cell_type": "code",
      "metadata": {
        "id": "O-W9gDNC-eM9",
        "colab_type": "code",
        "outputId": "ad114bd9-22ff-4a40-bbb0-aa86e0295727",
        "colab": {
          "base_uri": "https://localhost:8080/",
          "height": 571
        }
      },
      "source": [
        "# Group by tailnum\n",
        "by_plane = flights.groupBy(\"tailnum\")\n",
        "\n",
        "# Number of flights each plane made\n",
        "by_plane.count().show()\n",
        "\n",
        "# Group by origin\n",
        "by_origin = flights.groupBy(\"origin\")\n",
        "\n",
        "# Average duration of flights from PDX and SEA\n",
        "by_origin.avg(\"air_time\").show()"
      ],
      "execution_count": 0,
      "outputs": [
        {
          "output_type": "stream",
          "text": [
            "+-------+-----+\n",
            "|tailnum|count|\n",
            "+-------+-----+\n",
            "| N442AS|   38|\n",
            "| N102UW|    2|\n",
            "| N36472|    4|\n",
            "| N38451|    4|\n",
            "| N73283|    4|\n",
            "| N513UA|    2|\n",
            "| N954WN|    5|\n",
            "| N388DA|    3|\n",
            "| N567AA|    1|\n",
            "| N516UA|    2|\n",
            "| N927DN|    1|\n",
            "| N8322X|    1|\n",
            "| N466SW|    1|\n",
            "|  N6700|    1|\n",
            "| N607AS|   45|\n",
            "| N622SW|    4|\n",
            "| N584AS|   31|\n",
            "| N914WN|    4|\n",
            "| N654AW|    2|\n",
            "| N336NW|    1|\n",
            "+-------+-----+\n",
            "only showing top 20 rows\n",
            "\n",
            "+------+------------------+\n",
            "|origin|     avg(air_time)|\n",
            "+------+------------------+\n",
            "|   SEA| 160.4361496051259|\n",
            "|   PDX|137.11543248288737|\n",
            "+------+------------------+\n",
            "\n"
          ],
          "name": "stdout"
        }
      ]
    },
    {
      "cell_type": "markdown",
      "metadata": {
        "id": "Ritucq9y-hPs",
        "colab_type": "text"
      },
      "source": [
        "In addition to the `GroupedData` methods you've already seen, there is also the `.agg()` method. This method lets you pass an aggregate column expression that uses any of the aggregate functions from the `pyspark.sql.functions` submodule.\n",
        "\n",
        "This submodule contains many useful functions for computing things like standard deviations. All the aggregation functions in this submodule take the name of a column in a `GroupedData` table."
      ]
    },
    {
      "cell_type": "code",
      "metadata": {
        "id": "TnmcgMDWckaO",
        "colab_type": "code",
        "outputId": "ca40f9d5-91be-4cdb-8454-90e0ce857f6c",
        "colab": {
          "base_uri": "https://localhost:8080/",
          "height": 890
        }
      },
      "source": [
        "# Importing pyspark.sql.functions submodule\n",
        "import pyspark.sql.functions as F\n",
        "\n",
        "# Group by month and dest\n",
        "by_month_dest = flights.groupBy('month', 'dest')\n",
        "\n",
        "# Average departure delay by month and destination\n",
        "by_month_dest.avg('dep_delay').show()\n",
        "\n",
        "# Standard deviation of departure delay\n",
        "by_month_dest.agg(F.stddev('dep_delay')).show()"
      ],
      "execution_count": 0,
      "outputs": [
        {
          "output_type": "stream",
          "text": [
            "+-----+----+--------------------+\n",
            "|month|dest|      avg(dep_delay)|\n",
            "+-----+----+--------------------+\n",
            "|   11| TUS| -2.3333333333333335|\n",
            "|   11| ANC|   7.529411764705882|\n",
            "|    1| BUR|               -1.45|\n",
            "|    1| PDX| -5.6923076923076925|\n",
            "|    6| SBA|                -2.5|\n",
            "|    5| LAX|-0.15789473684210525|\n",
            "|   10| DTW|                 2.6|\n",
            "|    6| SIT|                -1.0|\n",
            "|   10| DFW|  18.176470588235293|\n",
            "|    3| FAI|                -2.2|\n",
            "|   10| SEA|                -0.8|\n",
            "|    2| TUS| -0.6666666666666666|\n",
            "|   12| OGG|  25.181818181818183|\n",
            "|    9| DFW|   4.066666666666666|\n",
            "|    5| EWR|               14.25|\n",
            "|    3| RDM|                -6.2|\n",
            "|    8| DCA|                 2.6|\n",
            "|    7| ATL|   4.675675675675675|\n",
            "|    4| JFK| 0.07142857142857142|\n",
            "|   10| SNA| -1.1333333333333333|\n",
            "+-----+----+--------------------+\n",
            "only showing top 20 rows\n",
            "\n",
            "+-----+----+----------------------+\n",
            "|month|dest|stddev_samp(dep_delay)|\n",
            "+-----+----+----------------------+\n",
            "|   11| TUS|    3.0550504633038935|\n",
            "|   11| ANC|    18.604716401245316|\n",
            "|    1| BUR|     15.22627576540667|\n",
            "|    1| PDX|     5.677214918493858|\n",
            "|    6| SBA|     2.380476142847617|\n",
            "|    5| LAX|     13.36268698685904|\n",
            "|   10| DTW|     5.639148871948674|\n",
            "|    6| SIT|                   NaN|\n",
            "|   10| DFW|     45.53019017606675|\n",
            "|    3| FAI|    3.1144823004794873|\n",
            "|   10| SEA|     18.70523227029577|\n",
            "|    2| TUS|    14.468356276140469|\n",
            "|   12| OGG|     82.64480404939947|\n",
            "|    9| DFW|    21.728629347782924|\n",
            "|    5| EWR|     42.41595968929191|\n",
            "|    3| RDM|      2.16794833886788|\n",
            "|    8| DCA|     9.946523680831074|\n",
            "|    7| ATL|    22.767001039582183|\n",
            "|    4| JFK|     8.156774303176903|\n",
            "|   10| SNA|    13.726234873756304|\n",
            "+-----+----+----------------------+\n",
            "only showing top 20 rows\n",
            "\n"
          ],
          "name": "stdout"
        }
      ]
    },
    {
      "cell_type": "markdown",
      "metadata": {
        "id": "yVM88Si5zmkt",
        "colab_type": "text"
      },
      "source": [
        "---\n",
        "## Joining\n",
        "In PySpark, joins are performed using the DataFrame method `.join()`. This method takes three arguments. The first is the second DataFrame that you want to join with the first one. The second argument, on, is the name of the key column(s) as a string. The names of the key column(s) must be the same in each table. The third argument, how, specifies the kind of join to perform. In this notebook we'll always use the value `how=\"leftouter\"`."
      ]
    },
    {
      "cell_type": "code",
      "metadata": {
        "id": "FOdn3irs-6M_",
        "colab_type": "code",
        "outputId": "14edfe4d-d4f1-4702-b939-7e0970de37fe",
        "colab": {
          "base_uri": "https://localhost:8080/",
          "height": 890
        }
      },
      "source": [
        "# We have Spark DataFrames called airport and flights that we previously read. Printing them out to recollect the contents of the two DataFrames\n",
        "airports.show()\n",
        "flights.show()"
      ],
      "execution_count": 0,
      "outputs": [
        {
          "output_type": "stream",
          "text": [
            "+---+--------------------+----------------+-----------------+----+---+---+\n",
            "|faa|                name|             lat|              lon| alt| tz|dst|\n",
            "+---+--------------------+----------------+-----------------+----+---+---+\n",
            "|04G|   Lansdowne Airport|      41.1304722|      -80.6195833|1044| -5|  A|\n",
            "|06A|Moton Field Munic...|      32.4605722|      -85.6800278| 264| -5|  A|\n",
            "|06C| Schaumburg Regional|      41.9893408|      -88.1012428| 801| -6|  A|\n",
            "|06N|     Randall Airport|       41.431912|      -74.3915611| 523| -5|  A|\n",
            "|09J|Jekyll Island Air...|      31.0744722|      -81.4277778|  11| -4|  A|\n",
            "|0A9|Elizabethton Muni...|      36.3712222|      -82.1734167|1593| -4|  A|\n",
            "|0G6|Williams County A...|      41.4673056|      -84.5067778| 730| -5|  A|\n",
            "|0G7|Finger Lakes Regi...|      42.8835647|      -76.7812318| 492| -5|  A|\n",
            "|0P2|Shoestring Aviati...|      39.7948244|      -76.6471914|1000| -5|  U|\n",
            "|0S9|Jefferson County ...|      48.0538086|     -122.8106436| 108| -8|  A|\n",
            "|0W3|Harford County Ai...|      39.5668378|      -76.2024028| 409| -5|  A|\n",
            "|10C|  Galt Field Airport|      42.4028889|      -88.3751111| 875| -6|  U|\n",
            "|17G|Port Bucyrus-Craw...|      40.7815556|      -82.9748056|1003| -5|  A|\n",
            "|19A|Jackson County Ai...|      34.1758638|      -83.5615972| 951| -4|  U|\n",
            "|1A3|Martin Campbell F...|      35.0158056|      -84.3468333|1789| -4|  A|\n",
            "|1B9| Mansfield Municipal|      42.0001331|      -71.1967714| 122| -5|  A|\n",
            "|1C9|Frazier Lake Airpark|54.0133333333333|-124.768333333333| 152| -8|  A|\n",
            "|1CS|Clow Internationa...|      41.6959744|      -88.1292306| 670| -6|  U|\n",
            "|1G3|  Kent State Airport|      41.1513889|      -81.4151111|1134| -4|  A|\n",
            "|1OH|     Fortman Airport|      40.5553253|      -84.3866186| 885| -5|  U|\n",
            "+---+--------------------+----------------+-----------------+----+---+---+\n",
            "only showing top 20 rows\n",
            "\n",
            "+----+-----+---+--------+---------+--------+---------+-------+-------+------+------+----+--------+--------+----+------+------------------+\n",
            "|year|month|day|dep_time|dep_delay|arr_time|arr_delay|carrier|tailnum|flight|origin|dest|air_time|distance|hour|minute|      duration_hrs|\n",
            "+----+-----+---+--------+---------+--------+---------+-------+-------+------+------+----+--------+--------+----+------+------------------+\n",
            "|2014|   12|  8|     658|       -7|     935|       -5|     VX| N846VA|  1780|   SEA| LAX|     132|     954|   6|    58|               2.2|\n",
            "|2014|    1| 22|    1040|        5|    1505|        5|     AS| N559AS|   851|   SEA| HNL|     360|    2677|  10|    40|               6.0|\n",
            "|2014|    3|  9|    1443|       -2|    1652|        2|     VX| N847VA|   755|   SEA| SFO|     111|     679|  14|    43|              1.85|\n",
            "|2014|    4|  9|    1705|       45|    1839|       34|     WN| N360SW|   344|   PDX| SJC|      83|     569|  17|     5|1.3833333333333333|\n",
            "|2014|    3|  9|     754|       -1|    1015|        1|     AS| N612AS|   522|   SEA| BUR|     127|     937|   7|    54|2.1166666666666667|\n",
            "|2014|    1| 15|    1037|        7|    1352|        2|     WN| N646SW|    48|   PDX| DEN|     121|     991|  10|    37|2.0166666666666666|\n",
            "|2014|    7|  2|     847|       42|    1041|       51|     WN| N422WN|  1520|   PDX| OAK|      90|     543|   8|    47|               1.5|\n",
            "|2014|    5| 12|    1655|       -5|    1842|      -18|     VX| N361VA|   755|   SEA| SFO|      98|     679|  16|    55|1.6333333333333333|\n",
            "|2014|    4| 19|    1236|       -4|    1508|       -7|     AS| N309AS|   490|   SEA| SAN|     135|    1050|  12|    36|              2.25|\n",
            "|2014|   11| 19|    1812|       -3|    2352|       -4|     AS| N564AS|    26|   SEA| ORD|     198|    1721|  18|    12|               3.3|\n",
            "|2014|   11|  8|    1653|       -2|    1924|       -1|     AS| N323AS|   448|   SEA| LAX|     130|     954|  16|    53|2.1666666666666665|\n",
            "|2014|    8|  3|    1120|        0|    1415|        2|     AS| N305AS|   656|   SEA| PHX|     154|    1107|  11|    20| 2.566666666666667|\n",
            "|2014|   10| 30|     811|       21|    1038|       29|     AS| N433AS|   608|   SEA| LAS|     127|     867|   8|    11|2.1166666666666667|\n",
            "|2014|   11| 12|    2346|       -4|     217|      -28|     AS| N765AS|   121|   SEA| ANC|     183|    1448|  23|    46|              3.05|\n",
            "|2014|   10| 31|    1314|       89|    1544|      111|     AS| N713AS|   306|   SEA| SFO|     129|     679|  13|    14|              2.15|\n",
            "|2014|    1| 29|    2009|        3|    2159|        9|     UA| N27205|  1458|   PDX| SFO|      90|     550|  20|     9|               1.5|\n",
            "|2014|   12| 17|    2015|       50|    2150|       41|     AS| N626AS|   368|   SEA| SMF|      76|     605|  20|    15|1.2666666666666666|\n",
            "|2014|    8| 11|    1017|       -3|    1613|       -7|     WN| N8634A|   827|   SEA| MDW|     216|    1733|  10|    17|               3.6|\n",
            "|2014|    1| 13|    2156|       -9|     607|      -15|     AS| N597AS|    24|   SEA| BOS|     290|    2496|  21|    56| 4.833333333333333|\n",
            "|2014|    6|  5|    1733|      -12|    1945|      -10|     OO| N215AG|  3488|   PDX| BUR|     111|     817|  17|    33|              1.85|\n",
            "+----+-----+---+--------+---------+--------+---------+-------+-------+------+------+----+--------+--------+----+------+------------------+\n",
            "only showing top 20 rows\n",
            "\n"
          ],
          "name": "stdout"
        }
      ]
    },
    {
      "cell_type": "markdown",
      "metadata": {
        "id": "w8TEVkkI9Jlc",
        "colab_type": "text"
      },
      "source": [
        "We'll first rename the column `faa` from the `airports` DataFrame and rename it to `dest`. Renaming a column is done by calling the **`withColumnRenamed()`** method on the Spark DataFrame passing the old column name and new column name as parameters."
      ]
    },
    {
      "cell_type": "code",
      "metadata": {
        "id": "9VWz3lQWFiSE",
        "colab_type": "code",
        "outputId": "a29c55b1-e089-4dc0-894a-b50ee869fdd1",
        "colab": {
          "base_uri": "https://localhost:8080/",
          "height": 185
        }
      },
      "source": [
        "airports = airports.withColumnRenamed(existing='faa', new='dest')\n",
        "airports.show(n=4)"
      ],
      "execution_count": 0,
      "outputs": [
        {
          "output_type": "stream",
          "text": [
            "+----+--------------------+----------+-----------+----+---+---+\n",
            "|dest|                name|       lat|        lon| alt| tz|dst|\n",
            "+----+--------------------+----------+-----------+----+---+---+\n",
            "| 04G|   Lansdowne Airport|41.1304722|-80.6195833|1044| -5|  A|\n",
            "| 06A|Moton Field Munic...|32.4605722|-85.6800278| 264| -5|  A|\n",
            "| 06C| Schaumburg Regional|41.9893408|-88.1012428| 801| -6|  A|\n",
            "| 06N|     Randall Airport| 41.431912|-74.3915611| 523| -5|  A|\n",
            "+----+--------------------+----------+-----------+----+---+---+\n",
            "only showing top 4 rows\n",
            "\n"
          ],
          "name": "stdout"
        }
      ]
    },
    {
      "cell_type": "markdown",
      "metadata": {
        "id": "W3ZGRQkpGrfB",
        "colab_type": "text"
      },
      "source": [
        "Joining the `flight` Dataframe with the `airports` Dataframe on the `dest` columns"
      ]
    },
    {
      "cell_type": "code",
      "metadata": {
        "id": "XFNpX7jRG-AR",
        "colab_type": "code",
        "outputId": "72443646-93c5-48ec-b424-59c505004f5c",
        "colab": {
          "base_uri": "https://localhost:8080/",
          "height": 222
        }
      },
      "source": [
        "flights_with_airports = flights.join(other=airports, on='dest', how='leftouter')\n",
        "flights_with_airports.show(5)"
      ],
      "execution_count": 0,
      "outputs": [
        {
          "output_type": "stream",
          "text": [
            "+----+----+-----+---+--------+---------+--------+---------+-------+-------+------+------+--------+--------+----+------+------------------+--------------------+---------+-----------+---+---+---+\n",
            "|dest|year|month|day|dep_time|dep_delay|arr_time|arr_delay|carrier|tailnum|flight|origin|air_time|distance|hour|minute|      duration_hrs|                name|      lat|        lon|alt| tz|dst|\n",
            "+----+----+-----+---+--------+---------+--------+---------+-------+-------+------+------+--------+--------+----+------+------------------+--------------------+---------+-----------+---+---+---+\n",
            "| LAX|2014|   12|  8|     658|       -7|     935|       -5|     VX| N846VA|  1780|   SEA|     132|     954|   6|    58|               2.2|    Los Angeles Intl|33.942536|-118.408075|126| -8|  A|\n",
            "| HNL|2014|    1| 22|    1040|        5|    1505|        5|     AS| N559AS|   851|   SEA|     360|    2677|  10|    40|               6.0|       Honolulu Intl|21.318681|-157.922428| 13|-10|  N|\n",
            "| SFO|2014|    3|  9|    1443|       -2|    1652|        2|     VX| N847VA|   755|   SEA|     111|     679|  14|    43|              1.85|  San Francisco Intl|37.618972|-122.374889| 13| -8|  A|\n",
            "| SJC|2014|    4|  9|    1705|       45|    1839|       34|     WN| N360SW|   344|   PDX|      83|     569|  17|     5|1.3833333333333333|Norman Y Mineta S...|  37.3626|-121.929022| 62| -8|  A|\n",
            "| BUR|2014|    3|  9|     754|       -1|    1015|        1|     AS| N612AS|   522|   SEA|     127|     937|   7|    54|2.1166666666666667|            Bob Hope|34.200667|-118.358667|778| -8|  A|\n",
            "+----+----+-----+---+--------+---------+--------+---------+-------+-------+------+------+--------+--------+----+------+------------------+--------------------+---------+-----------+---+---+---+\n",
            "only showing top 5 rows\n",
            "\n"
          ],
          "name": "stdout"
        }
      ]
    },
    {
      "cell_type": "markdown",
      "metadata": {
        "id": "-gYK7MDfI0Bs",
        "colab_type": "text"
      },
      "source": [
        "\n",
        "\n",
        "---\n",
        "\n",
        "\n",
        "\n",
        "---\n",
        "\n"
      ]
    },
    {
      "cell_type": "markdown",
      "metadata": {
        "id": "98C51OVg0tVl",
        "colab_type": "text"
      },
      "source": [
        "# Part 3: Getting started with machine learning pipelines\n",
        "PySpark has built-in, cutting-edge machine learning routines, along with utilities to create full machine learning pipelines. We'll learn about them in this part.\n",
        "\n",
        "## Overview\n",
        "At the core of the **`pyspark.ml`** module are the **`Transformer`** and **`Estimator`** classes. Almost every other class in the module behaves similarly to these two basic classes.\n",
        "\n",
        "\n",
        "> **Transformer** classes have a **`.transform()`** method that takes a DataFrame and returns a new DataFrame; usually the original one with a new column appended. For example, you might use the class **`Bucketizer`** to create discrete bins from a continuous feature or the class PCA to reduce the dimensionality of your dataset using principal component analysis.\n",
        "\n",
        "> **Estimator** classes all implement a **`.fit()`** method. These methods also take a DataFrame, but instead of returning another DataFrame they return a model object. This can be something like a `StringIndexerModel` for including categorical data saved as strings in your models, or a `RandomForestModel` that uses the random forest algorithm for classification or regression.\n",
        "\n",
        "---\n",
        "## Goal\n",
        "We want to build a model that predicts whether or not a flight will be delayed based on the flights data we've been working with.\n",
        "\n",
        "- We'll first read the tables `flights` and `planes`"
      ]
    },
    {
      "cell_type": "code",
      "metadata": {
        "id": "8lDXTVzD08mU",
        "colab_type": "code",
        "outputId": "de81f3be-9899-4aa5-ad95-121f886e25b2",
        "colab": {
          "base_uri": "https://localhost:8080/",
          "height": 571
        }
      },
      "source": [
        "flights = spark.read.format('csv').option('header', 'true').load('/tmp/flights.csv')\n",
        "planes = spark.read.format('csv').option('header','true').load('/tmp/planes.csv')\n",
        "airports = spark.read.format('csv').option('header','true').load('/tmp/airports.csv')\n",
        "\n",
        "flights.show(n=5)\n",
        "planes.show(n=5)\n",
        "airports.show(n=5)"
      ],
      "execution_count": 0,
      "outputs": [
        {
          "output_type": "stream",
          "text": [
            "+----+-----+---+--------+---------+--------+---------+-------+-------+------+------+----+--------+--------+----+------+\n",
            "|year|month|day|dep_time|dep_delay|arr_time|arr_delay|carrier|tailnum|flight|origin|dest|air_time|distance|hour|minute|\n",
            "+----+-----+---+--------+---------+--------+---------+-------+-------+------+------+----+--------+--------+----+------+\n",
            "|2014|   12|  8|     658|       -7|     935|       -5|     VX| N846VA|  1780|   SEA| LAX|     132|     954|   6|    58|\n",
            "|2014|    1| 22|    1040|        5|    1505|        5|     AS| N559AS|   851|   SEA| HNL|     360|    2677|  10|    40|\n",
            "|2014|    3|  9|    1443|       -2|    1652|        2|     VX| N847VA|   755|   SEA| SFO|     111|     679|  14|    43|\n",
            "|2014|    4|  9|    1705|       45|    1839|       34|     WN| N360SW|   344|   PDX| SJC|      83|     569|  17|     5|\n",
            "|2014|    3|  9|     754|       -1|    1015|        1|     AS| N612AS|   522|   SEA| BUR|     127|     937|   7|    54|\n",
            "+----+-----+---+--------+---------+--------+---------+-------+-------+------+------+----+--------+--------+----+------+\n",
            "only showing top 5 rows\n",
            "\n",
            "+-------+----+--------------------+----------------+--------+-------+-----+-----+---------+\n",
            "|tailnum|year|                type|    manufacturer|   model|engines|seats|speed|   engine|\n",
            "+-------+----+--------------------+----------------+--------+-------+-----+-----+---------+\n",
            "| N102UW|1998|Fixed wing multi ...|AIRBUS INDUSTRIE|A320-214|      2|  182|   NA|Turbo-fan|\n",
            "| N103US|1999|Fixed wing multi ...|AIRBUS INDUSTRIE|A320-214|      2|  182|   NA|Turbo-fan|\n",
            "| N104UW|1999|Fixed wing multi ...|AIRBUS INDUSTRIE|A320-214|      2|  182|   NA|Turbo-fan|\n",
            "| N105UW|1999|Fixed wing multi ...|AIRBUS INDUSTRIE|A320-214|      2|  182|   NA|Turbo-fan|\n",
            "| N107US|1999|Fixed wing multi ...|AIRBUS INDUSTRIE|A320-214|      2|  182|   NA|Turbo-fan|\n",
            "+-------+----+--------------------+----------------+--------+-------+-----+-----+---------+\n",
            "only showing top 5 rows\n",
            "\n",
            "+---+--------------------+----------+-----------+----+---+---+\n",
            "|faa|                name|       lat|        lon| alt| tz|dst|\n",
            "+---+--------------------+----------+-----------+----+---+---+\n",
            "|04G|   Lansdowne Airport|41.1304722|-80.6195833|1044| -5|  A|\n",
            "|06A|Moton Field Munic...|32.4605722|-85.6800278| 264| -5|  A|\n",
            "|06C| Schaumburg Regional|41.9893408|-88.1012428| 801| -6|  A|\n",
            "|06N|     Randall Airport| 41.431912|-74.3915611| 523| -5|  A|\n",
            "|09J|Jekyll Island Air...|31.0744722|-81.4277778|  11| -4|  A|\n",
            "+---+--------------------+----------+-----------+----+---+---+\n",
            "only showing top 5 rows\n",
            "\n"
          ],
          "name": "stdout"
        }
      ]
    },
    {
      "cell_type": "markdown",
      "metadata": {
        "id": "h-zu6ompwvdO",
        "colab_type": "text"
      },
      "source": [
        "- Next, we rename the `year` column of `planes` to `plane_year`. This is being done to avoid confusion as we have the same `year` column in both `planes` as well as `flights` DataFrames. \n",
        "\n",
        "To rename a column, we use the **`.withColumnsRenamed()`** method on the DataFrame"
      ]
    },
    {
      "cell_type": "code",
      "metadata": {
        "id": "6oJ4pCfexUs8",
        "colab_type": "code",
        "colab": {}
      },
      "source": [
        "planes = planes.withColumnRenamed(existing='year', new='plane_year')"
      ],
      "execution_count": 0,
      "outputs": []
    },
    {
      "cell_type": "markdown",
      "metadata": {
        "id": "gjdNJqnhxmGk",
        "colab_type": "text"
      },
      "source": [
        "- Joining `flights` and `planes` DataFrames on the `tailnum` column"
      ]
    },
    {
      "cell_type": "code",
      "metadata": {
        "id": "lfqT_9ygxloE",
        "colab_type": "code",
        "outputId": "360a6987-499c-49eb-c036-d93654c4aa51",
        "colab": {
          "base_uri": "https://localhost:8080/",
          "height": 222
        }
      },
      "source": [
        "model_data = flights.join(other=planes, on='tailnum', how='leftouter')\n",
        "model_data.show(5)"
      ],
      "execution_count": 0,
      "outputs": [
        {
          "output_type": "stream",
          "text": [
            "+-------+----+-----+---+--------+---------+--------+---------+-------+------+------+----+--------+--------+----+------+----------+--------------------+------------+--------+-------+-----+-----+---------+\n",
            "|tailnum|year|month|day|dep_time|dep_delay|arr_time|arr_delay|carrier|flight|origin|dest|air_time|distance|hour|minute|plane_year|                type|manufacturer|   model|engines|seats|speed|   engine|\n",
            "+-------+----+-----+---+--------+---------+--------+---------+-------+------+------+----+--------+--------+----+------+----------+--------------------+------------+--------+-------+-----+-----+---------+\n",
            "| N846VA|2014|   12|  8|     658|       -7|     935|       -5|     VX|  1780|   SEA| LAX|     132|     954|   6|    58|      2011|Fixed wing multi ...|      AIRBUS|A320-214|      2|  182|   NA|Turbo-fan|\n",
            "| N559AS|2014|    1| 22|    1040|        5|    1505|        5|     AS|   851|   SEA| HNL|     360|    2677|  10|    40|      2006|Fixed wing multi ...|      BOEING| 737-890|      2|  149|   NA|Turbo-fan|\n",
            "| N847VA|2014|    3|  9|    1443|       -2|    1652|        2|     VX|   755|   SEA| SFO|     111|     679|  14|    43|      2011|Fixed wing multi ...|      AIRBUS|A320-214|      2|  182|   NA|Turbo-fan|\n",
            "| N360SW|2014|    4|  9|    1705|       45|    1839|       34|     WN|   344|   PDX| SJC|      83|     569|  17|     5|      1992|Fixed wing multi ...|      BOEING| 737-3H4|      2|  149|   NA|Turbo-fan|\n",
            "| N612AS|2014|    3|  9|     754|       -1|    1015|        1|     AS|   522|   SEA| BUR|     127|     937|   7|    54|      1999|Fixed wing multi ...|      BOEING| 737-790|      2|  151|   NA|Turbo-jet|\n",
            "+-------+----+-----+---+--------+---------+--------+---------+-------+------+------+----+--------+--------+----+------+----------+--------------------+------------+--------+-------+-----+-----+---------+\n",
            "only showing top 5 rows\n",
            "\n"
          ],
          "name": "stdout"
        }
      ]
    },
    {
      "cell_type": "markdown",
      "metadata": {
        "id": "Gm_bmwtaz33s",
        "colab_type": "text"
      },
      "source": [
        "## Data types\n",
        "Before we get started modeling, it's important to know that Spark only handles numeric data. That means all of the columns in our DataFrame must be either integers or decimals (called 'doubles' in Spark).\n",
        "\n",
        "When we imported our data, we let Spark guess what kind of information each column held. Unfortunately, Spark doesn't always guess right and we can see that some of the columns in our DataFrame are strings containing numbers as opposed to actual numeric values.\n",
        "\n",
        "To remedy this, we can use the `.cast()` method in combination with the `.withColumn()` method. It's important to note that `.cast()` works on columns, while `.withColumn()` works on DataFrames.\n",
        "\n",
        "The only argument we need to pass to `.cast()` is the kind of value we want to create, in string form. For example, to create integers, we'll pass the argument `\"integer\"` and for decimal numbers we'll use `\"double\"`.\n",
        "\n",
        "We can put this call to `.cast()` inside a call to `.withColumn()` to overwrite the already existing column.\n",
        "\n"
      ]
    },
    {
      "cell_type": "code",
      "metadata": {
        "id": "pePCxM2JCGRA",
        "colab_type": "code",
        "outputId": "37800363-8507-47cb-d45e-e6851b7b3b4f",
        "colab": {
          "base_uri": "https://localhost:8080/",
          "height": 306
        }
      },
      "source": [
        "model_data.show(10)"
      ],
      "execution_count": 0,
      "outputs": [
        {
          "output_type": "stream",
          "text": [
            "+-------+----+-----+---+--------+---------+--------+---------+-------+------+------+----+--------+--------+----+------+----------+--------------------+------------+--------+-------+-----+-----+---------+\n",
            "|tailnum|year|month|day|dep_time|dep_delay|arr_time|arr_delay|carrier|flight|origin|dest|air_time|distance|hour|minute|plane_year|                type|manufacturer|   model|engines|seats|speed|   engine|\n",
            "+-------+----+-----+---+--------+---------+--------+---------+-------+------+------+----+--------+--------+----+------+----------+--------------------+------------+--------+-------+-----+-----+---------+\n",
            "| N846VA|2014|   12|  8|     658|       -7|     935|       -5|     VX|  1780|   SEA| LAX|     132|     954|   6|    58|      2011|Fixed wing multi ...|      AIRBUS|A320-214|      2|  182|   NA|Turbo-fan|\n",
            "| N559AS|2014|    1| 22|    1040|        5|    1505|        5|     AS|   851|   SEA| HNL|     360|    2677|  10|    40|      2006|Fixed wing multi ...|      BOEING| 737-890|      2|  149|   NA|Turbo-fan|\n",
            "| N847VA|2014|    3|  9|    1443|       -2|    1652|        2|     VX|   755|   SEA| SFO|     111|     679|  14|    43|      2011|Fixed wing multi ...|      AIRBUS|A320-214|      2|  182|   NA|Turbo-fan|\n",
            "| N360SW|2014|    4|  9|    1705|       45|    1839|       34|     WN|   344|   PDX| SJC|      83|     569|  17|     5|      1992|Fixed wing multi ...|      BOEING| 737-3H4|      2|  149|   NA|Turbo-fan|\n",
            "| N612AS|2014|    3|  9|     754|       -1|    1015|        1|     AS|   522|   SEA| BUR|     127|     937|   7|    54|      1999|Fixed wing multi ...|      BOEING| 737-790|      2|  151|   NA|Turbo-jet|\n",
            "| N646SW|2014|    1| 15|    1037|        7|    1352|        2|     WN|    48|   PDX| DEN|     121|     991|  10|    37|      1997|Fixed wing multi ...|      BOEING| 737-3H4|      2|  149|   NA|Turbo-fan|\n",
            "| N422WN|2014|    7|  2|     847|       42|    1041|       51|     WN|  1520|   PDX| OAK|      90|     543|   8|    47|      2002|Fixed wing multi ...|      BOEING| 737-7H4|      2|  140|   NA|Turbo-fan|\n",
            "| N361VA|2014|    5| 12|    1655|       -5|    1842|      -18|     VX|   755|   SEA| SFO|      98|     679|  16|    55|      2013|Fixed wing multi ...|      AIRBUS|A320-214|      2|  182|   NA|Turbo-fan|\n",
            "| N309AS|2014|    4| 19|    1236|       -4|    1508|       -7|     AS|   490|   SEA| SAN|     135|    1050|  12|    36|      2001|Fixed wing multi ...|      BOEING| 737-990|      2|  149|   NA|Turbo-jet|\n",
            "| N564AS|2014|   11| 19|    1812|       -3|    2352|       -4|     AS|    26|   SEA| ORD|     198|    1721|  18|    12|      2006|Fixed wing multi ...|      BOEING| 737-890|      2|  149|   NA|Turbo-fan|\n",
            "+-------+----+-----+---+--------+---------+--------+---------+-------+------+------+----+--------+--------+----+------+----------+--------------------+------------+--------+-------+-----+-----+---------+\n",
            "only showing top 10 rows\n",
            "\n"
          ],
          "name": "stdout"
        }
      ]
    },
    {
      "cell_type": "markdown",
      "metadata": {
        "id": "gH4rR011C6Dq",
        "colab_type": "text"
      },
      "source": [
        "Converting the columns `arr_delay`, `air_time`, `month` and `plane_year` from string type to integers.."
      ]
    },
    {
      "cell_type": "code",
      "metadata": {
        "id": "qHJr0Z9fC5vx",
        "colab_type": "code",
        "colab": {}
      },
      "source": [
        "model_data = model_data.withColumn(\"arr_delay\", model_data.arr_delay.cast(\"integer\"))\n",
        "model_data = model_data.withColumn(\"air_time\", model_data.air_time.cast(\"integer\"))\n",
        "model_data = model_data.withColumn(\"month\", model_data.month.cast(\"integer\"))\n",
        "model_data = model_data.withColumn(\"plane_year\", model_data.plane_year.cast(\"integer\"))"
      ],
      "execution_count": 0,
      "outputs": []
    },
    {
      "cell_type": "markdown",
      "metadata": {
        "id": "Iw8yAW2wFYrQ",
        "colab_type": "text"
      },
      "source": [
        "We'd like to calculate the age of the plane when a particular flight was made by that plane. This can be calculated by subtracting the year of manufacturing of the plane stored in the `plane_year` column from the year of the flight present in the `year` column. We'll call this new column as `plane_age`."
      ]
    },
    {
      "cell_type": "code",
      "metadata": {
        "id": "jgdrgfMzFZqo",
        "colab_type": "code",
        "colab": {}
      },
      "source": [
        "model_data = model_data.withColumn(\"plane_age\", model_data.year - model_data.plane_year)"
      ],
      "execution_count": 0,
      "outputs": []
    },
    {
      "cell_type": "markdown",
      "metadata": {
        "id": "G1lU2i9eGQrQ",
        "colab_type": "text"
      },
      "source": [
        "We also want to have another column `is_late` that stores whether a flight was late or not. So, this column is going to store only Boolean values. We can create this column from the `arr_delay` column."
      ]
    },
    {
      "cell_type": "code",
      "metadata": {
        "id": "OT-6ZsKIHZjJ",
        "colab_type": "code",
        "outputId": "8e674caf-4350-4538-8fb2-26cb67f26b23",
        "colab": {
          "base_uri": "https://localhost:8080/",
          "height": 224
        }
      },
      "source": [
        "model_data = model_data.withColumn(\"is_late\", model_data.arr_delay > 0)\n",
        "model_data.show(5)"
      ],
      "execution_count": 0,
      "outputs": [
        {
          "output_type": "stream",
          "text": [
            "+-------+----+-----+---+--------+---------+--------+---------+-------+------+------+----+--------+--------+----+------+----------+--------------------+------------+--------+-------+-----+-----+---------+---------+-------+\n",
            "|tailnum|year|month|day|dep_time|dep_delay|arr_time|arr_delay|carrier|flight|origin|dest|air_time|distance|hour|minute|plane_year|                type|manufacturer|   model|engines|seats|speed|   engine|plane_age|is_late|\n",
            "+-------+----+-----+---+--------+---------+--------+---------+-------+------+------+----+--------+--------+----+------+----------+--------------------+------------+--------+-------+-----+-----+---------+---------+-------+\n",
            "| N846VA|2014|   12|  8|     658|       -7|     935|       -5|     VX|  1780|   SEA| LAX|     132|     954|   6|    58|      2011|Fixed wing multi ...|      AIRBUS|A320-214|      2|  182|   NA|Turbo-fan|      3.0|  false|\n",
            "| N559AS|2014|    1| 22|    1040|        5|    1505|        5|     AS|   851|   SEA| HNL|     360|    2677|  10|    40|      2006|Fixed wing multi ...|      BOEING| 737-890|      2|  149|   NA|Turbo-fan|      8.0|   true|\n",
            "| N847VA|2014|    3|  9|    1443|       -2|    1652|        2|     VX|   755|   SEA| SFO|     111|     679|  14|    43|      2011|Fixed wing multi ...|      AIRBUS|A320-214|      2|  182|   NA|Turbo-fan|      3.0|   true|\n",
            "| N360SW|2014|    4|  9|    1705|       45|    1839|       34|     WN|   344|   PDX| SJC|      83|     569|  17|     5|      1992|Fixed wing multi ...|      BOEING| 737-3H4|      2|  149|   NA|Turbo-fan|     22.0|   true|\n",
            "| N612AS|2014|    3|  9|     754|       -1|    1015|        1|     AS|   522|   SEA| BUR|     127|     937|   7|    54|      1999|Fixed wing multi ...|      BOEING| 737-790|      2|  151|   NA|Turbo-jet|     15.0|   true|\n",
            "+-------+----+-----+---+--------+---------+--------+---------+-------+------+------+----+--------+--------+----+------+----------+--------------------+------------+--------+-------+-----+-----+---------+---------+-------+\n",
            "only showing top 5 rows\n",
            "\n"
          ],
          "name": "stdout"
        }
      ]
    },
    {
      "cell_type": "markdown",
      "metadata": {
        "id": "SC9k7AuNILw7",
        "colab_type": "text"
      },
      "source": [
        "Converting this column into an integer and storing it in another variable called 'label'. This label column shall act as a label for our ML model."
      ]
    },
    {
      "cell_type": "code",
      "metadata": {
        "id": "vpYUqVSmINh5",
        "colab_type": "code",
        "outputId": "d05dd3d6-349c-4a94-b7cf-f987240e61e8",
        "colab": {
          "base_uri": "https://localhost:8080/",
          "height": 190
        }
      },
      "source": [
        "model_data = model_data.withColumn(\"label\", model_data.is_late.cast(\"integer\"))\n",
        "model_data.show(3)"
      ],
      "execution_count": 0,
      "outputs": [
        {
          "output_type": "stream",
          "text": [
            "+-------+----+-----+---+--------+---------+--------+---------+-------+------+------+----+--------+--------+----+------+----------+--------------------+------------+--------+-------+-----+-----+---------+---------+-------+-----+\n",
            "|tailnum|year|month|day|dep_time|dep_delay|arr_time|arr_delay|carrier|flight|origin|dest|air_time|distance|hour|minute|plane_year|                type|manufacturer|   model|engines|seats|speed|   engine|plane_age|is_late|label|\n",
            "+-------+----+-----+---+--------+---------+--------+---------+-------+------+------+----+--------+--------+----+------+----------+--------------------+------------+--------+-------+-----+-----+---------+---------+-------+-----+\n",
            "| N846VA|2014|   12|  8|     658|       -7|     935|       -5|     VX|  1780|   SEA| LAX|     132|     954|   6|    58|      2011|Fixed wing multi ...|      AIRBUS|A320-214|      2|  182|   NA|Turbo-fan|      3.0|  false|    0|\n",
            "| N559AS|2014|    1| 22|    1040|        5|    1505|        5|     AS|   851|   SEA| HNL|     360|    2677|  10|    40|      2006|Fixed wing multi ...|      BOEING| 737-890|      2|  149|   NA|Turbo-fan|      8.0|   true|    1|\n",
            "| N847VA|2014|    3|  9|    1443|       -2|    1652|        2|     VX|   755|   SEA| SFO|     111|     679|  14|    43|      2011|Fixed wing multi ...|      AIRBUS|A320-214|      2|  182|   NA|Turbo-fan|      3.0|   true|    1|\n",
            "+-------+----+-----+---+--------+---------+--------+---------+-------+------+------+----+--------+--------+----+------+----------+--------------------+------------+--------+-------+-----+-----+---------+---------+-------+-----+\n",
            "only showing top 3 rows\n",
            "\n"
          ],
          "name": "stdout"
        }
      ]
    },
    {
      "cell_type": "markdown",
      "metadata": {
        "id": "02Ko6PqfIe9i",
        "colab_type": "text"
      },
      "source": [
        "Filtering out the missing values from the DataFrame."
      ]
    },
    {
      "cell_type": "code",
      "metadata": {
        "id": "8fuWFqjIIePl",
        "colab_type": "code",
        "colab": {}
      },
      "source": [
        "# Remove missing values\n",
        "model_data = model_data.filter(\"arr_delay IS NOT NULL AND dep_delay IS NOT NULL AND air_time IS NOT NULL AND plane_year IS NOT NULL\")"
      ],
      "execution_count": 0,
      "outputs": []
    },
    {
      "cell_type": "markdown",
      "metadata": {
        "id": "4uSd_i1JLjUP",
        "colab_type": "text"
      },
      "source": [
        "### Strings and factors\n",
        "As we know, Spark requires numeric data for modeling. So far this hasn't been an issue; even boolean columns can easily be converted to integers without any trouble. But we'll also be using the airline and the plane's destination as features in our model. These are coded as strings and there isn't any obvious way to convert them to a numeric data type.\n",
        "\n",
        "Fortunately, PySpark has functions for handling this built into the **`pyspark.ml.features`** submodule. We can create what are called 'one-hot vectors' to represent the carrier and the destination of each flight. A one-hot vector is a way of representing a categorical feature where every observation has a vector in which all elements are zero except for at most one element, which has a value of one (1).\n",
        "\n",
        "Each element in the vector corresponds to a level of the feature, so it's possible to tell what the right level is by seeing which element of the vector is equal to one (1).\n",
        "\n",
        "The first step to encoding our categorical feature is to create a `StringIndexer`. Members of this class are `Estimators` that take a DataFrame with a column of strings and map each unique string to a number. Then, the `Estimator` returns a `Transformer` that takes a DataFrame, attaches the mapping to it as metadata, and returns a new DataFrame with a numeric column corresponding to the string column.\n",
        "\n",
        "The second step is to encode this numeric column as a one-hot vector using a `OneHotEncoder`. This works exactly the same way as the `StringIndexer` by creating an `Estimator` and then a `Transformer`. The end result is a column that encodes our categorical feature as a vector that's suitable for machine learning routines!"
      ]
    },
    {
      "cell_type": "code",
      "metadata": {
        "id": "-0foaQqPMFnA",
        "colab_type": "code",
        "colab": {}
      },
      "source": [
        "from pyspark.ml.feature import StringIndexer, OneHotEncoder\n",
        "\n",
        "# Create a StringIndexer\n",
        "carr_indexer = StringIndexer(inputCol=\"carrier\", outputCol=\"carrier_index\")\n",
        "\n",
        "# Create a OneHotEncoder\n",
        "carr_encoder = OneHotEncoder(inputCol=\"carrier_index\", outputCol=\"carrier_fact\")"
      ],
      "execution_count": 0,
      "outputs": []
    },
    {
      "cell_type": "markdown",
      "metadata": {
        "id": "gfzC4QLrRAeJ",
        "colab_type": "text"
      },
      "source": [
        "Creating a `dest` column in a similar way..."
      ]
    },
    {
      "cell_type": "code",
      "metadata": {
        "id": "SrkBFaBNRHJE",
        "colab_type": "code",
        "colab": {}
      },
      "source": [
        "dest_indexer = StringIndexer(inputCol=\"dest\", outputCol=\"dest_indexer\")\n",
        "\n",
        "dest_encoder = OneHotEncoder(inputCol=\"dest_indexer\", outputCol=\"dest_fact\")"
      ],
      "execution_count": 0,
      "outputs": []
    },
    {
      "cell_type": "markdown",
      "metadata": {
        "id": "_BQVV2G7R9UL",
        "colab_type": "text"
      },
      "source": [
        "### Assembling all columns as a single vector\n",
        "The last step in the `Pipeline` is to combine all of the columns containing our features into a **single** column. This has to be done before modeling can take place because every Spark modeling routine expects the data to be in this form. \n",
        "\n",
        "We can do this by storing each of the values from a column as an entry in a vector. Then, from the model's point of view, every observation is a vector that contains all of the information about it and a label that tells the modeler what value that observation corresponds to.\n",
        "\n",
        "To do this, the `pyspark.ml.feature` submodule contains a class called `VectorAssembler`. This `Transformer` takes all of the columns we specify and combines them into a new vector column."
      ]
    },
    {
      "cell_type": "code",
      "metadata": {
        "id": "dMGIpsEdRHBt",
        "colab_type": "code",
        "colab": {}
      },
      "source": [
        "from  pyspark.ml.feature import VectorAssembler\n",
        "\n",
        "vec_assembler = VectorAssembler(inputCols=[\"month\", \"air_time\", \"carrier_fact\", \"dest_fact\", \"plane_age\"], outputCol=\"features\")"
      ],
      "execution_count": 0,
      "outputs": []
    },
    {
      "cell_type": "markdown",
      "metadata": {
        "id": "MJxswiHvTYqu",
        "colab_type": "text"
      },
      "source": [
        "We're finally ready to create a **`Pipeline`**. \n",
        "\n",
        "**`Pipeline`** is a class in the `pyspark.ml module` that combines all the `Estimators` and `Transformers` that we've already created. This lets us reuse the same modeling process over and over again by wrapping it up in one simple object."
      ]
    },
    {
      "cell_type": "code",
      "metadata": {
        "id": "U7-Xx12VTqKv",
        "colab_type": "code",
        "colab": {}
      },
      "source": [
        "# Importing Pipeline\n",
        "from pyspark.ml import Pipeline"
      ],
      "execution_count": 0,
      "outputs": []
    },
    {
      "cell_type": "markdown",
      "metadata": {
        "id": "cRDTQmnXYMUs",
        "colab_type": "text"
      },
      "source": [
        "We create an object of the Pipeline class by calling its constructor with the keyword argument `stages` that specifies the stages we want out data to go through in the pipeline."
      ]
    },
    {
      "cell_type": "code",
      "metadata": {
        "id": "PNSEXAA_YYis",
        "colab_type": "code",
        "colab": {}
      },
      "source": [
        "# Making the pipeline\n",
        "flights_pipe = Pipeline(stages=[dest_indexer, dest_encoder, carr_indexer, carr_encoder, vec_assembler])"
      ],
      "execution_count": 0,
      "outputs": []
    },
    {
      "cell_type": "markdown",
      "metadata": {
        "id": "0vK8s1FzYhcS",
        "colab_type": "text"
      },
      "source": [
        "---\n",
        "## Test vs Train\n",
        "After we've cleaned your data and gotten it ready for modeling, one of the most important steps is to split the data into a test set and a train set. After that, we don't touch our test data until we think we have a good model! As we're building models and forming hypotheses, we can test them on our training data to get an idea of their performance.\n",
        "\n",
        "Once we've got our favorite model, we can see how well it predicts the new data in our test set. This never-before-seen data will give us a much more realistic idea of your model's performance in the real world when we're trying to predict or classify new data.\n",
        "\n",
        "In Spark it's important to make sure you **split the data after all the transformations**. This is because operations like `StringIndexer` don't always produce the same index even when given the same list of strings."
      ]
    },
    {
      "cell_type": "code",
      "metadata": {
        "id": "UpKhwKGNY8RB",
        "colab_type": "code",
        "outputId": "2feacb60-bb47-4899-baa9-ae04a7946e45",
        "colab": {
          "base_uri": "https://localhost:8080/",
          "height": 224
        }
      },
      "source": [
        "## Remember we have a DataFrame called as model_data\n",
        "model_data.show(4)\n",
        "\n",
        "type(flights_pipe)"
      ],
      "execution_count": 0,
      "outputs": [
        {
          "output_type": "stream",
          "text": [
            "+-------+----+-----+---+--------+---------+--------+---------+-------+------+------+----+--------+--------+----+------+----------+--------------------+------------+--------+-------+-----+-----+---------+---------+-------+-----+\n",
            "|tailnum|year|month|day|dep_time|dep_delay|arr_time|arr_delay|carrier|flight|origin|dest|air_time|distance|hour|minute|plane_year|                type|manufacturer|   model|engines|seats|speed|   engine|plane_age|is_late|label|\n",
            "+-------+----+-----+---+--------+---------+--------+---------+-------+------+------+----+--------+--------+----+------+----------+--------------------+------------+--------+-------+-----+-----+---------+---------+-------+-----+\n",
            "| N846VA|2014|   12|  8|     658|       -7|     935|       -5|     VX|  1780|   SEA| LAX|     132|     954|   6|    58|      2011|Fixed wing multi ...|      AIRBUS|A320-214|      2|  182|   NA|Turbo-fan|      3.0|  false|    0|\n",
            "| N559AS|2014|    1| 22|    1040|        5|    1505|        5|     AS|   851|   SEA| HNL|     360|    2677|  10|    40|      2006|Fixed wing multi ...|      BOEING| 737-890|      2|  149|   NA|Turbo-fan|      8.0|   true|    1|\n",
            "| N847VA|2014|    3|  9|    1443|       -2|    1652|        2|     VX|   755|   SEA| SFO|     111|     679|  14|    43|      2011|Fixed wing multi ...|      AIRBUS|A320-214|      2|  182|   NA|Turbo-fan|      3.0|   true|    1|\n",
            "| N360SW|2014|    4|  9|    1705|       45|    1839|       34|     WN|   344|   PDX| SJC|      83|     569|  17|     5|      1992|Fixed wing multi ...|      BOEING| 737-3H4|      2|  149|   NA|Turbo-fan|     22.0|   true|    1|\n",
            "+-------+----+-----+---+--------+---------+--------+---------+-------+------+------+----+--------+--------+----+------+----------+--------------------+------------+--------+-------+-----+-----+---------+---------+-------+-----+\n",
            "only showing top 4 rows\n",
            "\n"
          ],
          "name": "stdout"
        },
        {
          "output_type": "execute_result",
          "data": {
            "text/plain": [
              "pyspark.ml.pipeline.Pipeline"
            ]
          },
          "metadata": {
            "tags": []
          },
          "execution_count": 56
        }
      ]
    },
    {
      "cell_type": "markdown",
      "metadata": {
        "id": "26Od70KmZUM_",
        "colab_type": "text"
      },
      "source": [
        "Now, we'll simply pass our data through the Pipeline we just created, by chaining the `fit()` and `transform()` mehtods on the Pipeline we created passing the data `model_data` as arguments to both the methods. The result is a Spark DataFrame with the transformations performed."
      ]
    },
    {
      "cell_type": "code",
      "metadata": {
        "id": "HR0naKoIZbjX",
        "colab_type": "code",
        "outputId": "74a486ff-34d2-4647-afdb-fd70dfedc2b9",
        "colab": {
          "base_uri": "https://localhost:8080/",
          "height": 34
        }
      },
      "source": [
        "piped_data = flights_pipe.fit(model_data).transform(model_data)\n",
        "\n",
        "type(piped_data)"
      ],
      "execution_count": 0,
      "outputs": [
        {
          "output_type": "execute_result",
          "data": {
            "text/plain": [
              "pyspark.sql.dataframe.DataFrame"
            ]
          },
          "metadata": {
            "tags": []
          },
          "execution_count": 57
        }
      ]
    },
    {
      "cell_type": "code",
      "metadata": {
        "id": "GHCg6FO_Zxvn",
        "colab_type": "code",
        "outputId": "404c932a-2dce-4e9f-987d-21a4dea02c99",
        "colab": {
          "base_uri": "https://localhost:8080/",
          "height": 190
        }
      },
      "source": [
        "piped_data.show(n=3)"
      ],
      "execution_count": 0,
      "outputs": [
        {
          "output_type": "stream",
          "text": [
            "+-------+----+-----+---+--------+---------+--------+---------+-------+------+------+----+--------+--------+----+------+----------+--------------------+------------+--------+-------+-----+-----+---------+---------+-------+-----+------------+---------------+-------------+--------------+--------------------+\n",
            "|tailnum|year|month|day|dep_time|dep_delay|arr_time|arr_delay|carrier|flight|origin|dest|air_time|distance|hour|minute|plane_year|                type|manufacturer|   model|engines|seats|speed|   engine|plane_age|is_late|label|dest_indexer|      dest_fact|carrier_index|  carrier_fact|            features|\n",
            "+-------+----+-----+---+--------+---------+--------+---------+-------+------+------+----+--------+--------+----+------+----------+--------------------+------------+--------+-------+-----+-----+---------+---------+-------+-----+------------+---------------+-------------+--------------+--------------------+\n",
            "| N846VA|2014|   12|  8|     658|       -7|     935|       -5|     VX|  1780|   SEA| LAX|     132|     954|   6|    58|      2011|Fixed wing multi ...|      AIRBUS|A320-214|      2|  182|   NA|Turbo-fan|      3.0|  false|    0|         1.0| (68,[1],[1.0])|          7.0|(10,[7],[1.0])|(81,[0,1,9,13,80]...|\n",
            "| N559AS|2014|    1| 22|    1040|        5|    1505|        5|     AS|   851|   SEA| HNL|     360|    2677|  10|    40|      2006|Fixed wing multi ...|      BOEING| 737-890|      2|  149|   NA|Turbo-fan|      8.0|   true|    1|        19.0|(68,[19],[1.0])|          0.0|(10,[0],[1.0])|(81,[0,1,2,31,80]...|\n",
            "| N847VA|2014|    3|  9|    1443|       -2|    1652|        2|     VX|   755|   SEA| SFO|     111|     679|  14|    43|      2011|Fixed wing multi ...|      AIRBUS|A320-214|      2|  182|   NA|Turbo-fan|      3.0|   true|    1|         0.0| (68,[0],[1.0])|          7.0|(10,[7],[1.0])|(81,[0,1,9,12,80]...|\n",
            "+-------+----+-----+---+--------+---------+--------+---------+-------+------+------+----+--------+--------+----+------+----------+--------------------+------------+--------+-------+-----+-----+---------+---------+-------+-----+------------+---------------+-------------+--------------+--------------------+\n",
            "only showing top 3 rows\n",
            "\n"
          ],
          "name": "stdout"
        }
      ]
    },
    {
      "cell_type": "markdown",
      "metadata": {
        "id": "DI8m8cSMaWjb",
        "colab_type": "text"
      },
      "source": [
        "## Splitting train and test sets\n",
        "We'll use the DataFrame method **`.randomSplit()`** to split `piped_data` into two pieces, training with 60% of the data, and test with 40% of the data by passing the list `[.6, .4]` to the `.randomSplit()` method."
      ]
    },
    {
      "cell_type": "code",
      "metadata": {
        "id": "5098UhW5aUjm",
        "colab_type": "code",
        "outputId": "20beab82-e0e4-4a39-fab5-ead8ccea1104",
        "colab": {
          "base_uri": "https://localhost:8080/",
          "height": 377
        }
      },
      "source": [
        "training, test = piped_data.randomSplit(weights=[.6, .4], seed=42) ## seed value is optional and is provided only for repeatibility of results.\n",
        "\n",
        "training.show(n=3)\n",
        "print(\"Training dataset row count:\", training.count())\n",
        "\n",
        "test.show(n=3)\n",
        "print(\"Testing dataset row count:\", test.count())"
      ],
      "execution_count": 0,
      "outputs": [
        {
          "output_type": "stream",
          "text": [
            "+-------+----+-----+---+--------+---------+--------+---------+-------+------+------+----+--------+--------+----+------+----------+--------------------+----------------+--------+-------+-----+-----+---------+---------+-------+-----+------------+---------------+-------------+--------------+--------------------+\n",
            "|tailnum|year|month|day|dep_time|dep_delay|arr_time|arr_delay|carrier|flight|origin|dest|air_time|distance|hour|minute|plane_year|                type|    manufacturer|   model|engines|seats|speed|   engine|plane_age|is_late|label|dest_indexer|      dest_fact|carrier_index|  carrier_fact|            features|\n",
            "+-------+----+-----+---+--------+---------+--------+---------+-------+------+------+----+--------+--------+----+------+----------+--------------------+----------------+--------+-------+-----+-----+---------+---------+-------+-----+------------+---------------+-------------+--------------+--------------------+\n",
            "| N107US|2014|    5| 15|    1058|       -2|    1845|      -23|     US|  2092|   SEA| CLT|     264|    2279|  10|    58|      1999|Fixed wing multi ...|AIRBUS INDUSTRIE|A320-214|      2|  182|   NA|Turbo-fan|     15.0|  false|    0|        33.0|(68,[33],[1.0])|          5.0|(10,[5],[1.0])|(81,[0,1,7,45,80]...|\n",
            "| N107US|2014|    9| 14|     509|       -6|     751|       -8|     US|   480|   SEA| PHX|     143|    1107|   5|     9|      1999|Fixed wing multi ...|AIRBUS INDUSTRIE|A320-214|      2|  182|   NA|Turbo-fan|     15.0|  false|    0|         4.0| (68,[4],[1.0])|          5.0|(10,[5],[1.0])|(81,[0,1,7,16,80]...|\n",
            "| N108UW|2014|    6| 17|    1107|        7|    1906|        8|     US|  2092|   SEA| CLT|     273|    2279|  11|     7|      1999|Fixed wing multi ...|AIRBUS INDUSTRIE|A320-214|      2|  182|   NA|Turbo-fan|     15.0|   true|    1|        33.0|(68,[33],[1.0])|          5.0|(10,[5],[1.0])|(81,[0,1,7,45,80]...|\n",
            "+-------+----+-----+---+--------+---------+--------+---------+-------+------+------+----+--------+--------+----+------+----------+--------------------+----------------+--------+-------+-----+-----+---------+---------+-------+-----+------------+---------------+-------------+--------------+--------------------+\n",
            "only showing top 3 rows\n",
            "\n",
            "Training dataset row count: 5621\n",
            "+-------+----+-----+---+--------+---------+--------+---------+-------+------+------+----+--------+--------+----+------+----------+--------------------+----------------+--------+-------+-----+-----+---------+---------+-------+-----+------------+---------------+-------------+--------------+--------------------+\n",
            "|tailnum|year|month|day|dep_time|dep_delay|arr_time|arr_delay|carrier|flight|origin|dest|air_time|distance|hour|minute|plane_year|                type|    manufacturer|   model|engines|seats|speed|   engine|plane_age|is_late|label|dest_indexer|      dest_fact|carrier_index|  carrier_fact|            features|\n",
            "+-------+----+-----+---+--------+---------+--------+---------+-------+------+------+----+--------+--------+----+------+----------+--------------------+----------------+--------+-------+-----+-----+---------+---------+-------+-----+------------+---------------+-------------+--------------+--------------------+\n",
            "| N102UW|2014|    5|  7|    1311|        6|    2115|        2|     US|  1971|   SEA| CLT|     274|    2279|  13|    11|      1998|Fixed wing multi ...|AIRBUS INDUSTRIE|A320-214|      2|  182|   NA|Turbo-fan|     16.0|   true|    1|        33.0|(68,[33],[1.0])|          5.0|(10,[5],[1.0])|(81,[0,1,7,45,80]...|\n",
            "| N102UW|2014|   11|  9|    2220|       -5|     555|      -11|     US|  1930|   PDX| CLT|     257|    2282|  22|    20|      1998|Fixed wing multi ...|AIRBUS INDUSTRIE|A320-214|      2|  182|   NA|Turbo-fan|     16.0|  false|    0|        33.0|(68,[33],[1.0])|          5.0|(10,[5],[1.0])|(81,[0,1,7,45,80]...|\n",
            "| N105UW|2014|    3| 13|    1325|        5|    2123|       13|     US|  1805|   SEA| CLT|     261|    2279|  13|    25|      1999|Fixed wing multi ...|AIRBUS INDUSTRIE|A320-214|      2|  182|   NA|Turbo-fan|     15.0|   true|    1|        33.0|(68,[33],[1.0])|          5.0|(10,[5],[1.0])|(81,[0,1,7,45,80]...|\n",
            "+-------+----+-----+---+--------+---------+--------+---------+-------+------+------+----+--------+--------+----+------+----------+--------------------+----------------+--------+-------+-----+-----+---------+---------+-------+-----+------------+---------------+-------------+--------------+--------------------+\n",
            "only showing top 3 rows\n",
            "\n",
            "Testing dataset row count: 3682\n"
          ],
          "name": "stdout"
        }
      ]
    },
    {
      "cell_type": "markdown",
      "metadata": {
        "id": "MawB8LcxbiYj",
        "colab_type": "text"
      },
      "source": [
        "---\n",
        "---"
      ]
    },
    {
      "cell_type": "markdown",
      "metadata": {
        "id": "c7e8LKdg09Tn",
        "colab_type": "text"
      },
      "source": [
        "# Part 4: Model tuning and selection\n",
        "In this last part, we'll apply what you've learned to create a model that predicts which flights will be delayed."
      ]
    },
    {
      "cell_type": "markdown",
      "metadata": {
        "id": "yO4pkE5ibnOA",
        "colab_type": "text"
      },
      "source": [
        "## What is logistic regression?\n",
        "The model we'll be fitting is called a *logistic regression*. This model is very similar to a *linear regression*, but instead of predicting a numeric variable, it predicts the probability (between 0 and 1) of an event.\n",
        "\n",
        "To use this as a classification algorithm, all we have to do is assign a cutoff point to these probabilities. If the predicted probability is above the cutoff point, we classify that observation as a 'yes' (in this case, the flight being late), if it's below, we classify it as a 'no'!\n",
        "\n",
        "We'll tune this model by testing different values for several *hyperparameters*. A hyperparameter is just a value in the model that's not estimated from the data, but rather is supplied by the user to maximize performance.\n",
        "\n",
        ".\n",
        "\n",
        "Creating a **`LogisticRegression`** modeller using the **`pyspark.ml.classification`** module."
      ]
    },
    {
      "cell_type": "code",
      "metadata": {
        "id": "1DhJuHOl1JUn",
        "colab_type": "code",
        "colab": {}
      },
      "source": [
        "from pyspark.ml.classification import LogisticRegression\n",
        "\n",
        "lr = LogisticRegression()"
      ],
      "execution_count": 0,
      "outputs": []
    },
    {
      "cell_type": "markdown",
      "metadata": {
        "id": "0y635MYLdDhS",
        "colab_type": "text"
      },
      "source": [
        "## Cross validation\n",
        "In the next few exercises we'll be tuning your logistic regression model using a procedure called **k-fold cross** validation. This is a method of estimating the model's performance on unseen data (like our test DataFrame).\n",
        "\n",
        "It works by splitting the training data into a few different partitions. The exact number is up to us, but in this course we'll be using PySpark's default value of three. Once the data is split up, one of the partitions is set aside, and the model is fit to the others. Then the error is measured against the held out partition. This is repeated for each of the partitions, so that every block of data is held out and used as a test set exactly once. Then the error on each of the partitions is averaged. This is called the cross validation error of the model, and is a good estimate of the actual error on the held out data.\n",
        "\n",
        "we'll be using cross validation to choose the hyperparameters by creating a grid of the possible pairs of values for the two hyperparameters, **`elasticNetParam`** and **`regParam`**, and using the cross validation error to compare all the different models so we can choose the best one!"
      ]
    },
    {
      "cell_type": "markdown",
      "metadata": {
        "id": "DqrY8llOeaow",
        "colab_type": "text"
      },
      "source": [
        "### Creating the evaluator\n",
        "\n",
        "The first thing ywe need when doing cross validation for model selection is a way to compare different models. Luckily, the **`pyspark.ml.evaluation`** submodule has classes for evaluating different kinds of models. Our model is a binary classification model, so we'll be using the **`BinaryClassificationEvaluator`** from the **`pyspark.ml.evaluation module`**.\n",
        "\n",
        "This evaluator calculates the area under the ROC. This is a metric that combines the two kinds of errors a binary classifier can make (false positives and false negatives) into a simple number."
      ]
    },
    {
      "cell_type": "code",
      "metadata": {
        "id": "MQdpiOLweW0L",
        "colab_type": "code",
        "colab": {}
      },
      "source": [
        "import pyspark.ml.evaluation as evals"
      ],
      "execution_count": 0,
      "outputs": []
    },
    {
      "cell_type": "code",
      "metadata": {
        "id": "13AePZuVhQfb",
        "colab_type": "code",
        "outputId": "22f03c91-032d-43e7-e644-f12a2c0aa36a",
        "colab": {
          "base_uri": "https://localhost:8080/",
          "height": 51
        }
      },
      "source": [
        "evaluator = evals.BinaryClassificationEvaluator(metricName='areaUnderROC')\n",
        "\n",
        "print(evaluator)\n",
        "print(type(evaluator))"
      ],
      "execution_count": 0,
      "outputs": [
        {
          "output_type": "stream",
          "text": [
            "BinaryClassificationEvaluator_bd91c2499374\n",
            "<class 'pyspark.ml.evaluation.BinaryClassificationEvaluator'>\n"
          ],
          "name": "stdout"
        }
      ]
    },
    {
      "cell_type": "markdown",
      "metadata": {
        "id": "XgssGyPDgfFl",
        "colab_type": "text"
      },
      "source": [
        "## Making the grid\n",
        "Next, we need to create a grid of values to search over when looking for the optimal hyperparameters. The submodule **`pyspark.ml.tuning`** includes a class called **`ParamGridBuilder`** that does just that.\n",
        "\n",
        "We'll need to use the **`.addGrid()`** and **`.build()`** methods to create a grid that we can use for cross validation. The `.addGrid()` method takes a model parameter (an attribute of the model `Estimator`, `lr`, that we created a few exercises ago) and a list of values that we want to try. The `.build()` method takes no arguments, it just returns the grid that we'll use later."
      ]
    },
    {
      "cell_type": "code",
      "metadata": {
        "id": "WvdqUqWXiS_N",
        "colab_type": "code",
        "colab": {}
      },
      "source": [
        "import pyspark.ml.tuning as tune\n",
        "import numpy as np"
      ],
      "execution_count": 0,
      "outputs": []
    },
    {
      "cell_type": "code",
      "metadata": {
        "id": "mBprO3bniYKR",
        "colab_type": "code",
        "colab": {}
      },
      "source": [
        "grid = tune.ParamGridBuilder()"
      ],
      "execution_count": 0,
      "outputs": []
    },
    {
      "cell_type": "markdown",
      "metadata": {
        "id": "qSqcwSUqlchX",
        "colab_type": "text"
      },
      "source": [
        "Calling the `.addGrid()` method on grid with `lr.regParam` as the first argument and `np.arange(0, .1, .01)` as the second argument. This creates a list of numbers from 0 to .1, incrementing by .01. We'll overwrite `grid` with the result."
      ]
    },
    {
      "cell_type": "code",
      "metadata": {
        "id": "huOWfU76lo87",
        "colab_type": "code",
        "colab": {}
      },
      "source": [
        "grid = grid.addGrid(lr.regParam, np.arange(0, 0.1, 0.01))"
      ],
      "execution_count": 0,
      "outputs": []
    },
    {
      "cell_type": "markdown",
      "metadata": {
        "id": "YdPBe4wIl6DR",
        "colab_type": "text"
      },
      "source": [
        "Updating `grid` again by calling the `.addGrid()` method a second time creating a grid for `lr.elasticNetParam` that includes only the list of values `[0, 1]`."
      ]
    },
    {
      "cell_type": "code",
      "metadata": {
        "id": "1xk-xyzSl5GX",
        "colab_type": "code",
        "colab": {}
      },
      "source": [
        "grid = grid.addGrid(lr.elasticNetParam, [0, 1])"
      ],
      "execution_count": 0,
      "outputs": []
    },
    {
      "cell_type": "code",
      "metadata": {
        "id": "Y3VxO5BcmNyc",
        "colab_type": "code",
        "colab": {}
      },
      "source": [
        "grid = grid.build()"
      ],
      "execution_count": 0,
      "outputs": []
    },
    {
      "cell_type": "markdown",
      "metadata": {
        "id": "ixfMGM89mYEZ",
        "colab_type": "text"
      },
      "source": [
        "## Making the validator\n",
        "The submodule `pyspark.ml.tuning` also has a class called `CrossValidator` for performing cross validation. This Estimator takes the modeler we want to fit, the grid of hyperparameters we created, and the evaluator we want to use to compare our models.\n",
        "\n",
        "The submodule pyspark.ml.tune has already been imported as tune. We'll create the `CrossValidator` by passing it the logistic regression Estimator `lr`, the parameter grid, and the evaluator we created in the previous exercises."
      ]
    },
    {
      "cell_type": "code",
      "metadata": {
        "id": "7_TSHDhYmP5X",
        "colab_type": "code",
        "colab": {}
      },
      "source": [
        "import pyspark.ml.tuning as tune\n",
        "\n",
        "cv = tune.CrossValidator(estimator=lr,\n",
        "               estimatorParamMaps=grid,\n",
        "               evaluator=evaluator\n",
        "               )"
      ],
      "execution_count": 0,
      "outputs": []
    },
    {
      "cell_type": "markdown",
      "metadata": {
        "id": "MBixJ7P5pI8h",
        "colab_type": "text"
      },
      "source": [
        "## Fitting the model\n",
        "We're finally ready to fit the models and select the best one!\n",
        "\n",
        "Unfortunately, cross validation is a very computationally intensive procedure.\n",
        "\n",
        "For fitting the models we'll do\n",
        "> `models = cv.fit(training)`\n",
        "\n",
        "After fitting, we'll extract the best model by\n",
        "> `best_lr = models.bestModel`\n",
        "\n",
        "Remember, the training data is called `training` and we're using `lr` to fit a logistic regression model. Cross validation selected the parameter values `regParam=0` and `elasticNetParam=0` as being the best. These are the default values, so we don't need to do anything else with `lr` before fitting the model."
      ]
    },
    {
      "cell_type": "code",
      "metadata": {
        "id": "W8zgpmxpoOgl",
        "colab_type": "code",
        "colab": {}
      },
      "source": [
        "models = cv.fit(training)"
      ],
      "execution_count": 0,
      "outputs": []
    },
    {
      "cell_type": "code",
      "metadata": {
        "id": "1pALnh68pc3Z",
        "colab_type": "code",
        "colab": {}
      },
      "source": [
        "# Extract the best model\n",
        "best_lr = models.bestModel"
      ],
      "execution_count": 0,
      "outputs": []
    },
    {
      "cell_type": "markdown",
      "metadata": {
        "id": "cS9iwIZ8qIzb",
        "colab_type": "text"
      },
      "source": [
        "Printing `best_lr` to verify that it's an object of the LogisticRegressionModel class."
      ]
    },
    {
      "cell_type": "code",
      "metadata": {
        "id": "K9AHxVFHqA20",
        "colab_type": "code",
        "outputId": "e1cee830-f654-42f4-9dec-44474160d91f",
        "colab": {
          "base_uri": "https://localhost:8080/",
          "height": 34
        }
      },
      "source": [
        "print(best_lr)"
      ],
      "execution_count": 0,
      "outputs": [
        {
          "output_type": "stream",
          "text": [
            "LogisticRegressionModel: uid = LogisticRegression_0973db6e9935, numClasses = 2, numFeatures = 81\n"
          ],
          "name": "stdout"
        }
      ]
    },
    {
      "cell_type": "markdown",
      "metadata": {
        "id": "6flAMGIeq1Kl",
        "colab_type": "text"
      },
      "source": [
        "---\n",
        "## Evaluating binary classifiers\n",
        "We'll be using a common metric for binary classification algorithms called the **AUC**, or **area under the curve**. In this case, the curve is the ROC, or receiver operating curve. \n",
        "\n",
        "The closer the AUC is to one (1), the better the model is!\n",
        "\n"
      ]
    },
    {
      "cell_type": "markdown",
      "metadata": {
        "id": "doaj8XiLrXFb",
        "colab_type": "text"
      },
      "source": [
        "Using our model to generate predictions by applying **`best_lr.transform()`** to the test data and saving this as test_results"
      ]
    },
    {
      "cell_type": "code",
      "metadata": {
        "id": "HVlybKtvqLxu",
        "colab_type": "code",
        "colab": {}
      },
      "source": [
        "test_results = best_lr.transform(dataset=test)"
      ],
      "execution_count": 0,
      "outputs": []
    },
    {
      "cell_type": "markdown",
      "metadata": {
        "id": "MADNduldrssL",
        "colab_type": "text"
      },
      "source": [
        "Calling `evaluator.evaluate()` on `test_results` to compute the AUC and printing the output."
      ]
    },
    {
      "cell_type": "code",
      "metadata": {
        "id": "tSGVKtzcrsQh",
        "colab_type": "code",
        "outputId": "f594f0ca-a61a-4a09-a095-9f1070871a8c",
        "colab": {
          "base_uri": "https://localhost:8080/",
          "height": 34
        }
      },
      "source": [
        "print(evaluator.evaluate(dataset=test_results))"
      ],
      "execution_count": 0,
      "outputs": [
        {
          "output_type": "stream",
          "text": [
            "0.699089985568893\n"
          ],
          "name": "stdout"
        }
      ]
    },
    {
      "cell_type": "markdown",
      "metadata": {
        "id": "rbzQdkQMsGJ2",
        "colab_type": "text"
      },
      "source": [
        "So this is the accuracy of our model.\n",
        "\n",
        "![The End](https://upload.wikimedia.org/wikipedia/commons/3/3d/The_End_Book.png)"
      ]
    }
  ]
}