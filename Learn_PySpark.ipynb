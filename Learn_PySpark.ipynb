{
  "nbformat": 4,
  "nbformat_minor": 0,
  "metadata": {
    "colab": {
      "name": "Learn-PySpark",
      "provenance": [],
      "collapsed_sections": [],
      "authorship_tag": "ABX9TyO19eyC7piGR8GibWioc3Jh",
      "include_colab_link": true
    },
    "kernelspec": {
      "name": "python3",
      "display_name": "Python 3"
    }
  },
  "cells": [
    {
      "cell_type": "markdown",
      "metadata": {
        "id": "view-in-github",
        "colab_type": "text"
      },
      "source": [
        "<a href=\"https://colab.research.google.com/github/pratikgujral/learn-PySpark/blob/master/Learn_PySpark.ipynb\" target=\"_parent\"><img src=\"https://colab.research.google.com/assets/colab-badge.svg\" alt=\"Open In Colab\"/></a>"
      ]
    },
    {
      "cell_type": "markdown",
      "metadata": {
        "id": "1nWcbtVMyjZd",
        "colab_type": "text"
      },
      "source": [
        "In this notebook, we'll learn how to use Spark using Python!\n",
        "\n",
        "# Prerequisites\n",
        "- Familiarity with Python\n"
      ]
    },
    {
      "cell_type": "markdown",
      "metadata": {
        "id": "e2Cy_rTMzqbs",
        "colab_type": "text"
      },
      "source": [
        "# Introduction\n",
        "![Spark logo](https://spark.apache.org/docs/latest/api/python/_static/spark-logo-hd.png)\n",
        "\n",
        "Spark is a tool for doing parallel computation with large datasets. Spark integrates with Python very well. PySpark is the Python package that makes the magic happen. You'll use this package to work with data about flights from Portland and Seattle. You'll learn to wrangle this data and build a whole machine learning pipeline to predict whether or not flights will be delayed. Get ready to put some Spark in your Python code and dive into the world of high-performance machine learning!"
      ]
    },
    {
      "cell_type": "markdown",
      "metadata": {
        "id": "LrfJEeqQz6He",
        "colab_type": "text"
      },
      "source": [
        "# Part 1: Getting to know PySpark\n",
        "In this part, we'll learn how Spark manages data and how can you read and write tables from Python."
      ]
    },
    {
      "cell_type": "markdown",
      "metadata": {
        "id": "8ofXzNpG1PKo",
        "colab_type": "text"
      },
      "source": [
        "## What is Spark?\n",
        "Spark is a platform for **cluster computing**. Spark lets you spread data and computations over clusters with multiple nodes (think of each node as a separate computer). Splitting up your data makes it easier to work with very large datasets because each node only works with a small amount of data.\n",
        "\n",
        "![Cluster Computing](https://i.pinimg.com/originals/bf/c4/17/bfc4173a6e383fb815935fad9a8d9c11.png)\n",
        "\n",
        "As each node works on its own subset of the total data, it also carries out a part of the total calculations required, so that both data processing and computation are performed in parallel over the nodes in the cluster. It is a fact that parallel computation can make certain types of programming tasks much faster.\n",
        "\n",
        "However, with greater computing power comes greater complexity.\n",
        "\n",
        "Deciding whether or not Spark is the best solution for your problem takes some experience, but you can consider questions like:\n",
        " - Is my data too big to work with on a single machine?\n",
        " - Can my calculations be easily parallelized?"
      ]
    },
    {
      "cell_type": "markdown",
      "metadata": {
        "id": "Q9tdzZ1y3WhO",
        "colab_type": "text"
      },
      "source": [
        "## Using Spark in Python\n",
        "The first step in using Spark is connecting to a cluster.\n",
        "\n",
        "In practice, the cluster will be hosted on a remote machine that's connected to all other nodes. There will be one computer, called the master (also sometimes called a **frontend node**) that manages splitting up the data and the computations. The **master** is connected to the rest of the computers in the cluster, which are called **worker**. The master sends the workers data and calculations to run, and they send their results back to the master.\n",
        "\n",
        "When you're just getting started with Spark it's simpler to just run a cluster locally. Thus, for this course, instead of connecting to another computer, all computations will be run on DataCamp's servers in a simulated cluster.\n",
        "\n",
        "Creating the connection is as simple as creating an instance of the `SparkContext` class. The class constructor takes a few optional arguments that allow you to specify the attributes of the cluster you're connecting to.\n",
        "\n",
        "An object holding all these attributes can be created with the `SparkConf()` constructor. Take a look at the documentation for all the details!\n",
        "\n",
        "For the rest of this course you'll have a `SparkContext` called sc already available in your workspace.\n",
        "\n"
      ]
    },
    {
      "cell_type": "markdown",
      "metadata": {
        "id": "3fRfDqNUSEVo",
        "colab_type": "text"
      },
      "source": [
        "## Installing and setting up Spark\n",
        "Run the below code. If the it throws an error, update the link to the Apache Spark dist in the wget and later while setting the environment variables"
      ]
    },
    {
      "cell_type": "code",
      "metadata": {
        "id": "fGsQUJr_R9iC",
        "colab_type": "code",
        "colab": {}
      },
      "source": [
        "!apt-get install openjdk-8-jdk-headless -qq > /dev/null\n",
        "!wget -q http://apache.org/dist/spark/spark-2.4.4/spark-2.4.4-bin-hadoop2.7.tgz\n",
        "!tar xf spark-2.4.4-bin-hadoop2.7.tgz\n",
        "!pip install -q findspark"
      ],
      "execution_count": 0,
      "outputs": []
    },
    {
      "cell_type": "markdown",
      "metadata": {
        "id": "Z42Ym6IZSwXm",
        "colab_type": "text"
      },
      "source": [
        "Now that we have installed Spark and Java in Colab, it is time to set the environment path that enables us to run PySpark in our Colab environment. Set the location of Java and Spark by running the following code:"
      ]
    },
    {
      "cell_type": "code",
      "metadata": {
        "id": "jMzfvK_VSyq4",
        "colab_type": "code",
        "colab": {}
      },
      "source": [
        "import os\n",
        "os.environ[\"JAVA_HOME\"] = \"/usr/lib/jvm/java-8-openjdk-amd64\"\n",
        "os.environ[\"SPARK_HOME\"] = \"/content/spark-2.4.4-bin-hadoop2.7\""
      ],
      "execution_count": 0,
      "outputs": []
    },
    {
      "cell_type": "markdown",
      "metadata": {
        "id": "cuwsw8BXS50g",
        "colab_type": "text"
      },
      "source": [
        "Running a local Spark Session"
      ]
    },
    {
      "cell_type": "code",
      "metadata": {
        "id": "G8_0o_zaS6GV",
        "colab_type": "code",
        "colab": {}
      },
      "source": [
        "import findspark\n",
        "findspark.init()\n",
        "from pyspark.sql import SparkSession\n",
        "spark = SparkSession.builder.master(\"local[*]\").getOrCreate()"
      ],
      "execution_count": 0,
      "outputs": []
    },
    {
      "cell_type": "markdown",
      "metadata": {
        "id": "AX81mry_zumD",
        "colab_type": "text"
      },
      "source": [
        "## Reading the datasets"
      ]
    },
    {
      "cell_type": "code",
      "metadata": {
        "id": "3CJz2NmYx4Ns",
        "colab_type": "code",
        "colab": {}
      },
      "source": [
        "url_airports_dataset = r\"https://assets.datacamp.com/production/repositories/1237/datasets/6e5c4ac2a4799338ba7e13d54ce1fa918da644ba/airports.csv\"\n",
        "url_flights_dataset = r\"https://assets.datacamp.com/production/repositories/1237/datasets/fa47bb54e83abd422831cbd4f441bd30fd18bd15/flights_small.csv\"\n",
        "url_planes_datasets = r\"https://assets.datacamp.com/production/repositories/1237/datasets/231480a2696c55fde829ce76d936596123f12c0c/planes.csv\""
      ],
      "execution_count": 0,
      "outputs": []
    },
    {
      "cell_type": "code",
      "metadata": {
        "id": "PWr4zCTyyZgg",
        "colab_type": "code",
        "outputId": "3d87896a-3389-4136-f338-6401b2740a67",
        "colab": {
          "base_uri": "https://localhost:8080/",
          "height": 578
        }
      },
      "source": [
        "!wget --no-check-certificate \"https://assets.datacamp.com/production/repositories/1237/datasets/6e5c4ac2a4799338ba7e13d54ce1fa918da644ba/airports.csv\" -O /tmp/airports.csv\n",
        "!wget --no-check-certificate \"https://assets.datacamp.com/production/repositories/1237/datasets/fa47bb54e83abd422831cbd4f441bd30fd18bd15/flights_small.csv\" -O /tmp/flights.csv\n",
        "!wget --no-check-certificate \"https://assets.datacamp.com/production/repositories/1237/datasets/231480a2696c55fde829ce76d936596123f12c0c/planes.csv\" -O /tmp/planes.csv"
      ],
      "execution_count": 5,
      "outputs": [
        {
          "output_type": "stream",
          "text": [
            "--2020-02-10 10:09:53--  https://assets.datacamp.com/production/repositories/1237/datasets/6e5c4ac2a4799338ba7e13d54ce1fa918da644ba/airports.csv\n",
            "Resolving assets.datacamp.com (assets.datacamp.com)... 99.86.33.55, 99.86.33.27, 99.86.33.91, ...\n",
            "Connecting to assets.datacamp.com (assets.datacamp.com)|99.86.33.55|:443... connected.\n",
            "HTTP request sent, awaiting response... 200 OK\n",
            "Length: 84548 (83K)\n",
            "Saving to: ‘/tmp/airports.csv’\n",
            "\n",
            "\r/tmp/airports.csv     0%[                    ]       0  --.-KB/s               \r/tmp/airports.csv   100%[===================>]  82.57K  --.-KB/s    in 0.01s   \n",
            "\n",
            "2020-02-10 10:09:53 (7.24 MB/s) - ‘/tmp/airports.csv’ saved [84548/84548]\n",
            "\n",
            "--2020-02-10 10:09:56--  https://assets.datacamp.com/production/repositories/1237/datasets/fa47bb54e83abd422831cbd4f441bd30fd18bd15/flights_small.csv\n",
            "Resolving assets.datacamp.com (assets.datacamp.com)... 99.86.33.55, 99.86.33.27, 99.86.33.91, ...\n",
            "Connecting to assets.datacamp.com (assets.datacamp.com)|99.86.33.55|:443... connected.\n",
            "HTTP request sent, awaiting response... 200 OK\n",
            "Length: 614174 (600K)\n",
            "Saving to: ‘/tmp/flights.csv’\n",
            "\n",
            "/tmp/flights.csv    100%[===================>] 599.78K  --.-KB/s    in 0.03s   \n",
            "\n",
            "2020-02-10 10:09:56 (17.3 MB/s) - ‘/tmp/flights.csv’ saved [614174/614174]\n",
            "\n",
            "--2020-02-10 10:09:58--  https://assets.datacamp.com/production/repositories/1237/datasets/231480a2696c55fde829ce76d936596123f12c0c/planes.csv\n",
            "Resolving assets.datacamp.com (assets.datacamp.com)... 99.86.33.55, 99.86.33.27, 99.86.33.91, ...\n",
            "Connecting to assets.datacamp.com (assets.datacamp.com)|99.86.33.55|:443... connected.\n",
            "HTTP request sent, awaiting response... 200 OK\n",
            "Length: 219326 (214K)\n",
            "Saving to: ‘/tmp/planes.csv’\n",
            "\n",
            "/tmp/planes.csv     100%[===================>] 214.19K  --.-KB/s    in 0.02s   \n",
            "\n",
            "2020-02-10 10:09:58 (8.65 MB/s) - ‘/tmp/planes.csv’ saved [219326/219326]\n",
            "\n"
          ],
          "name": "stdout"
        }
      ]
    },
    {
      "cell_type": "markdown",
      "metadata": {
        "id": "bNn5MSMQAdNo",
        "colab_type": "text"
      },
      "source": [
        "## Using DataFrames\n",
        "Spark's core data structure is the **Resilient Distributed Dataset (RDD)**. This is a low level object that lets Spark work its magic by splitting data across multiple nodes in the cluster. However, RDDs are hard to work with directly, so in this notebook we'll be using the Spark DataFrame abstraction built on top of RDDs.\n",
        "\n",
        "The Spark DataFrame was designed to behave a lot like a SQL table (a table with variables in the columns and observations in the rows). Not only are they easier to understand, DataFrames are also more optimized for complicated operations than RDDs.\n",
        "\n",
        "When you start modifying and combining columns and rows of data, there are many ways to arrive at the same result, but some often take much longer than others. When using RDDs, it's up to the data scientist to figure out the right way to optimize the query, but the DataFrame implementation has much of this optimization built in!\n",
        "\n",
        "To start working with Spark DataFrames, you first have to create a `SparkSession` object from your `SparkContext`. You can think of the `SparkContext` as your connection to the cluster and the `SparkSession` as your interface with that connection.\n",
        "\n",
        "Remember, for the rest of the notebook, we'll have a `SparkSession` called `spark` available in our workspace!"
      ]
    },
    {
      "cell_type": "markdown",
      "metadata": {
        "id": "i9Hg21g9B9Uy",
        "colab_type": "text"
      },
      "source": [
        "## Creating a SparkSession\n",
        "We'll have a `SparkSession` called `spark`, but what if you're not sure there already is one? Creating multiple SparkSessions and SparkContexts can cause issues, so it's best practice to use the `SparkSession.builder.getOrCreate()` method. This returns an existing `SparkSession` if there's already one in the environment, or creates a new one if necessary!"
      ]
    },
    {
      "cell_type": "code",
      "metadata": {
        "id": "DZis7n7UAcmM",
        "colab_type": "code",
        "outputId": "a490ab4a-adf5-4127-a86a-03f1f602832e",
        "colab": {
          "base_uri": "https://localhost:8080/",
          "height": 34
        }
      },
      "source": [
        "from pyspark.sql import SparkSession\n",
        "\n",
        "# Creating a new PySpark Session\n",
        "my_spark = SparkSession.builder.getOrCreate()\n",
        "print(my_spark)"
      ],
      "execution_count": 6,
      "outputs": [
        {
          "output_type": "stream",
          "text": [
            "<pyspark.sql.session.SparkSession object at 0x7f2f88833630>\n"
          ],
          "name": "stdout"
        }
      ]
    },
    {
      "cell_type": "markdown",
      "metadata": {
        "id": "fruT1PGu_aWW",
        "colab_type": "text"
      },
      "source": [
        "---"
      ]
    },
    {
      "cell_type": "markdown",
      "metadata": {
        "id": "X3wStikOWFo6",
        "colab_type": "text"
      },
      "source": [
        "## Reading a CSV into a spark DataFrame"
      ]
    },
    {
      "cell_type": "code",
      "metadata": {
        "id": "HbKrJBcYWE9N",
        "colab_type": "code",
        "outputId": "e1509e89-c581-4485-858d-c096aaa0e557",
        "colab": {
          "base_uri": "https://localhost:8080/",
          "height": 34
        }
      },
      "source": [
        "flights = spark.read.format(\"csv\").option(\"header\", \"true\").load('/tmp/flights.csv')\n",
        "print(type(flights))"
      ],
      "execution_count": 7,
      "outputs": [
        {
          "output_type": "stream",
          "text": [
            "<class 'pyspark.sql.dataframe.DataFrame'>\n"
          ],
          "name": "stdout"
        }
      ]
    },
    {
      "cell_type": "markdown",
      "metadata": {
        "id": "B-xKqgVqY4QM",
        "colab_type": "text"
      },
      "source": [
        "### Printing top `n` rows of the Spark DataFrame\n",
        "We use the `.show()` method on the DataFrame to fetch the top `n` rows. By default `n = 20`\n"
      ]
    },
    {
      "cell_type": "code",
      "metadata": {
        "id": "XupyvlS5X_d-",
        "colab_type": "code",
        "outputId": "25e892bd-1e3e-4967-b1c4-447be7530397",
        "colab": {
          "base_uri": "https://localhost:8080/",
          "height": 493
        }
      },
      "source": [
        "flights.show(n=22)"
      ],
      "execution_count": 8,
      "outputs": [
        {
          "output_type": "stream",
          "text": [
            "+----+-----+---+--------+---------+--------+---------+-------+-------+------+------+----+--------+--------+----+------+\n",
            "|year|month|day|dep_time|dep_delay|arr_time|arr_delay|carrier|tailnum|flight|origin|dest|air_time|distance|hour|minute|\n",
            "+----+-----+---+--------+---------+--------+---------+-------+-------+------+------+----+--------+--------+----+------+\n",
            "|2014|   12|  8|     658|       -7|     935|       -5|     VX| N846VA|  1780|   SEA| LAX|     132|     954|   6|    58|\n",
            "|2014|    1| 22|    1040|        5|    1505|        5|     AS| N559AS|   851|   SEA| HNL|     360|    2677|  10|    40|\n",
            "|2014|    3|  9|    1443|       -2|    1652|        2|     VX| N847VA|   755|   SEA| SFO|     111|     679|  14|    43|\n",
            "|2014|    4|  9|    1705|       45|    1839|       34|     WN| N360SW|   344|   PDX| SJC|      83|     569|  17|     5|\n",
            "|2014|    3|  9|     754|       -1|    1015|        1|     AS| N612AS|   522|   SEA| BUR|     127|     937|   7|    54|\n",
            "|2014|    1| 15|    1037|        7|    1352|        2|     WN| N646SW|    48|   PDX| DEN|     121|     991|  10|    37|\n",
            "|2014|    7|  2|     847|       42|    1041|       51|     WN| N422WN|  1520|   PDX| OAK|      90|     543|   8|    47|\n",
            "|2014|    5| 12|    1655|       -5|    1842|      -18|     VX| N361VA|   755|   SEA| SFO|      98|     679|  16|    55|\n",
            "|2014|    4| 19|    1236|       -4|    1508|       -7|     AS| N309AS|   490|   SEA| SAN|     135|    1050|  12|    36|\n",
            "|2014|   11| 19|    1812|       -3|    2352|       -4|     AS| N564AS|    26|   SEA| ORD|     198|    1721|  18|    12|\n",
            "|2014|   11|  8|    1653|       -2|    1924|       -1|     AS| N323AS|   448|   SEA| LAX|     130|     954|  16|    53|\n",
            "|2014|    8|  3|    1120|        0|    1415|        2|     AS| N305AS|   656|   SEA| PHX|     154|    1107|  11|    20|\n",
            "|2014|   10| 30|     811|       21|    1038|       29|     AS| N433AS|   608|   SEA| LAS|     127|     867|   8|    11|\n",
            "|2014|   11| 12|    2346|       -4|     217|      -28|     AS| N765AS|   121|   SEA| ANC|     183|    1448|  23|    46|\n",
            "|2014|   10| 31|    1314|       89|    1544|      111|     AS| N713AS|   306|   SEA| SFO|     129|     679|  13|    14|\n",
            "|2014|    1| 29|    2009|        3|    2159|        9|     UA| N27205|  1458|   PDX| SFO|      90|     550|  20|     9|\n",
            "|2014|   12| 17|    2015|       50|    2150|       41|     AS| N626AS|   368|   SEA| SMF|      76|     605|  20|    15|\n",
            "|2014|    8| 11|    1017|       -3|    1613|       -7|     WN| N8634A|   827|   SEA| MDW|     216|    1733|  10|    17|\n",
            "|2014|    1| 13|    2156|       -9|     607|      -15|     AS| N597AS|    24|   SEA| BOS|     290|    2496|  21|    56|\n",
            "|2014|    6|  5|    1733|      -12|    1945|      -10|     OO| N215AG|  3488|   PDX| BUR|     111|     817|  17|    33|\n",
            "|2014|    7| 27|    2105|       15|    2316|       21|     AS| N519AS|   300|   SEA| SFO|     106|     679|  21|     5|\n",
            "|2014|    9| 26|     610|       -5|    1523|       65|     US| N127UW|   616|   SEA| PHL|     293|    2378|   6|    10|\n",
            "+----+-----+---+--------+---------+--------+---------+-------+-------+------+------+----+--------+--------+----+------+\n",
            "only showing top 22 rows\n",
            "\n"
          ],
          "name": "stdout"
        }
      ]
    },
    {
      "cell_type": "markdown",
      "metadata": {
        "id": "5THajZL_YEMr",
        "colab_type": "text"
      },
      "source": [
        "## Selecting data\n",
        "### Selecting only specific column(s)\n",
        "\n",
        "Passing the name of the column or a list of column\n",
        " names to the `.select()` method will return the desired columns only\n"
      ]
    },
    {
      "cell_type": "code",
      "metadata": {
        "id": "P-OcX4maYInM",
        "colab_type": "code",
        "outputId": "8d692451-7216-4495-9ba5-9ce93f0ef7f2",
        "colab": {
          "base_uri": "https://localhost:8080/",
          "height": 459
        }
      },
      "source": [
        "flights.select(['carrier', 'origin']).show()"
      ],
      "execution_count": 9,
      "outputs": [
        {
          "output_type": "stream",
          "text": [
            "+-------+------+\n",
            "|carrier|origin|\n",
            "+-------+------+\n",
            "|     VX|   SEA|\n",
            "|     AS|   SEA|\n",
            "|     VX|   SEA|\n",
            "|     WN|   PDX|\n",
            "|     AS|   SEA|\n",
            "|     WN|   PDX|\n",
            "|     WN|   PDX|\n",
            "|     VX|   SEA|\n",
            "|     AS|   SEA|\n",
            "|     AS|   SEA|\n",
            "|     AS|   SEA|\n",
            "|     AS|   SEA|\n",
            "|     AS|   SEA|\n",
            "|     AS|   SEA|\n",
            "|     AS|   SEA|\n",
            "|     UA|   PDX|\n",
            "|     AS|   SEA|\n",
            "|     WN|   SEA|\n",
            "|     AS|   SEA|\n",
            "|     OO|   PDX|\n",
            "+-------+------+\n",
            "only showing top 20 rows\n",
            "\n"
          ],
          "name": "stdout"
        }
      ]
    },
    {
      "cell_type": "markdown",
      "metadata": {
        "id": "s_dBydw2Zx8t",
        "colab_type": "text"
      },
      "source": [
        "### Selecting everybody, but applying some transformation on the column\n",
        "Selecting `carrier`, `origin` and `air_time` columns and incrementing the values in the `air_time` by 50"
      ]
    },
    {
      "cell_type": "code",
      "metadata": {
        "id": "yaDRUeJHaHX2",
        "colab_type": "code",
        "outputId": "44a66d0f-0428-44ca-f6c3-598733677b55",
        "colab": {
          "base_uri": "https://localhost:8080/",
          "height": 459
        }
      },
      "source": [
        "flights.select(flights['carrier'], flights['origin'],flights['air_time'] + 50).show()"
      ],
      "execution_count": 10,
      "outputs": [
        {
          "output_type": "stream",
          "text": [
            "+-------+------+---------------+\n",
            "|carrier|origin|(air_time + 50)|\n",
            "+-------+------+---------------+\n",
            "|     VX|   SEA|          182.0|\n",
            "|     AS|   SEA|          410.0|\n",
            "|     VX|   SEA|          161.0|\n",
            "|     WN|   PDX|          133.0|\n",
            "|     AS|   SEA|          177.0|\n",
            "|     WN|   PDX|          171.0|\n",
            "|     WN|   PDX|          140.0|\n",
            "|     VX|   SEA|          148.0|\n",
            "|     AS|   SEA|          185.0|\n",
            "|     AS|   SEA|          248.0|\n",
            "|     AS|   SEA|          180.0|\n",
            "|     AS|   SEA|          204.0|\n",
            "|     AS|   SEA|          177.0|\n",
            "|     AS|   SEA|          233.0|\n",
            "|     AS|   SEA|          179.0|\n",
            "|     UA|   PDX|          140.0|\n",
            "|     AS|   SEA|          126.0|\n",
            "|     WN|   SEA|          266.0|\n",
            "|     AS|   SEA|          340.0|\n",
            "|     OO|   PDX|          161.0|\n",
            "+-------+------+---------------+\n",
            "only showing top 20 rows\n",
            "\n"
          ],
          "name": "stdout"
        }
      ]
    },
    {
      "cell_type": "markdown",
      "metadata": {
        "id": "QBAlaZxNcdTg",
        "colab_type": "text"
      },
      "source": [
        "### Selecting data based on some condition\n",
        "We use the `.filter()` method on the Spark DataFrame and fetch the data based on the condition provided. "
      ]
    },
    {
      "cell_type": "code",
      "metadata": {
        "id": "Yn07IqdncmRm",
        "colab_type": "code",
        "outputId": "088c30ac-9198-481a-8a53-f2580bf965b6",
        "colab": {
          "base_uri": "https://localhost:8080/",
          "height": 459
        }
      },
      "source": [
        "flights.filter(flights['air_time'] > 200).show()"
      ],
      "execution_count": 11,
      "outputs": [
        {
          "output_type": "stream",
          "text": [
            "+----+-----+---+--------+---------+--------+---------+-------+-------+------+------+----+--------+--------+----+------+\n",
            "|year|month|day|dep_time|dep_delay|arr_time|arr_delay|carrier|tailnum|flight|origin|dest|air_time|distance|hour|minute|\n",
            "+----+-----+---+--------+---------+--------+---------+-------+-------+------+------+----+--------+--------+----+------+\n",
            "|2014|    1| 22|    1040|        5|    1505|        5|     AS| N559AS|   851|   SEA| HNL|     360|    2677|  10|    40|\n",
            "|2014|    8| 11|    1017|       -3|    1613|       -7|     WN| N8634A|   827|   SEA| MDW|     216|    1733|  10|    17|\n",
            "|2014|    1| 13|    2156|       -9|     607|      -15|     AS| N597AS|    24|   SEA| BOS|     290|    2496|  21|    56|\n",
            "|2014|    9| 26|     610|       -5|    1523|       65|     US| N127UW|   616|   SEA| PHL|     293|    2378|   6|    10|\n",
            "|2014|   12|  4|     954|       -6|    1348|      -17|     HA| N395HA|    29|   SEA| OGG|     333|    2640|   9|    54|\n",
            "|2014|    6|  7|    1823|       -7|    2112|      -28|     AS| N512AS|   815|   SEA| LIH|     335|    2701|  18|    23|\n",
            "|2014|    4| 30|     801|        1|    1757|       90|     AS| N407AS|    18|   SEA| MCO|     342|    2554|   8|     1|\n",
            "|2014|   11| 29|     905|      155|    1655|      170|     DL| N824DN|  1598|   SEA| ATL|     229|    2182|   9|     5|\n",
            "|2014|   10| 20|    1328|       -1|    1949|        4|     UA| N68805|  1212|   SEA| IAH|     228|    1874|  13|    28|\n",
            "|2014|    3| 13|    2201|        1|     554|      -14|     UA| N37468|  1275|   SEA| EWR|     268|    2402|  22|     1|\n",
            "|2014|    9|  4|     830|       -5|    1647|      -23|     AS| N583AS|    12|   SEA| BOS|     285|    2496|   8|    30|\n",
            "|2014|    5| 22|    1018|       -3|    1621|        1|     UA| N559UA|   732|   PDX| ORD|     211|    1739|  10|    18|\n",
            "|2014|    2| 18|     554|       -1|    1151|      -19|     UA| N37419|  1445|   SEA| IAH|     203|    1874|   5|    54|\n",
            "|2014|    4|  1|    1010|       -5|    1258|      -17|     HA| N381HA|    25|   PDX| HNL|     328|    2603|  10|    10|\n",
            "|2014|   12| 26|    2337|        0|     741|       -1|     DL| N3760C|  1358|   PDX| JFK|     274|    2454|  23|    37|\n",
            "|2014|    6| 29|    1347|        3|    2016|       14|     UA| N848UA|   475|   SEA| IAH|     215|    1874|  13|    47|\n",
            "|2014|    8| 23|     831|       -4|    1639|       -3|     AS| N435AS|    32|   SEA| PHL|     285|    2378|   8|    31|\n",
            "|2014|   10| 15|    2244|        5|     607|        3|     DL| N816DN|  2497|   PDX| ATL|     233|    2172|  22|    44|\n",
            "|2014|    4| 12|    1248|       -2|    1836|      -14|     UA| N435UA|   464|   PDX| ORD|     212|    1739|  12|    48|\n",
            "|2014|   12|  1|    2210|        0|     124|       11|     AS| N538AS|   143|   PDX| ANC|     225|    1542|  22|    10|\n",
            "+----+-----+---+--------+---------+--------+---------+-------+-------+------+------+----+--------+--------+----+------+\n",
            "only showing top 20 rows\n",
            "\n"
          ],
          "name": "stdout"
        }
      ]
    },
    {
      "cell_type": "code",
      "metadata": {
        "id": "EqeJXfOYiBpa",
        "colab_type": "code",
        "outputId": "cb160871-3c0e-4e5c-9f7c-8ad41e89b5b6",
        "colab": {
          "base_uri": "https://localhost:8080/",
          "height": 136
        }
      },
      "source": [
        "flights.groupby('origin').count().show()"
      ],
      "execution_count": 12,
      "outputs": [
        {
          "output_type": "stream",
          "text": [
            "+------+-----+\n",
            "|origin|count|\n",
            "+------+-----+\n",
            "|   SEA| 6754|\n",
            "|   PDX| 3246|\n",
            "+------+-----+\n",
            "\n"
          ],
          "name": "stdout"
        }
      ]
    },
    {
      "cell_type": "markdown",
      "metadata": {
        "id": "pa2nX-mvYlAx",
        "colab_type": "text"
      },
      "source": [
        "### Printing the schema"
      ]
    },
    {
      "cell_type": "code",
      "metadata": {
        "id": "y_DTbreZXudO",
        "colab_type": "code",
        "outputId": "12b2b245-cbcc-4cc6-eb18-6944717247d4",
        "colab": {
          "base_uri": "https://localhost:8080/",
          "height": 323
        }
      },
      "source": [
        "flights.printSchema()"
      ],
      "execution_count": 13,
      "outputs": [
        {
          "output_type": "stream",
          "text": [
            "root\n",
            " |-- year: string (nullable = true)\n",
            " |-- month: string (nullable = true)\n",
            " |-- day: string (nullable = true)\n",
            " |-- dep_time: string (nullable = true)\n",
            " |-- dep_delay: string (nullable = true)\n",
            " |-- arr_time: string (nullable = true)\n",
            " |-- arr_delay: string (nullable = true)\n",
            " |-- carrier: string (nullable = true)\n",
            " |-- tailnum: string (nullable = true)\n",
            " |-- flight: string (nullable = true)\n",
            " |-- origin: string (nullable = true)\n",
            " |-- dest: string (nullable = true)\n",
            " |-- air_time: string (nullable = true)\n",
            " |-- distance: string (nullable = true)\n",
            " |-- hour: string (nullable = true)\n",
            " |-- minute: string (nullable = true)\n",
            "\n"
          ],
          "name": "stdout"
        }
      ]
    },
    {
      "cell_type": "markdown",
      "metadata": {
        "id": "bN2h29l-oC3s",
        "colab_type": "text"
      },
      "source": [
        "## Creating Tables\n",
        "The `.createDataFrame()` method takes a `pandas` DataFrame and returns a Spark DataFrame.\n",
        "\n",
        "The output of this method is stored locally, not in the `SparkSession` `catalog`. This means that you can use all the Spark DataFrame methods on it, but you can't access the data in other contexts.\n",
        "\n",
        "For example, a SQL query (using the `.sql()` method) that references your DataFrame will throw an error. To access the data in this way, you have to save it as a temporary table.\n",
        "\n",
        "You can do this using the `.createTempView()` Spark DataFrame method, which takes as its only argument the name of the temporary table you'd like to register. This method registers the DataFrame as a table in the catalog, but as this table is temporary, it can only be accessed from the specific `SparkSession` used to create the Spark DataFrame.\n",
        "\n",
        "There is also the method `.createOrReplaceTempView()`. This safely creates a new temporary table if nothing was there before, or updates an existing table if one was already defined. You'll use this method to avoid running into problems with duplicate tables.\n",
        "\n",
        "Check out the diagram to see all the different ways your Spark data structures interact with each other.\n",
        "\n",
        "![alt](https://s3.amazonaws.com/assets.datacamp.com/production/course_4452/datasets/spark_figure.png)"
      ]
    },
    {
      "cell_type": "markdown",
      "metadata": {
        "id": "U3C9vVDgC8zo",
        "colab_type": "text"
      },
      "source": [
        "## Viewing Tables\n",
        "Now that we have created a `SparkSession`, we can start poking around to see what data is in our cluster!\n",
        "\n",
        "Our `SparkSession` has an attribute called `catalog` which lists all the data inside the cluster. This attribute has a few methods for extracting different pieces of information.\n",
        "\n",
        "One of the most useful is the `.listTables()` method, which returns the names of all the tables in your cluster as a list."
      ]
    },
    {
      "cell_type": "code",
      "metadata": {
        "id": "1XSRC6WbDYTe",
        "colab_type": "code",
        "outputId": "b3b119c2-7f55-4b8c-b899-485b7b28cfde",
        "colab": {
          "base_uri": "https://localhost:8080/",
          "height": 34
        }
      },
      "source": [
        "print(spark.catalog.listTables()) # Output -> [Table(name='flights', database=None, description=None, tableType='TEMPORARY', isTemporary=True)]"
      ],
      "execution_count": 14,
      "outputs": [
        {
          "output_type": "stream",
          "text": [
            "[]\n"
          ],
          "name": "stdout"
        }
      ]
    },
    {
      "cell_type": "markdown",
      "metadata": {
        "id": "Bm0uszt2jtZK",
        "colab_type": "text"
      },
      "source": [
        "This just printed an empty list. That is because even though we have a variable storing a Spark DataFrame in memory, we do not have any Tables or Views in the Spark context.\n",
        "\n",
        "\n",
        "Creating a new 'temporary view' from the `flights` Spark DataFrame and adding it to the catalog by the name `'flights'`"
      ]
    },
    {
      "cell_type": "code",
      "metadata": {
        "id": "J1iStUiXjhrK",
        "colab_type": "code",
        "colab": {}
      },
      "source": [
        "flights.createOrReplaceTempView(\"flights\")"
      ],
      "execution_count": 0,
      "outputs": []
    },
    {
      "cell_type": "markdown",
      "metadata": {
        "id": "fOgwt7WUknX0",
        "colab_type": "text"
      },
      "source": [
        "Now when we list the tables present in the catalog, we should get our newly created temporary table in the results."
      ]
    },
    {
      "cell_type": "code",
      "metadata": {
        "id": "EVOFVeppjo8B",
        "colab_type": "code",
        "outputId": "53c4cfc7-1d66-439a-8c0f-074efd1c0f17",
        "colab": {
          "base_uri": "https://localhost:8080/",
          "height": 34
        }
      },
      "source": [
        "print(spark.catalog.listTables()) # Output -> [Table(name='flights', database=None, description=None, tableType='TEMPORARY', isTemporary=True)]"
      ],
      "execution_count": 16,
      "outputs": [
        {
          "output_type": "stream",
          "text": [
            "[Table(name='flights', database=None, description=None, tableType='TEMPORARY', isTemporary=True)]\n"
          ],
          "name": "stdout"
        }
      ]
    },
    {
      "cell_type": "markdown",
      "metadata": {
        "id": "2PHy3nH3-ZQ-",
        "colab_type": "text"
      },
      "source": [
        "### Are you query-ious?\n",
        "One of the advantages of the DataFrame interface is that you can run SQL queries on the tables in your Spark cluster.\n",
        "\n",
        "As you saw in the last exercise, one of the tables in your cluster is the `flights` table. This table contains a row for every flight that left Portland International Airport (PDX) or Seattle-Tacoma International Airport (SEA) in 2014 and 2015.\n",
        "\n",
        "Running a query on this table is as easy as using the `.sql()` method on your `SparkSession`. This method takes a string containing the query and returns a DataFrame with the results!\n",
        "\n",
        "If you look closely, you'll notice that the table `flights` is only mentioned in the query, not as an argument to any of the methods. This is because there isn't a local object in your environment that holds that data, so it wouldn't make sense to pass the table as an argument.\n",
        "\n",
        "Before that, we'll create a `SparkSession` called `spark`."
      ]
    },
    {
      "cell_type": "code",
      "metadata": {
        "id": "klco-mvQ_rrO",
        "colab_type": "code",
        "outputId": "92ebc578-14a0-46e8-b529-5da304f686f6",
        "colab": {
          "base_uri": "https://localhost:8080/",
          "height": 272
        }
      },
      "source": [
        "from pyspark.sql import SparkSession\n",
        "\n",
        "spark = SparkSession.builder.getOrCreate()\n",
        "\n",
        "# Writing the query to fetch first 10 rows of flights\n",
        "query = 'FROM flights SELECT * LIMIT 10'\n",
        "\n",
        "# Executing the query using the .sql() method of SparkSession\n",
        "flights10 = spark.sql(query)\n",
        "\n",
        "# Using the DataFrame method .show() to print flights10\n",
        "flights10.show()"
      ],
      "execution_count": 17,
      "outputs": [
        {
          "output_type": "stream",
          "text": [
            "+----+-----+---+--------+---------+--------+---------+-------+-------+------+------+----+--------+--------+----+------+\n",
            "|year|month|day|dep_time|dep_delay|arr_time|arr_delay|carrier|tailnum|flight|origin|dest|air_time|distance|hour|minute|\n",
            "+----+-----+---+--------+---------+--------+---------+-------+-------+------+------+----+--------+--------+----+------+\n",
            "|2014|   12|  8|     658|       -7|     935|       -5|     VX| N846VA|  1780|   SEA| LAX|     132|     954|   6|    58|\n",
            "|2014|    1| 22|    1040|        5|    1505|        5|     AS| N559AS|   851|   SEA| HNL|     360|    2677|  10|    40|\n",
            "|2014|    3|  9|    1443|       -2|    1652|        2|     VX| N847VA|   755|   SEA| SFO|     111|     679|  14|    43|\n",
            "|2014|    4|  9|    1705|       45|    1839|       34|     WN| N360SW|   344|   PDX| SJC|      83|     569|  17|     5|\n",
            "|2014|    3|  9|     754|       -1|    1015|        1|     AS| N612AS|   522|   SEA| BUR|     127|     937|   7|    54|\n",
            "|2014|    1| 15|    1037|        7|    1352|        2|     WN| N646SW|    48|   PDX| DEN|     121|     991|  10|    37|\n",
            "|2014|    7|  2|     847|       42|    1041|       51|     WN| N422WN|  1520|   PDX| OAK|      90|     543|   8|    47|\n",
            "|2014|    5| 12|    1655|       -5|    1842|      -18|     VX| N361VA|   755|   SEA| SFO|      98|     679|  16|    55|\n",
            "|2014|    4| 19|    1236|       -4|    1508|       -7|     AS| N309AS|   490|   SEA| SAN|     135|    1050|  12|    36|\n",
            "|2014|   11| 19|    1812|       -3|    2352|       -4|     AS| N564AS|    26|   SEA| ORD|     198|    1721|  18|    12|\n",
            "+----+-----+---+--------+---------+--------+---------+-------+-------+------+------+----+--------+--------+----+------+\n",
            "\n"
          ],
          "name": "stdout"
        }
      ]
    },
    {
      "cell_type": "markdown",
      "metadata": {
        "id": "563BqvcMBT-G",
        "colab_type": "text"
      },
      "source": [
        "\n",
        "\n",
        "---\n"
      ]
    },
    {
      "cell_type": "markdown",
      "metadata": {
        "id": "bR0OtZ5NBW6r",
        "colab_type": "text"
      },
      "source": [
        "### Panda-fying a Spark DataFrame\n",
        "\n",
        "Suppose you've run a query on your huge dataset and aggregated it down to something a little more manageable.\n",
        "\n",
        "Sometimes it makes sense to then take that table and work with it locally using a tool like `pandas`. Spark DataFrames make that easy with the `.toPandas()` method. Calling this method on a Spark DataFrame returns the corresponding `pandas` DataFrame. It's as simple as that!\n",
        "\n",
        "This time the query counts the number of flights to each airport from SEA and PDX.\n",
        "\n",
        "Ofcourse, we shall first create a `SparkSession` called `spark` in our workspace!"
      ]
    },
    {
      "cell_type": "code",
      "metadata": {
        "id": "7qrur4UrB1rN",
        "colab_type": "code",
        "outputId": "40f63cd0-94a7-418e-ec5b-a50784ea24cf",
        "colab": {
          "base_uri": "https://localhost:8080/",
          "height": 119
        }
      },
      "source": [
        "from pyspark.sql import SparkSession\n",
        "\n",
        "spark = SparkSession.builder.getOrCreate()\n",
        "\n",
        "query = 'SELECT origin, dest, COUNT(*) AS N FROM flights GROUP BY origin, dest'\n",
        "\n",
        "# Running the query\n",
        "flight_counts = spark.sql(query)\n",
        "\n",
        "# Conerting the resulting table into a Pandas DataFrame\n",
        "pd_counts = flight_counts.toPandas()\n",
        "\n",
        "# Print the head of pd_counts\n",
        "print(pd_counts.head())"
      ],
      "execution_count": 18,
      "outputs": [
        {
          "output_type": "stream",
          "text": [
            "  origin dest    N\n",
            "0    SEA  RNO    8\n",
            "1    SEA  DTW   98\n",
            "2    SEA  CLE    2\n",
            "3    SEA  LAX  450\n",
            "4    PDX  SEA  144\n"
          ],
          "name": "stdout"
        }
      ]
    },
    {
      "cell_type": "markdown",
      "metadata": {
        "id": "CB1w281IGRw0",
        "colab_type": "text"
      },
      "source": [
        "---\n",
        "### Creating a Spark DataFrame from a Pandas DataFrame\n",
        "Spark DataFrame can be created by calling the `spark.createDataFrame()` function with the `pandas` DataFrame as the argument"
      ]
    },
    {
      "cell_type": "code",
      "metadata": {
        "id": "_3fslT5YJQu0",
        "colab_type": "code",
        "outputId": "cf24b295-338e-417d-910b-f6955d72d00a",
        "colab": {
          "base_uri": "https://localhost:8080/",
          "height": 359
        }
      },
      "source": [
        "from pyspark.sql import SparkSession\n",
        "import numpy as np\n",
        "import pandas as pd\n",
        "\n",
        "# Creating a temporary pandas DataFrame\n",
        "pd_temp = pd.DataFrame(np.random.random(10))\n",
        "pd_temp"
      ],
      "execution_count": 19,
      "outputs": [
        {
          "output_type": "execute_result",
          "data": {
            "text/html": [
              "<div>\n",
              "<style scoped>\n",
              "    .dataframe tbody tr th:only-of-type {\n",
              "        vertical-align: middle;\n",
              "    }\n",
              "\n",
              "    .dataframe tbody tr th {\n",
              "        vertical-align: top;\n",
              "    }\n",
              "\n",
              "    .dataframe thead th {\n",
              "        text-align: right;\n",
              "    }\n",
              "</style>\n",
              "<table border=\"1\" class=\"dataframe\">\n",
              "  <thead>\n",
              "    <tr style=\"text-align: right;\">\n",
              "      <th></th>\n",
              "      <th>0</th>\n",
              "    </tr>\n",
              "  </thead>\n",
              "  <tbody>\n",
              "    <tr>\n",
              "      <th>0</th>\n",
              "      <td>0.352623</td>\n",
              "    </tr>\n",
              "    <tr>\n",
              "      <th>1</th>\n",
              "      <td>0.030013</td>\n",
              "    </tr>\n",
              "    <tr>\n",
              "      <th>2</th>\n",
              "      <td>0.192089</td>\n",
              "    </tr>\n",
              "    <tr>\n",
              "      <th>3</th>\n",
              "      <td>0.293860</td>\n",
              "    </tr>\n",
              "    <tr>\n",
              "      <th>4</th>\n",
              "      <td>0.075973</td>\n",
              "    </tr>\n",
              "    <tr>\n",
              "      <th>5</th>\n",
              "      <td>0.913636</td>\n",
              "    </tr>\n",
              "    <tr>\n",
              "      <th>6</th>\n",
              "      <td>0.996570</td>\n",
              "    </tr>\n",
              "    <tr>\n",
              "      <th>7</th>\n",
              "      <td>0.818788</td>\n",
              "    </tr>\n",
              "    <tr>\n",
              "      <th>8</th>\n",
              "      <td>0.013662</td>\n",
              "    </tr>\n",
              "    <tr>\n",
              "      <th>9</th>\n",
              "      <td>0.675787</td>\n",
              "    </tr>\n",
              "  </tbody>\n",
              "</table>\n",
              "</div>"
            ],
            "text/plain": [
              "          0\n",
              "0  0.352623\n",
              "1  0.030013\n",
              "2  0.192089\n",
              "3  0.293860\n",
              "4  0.075973\n",
              "5  0.913636\n",
              "6  0.996570\n",
              "7  0.818788\n",
              "8  0.013662\n",
              "9  0.675787"
            ]
          },
          "metadata": {
            "tags": []
          },
          "execution_count": 19
        }
      ]
    },
    {
      "cell_type": "code",
      "metadata": {
        "id": "H0_pwe44y7Up",
        "colab_type": "code",
        "outputId": "dddee39b-99bb-4fed-f202-62e7d6d2ecce",
        "colab": {
          "base_uri": "https://localhost:8080/",
          "height": 51
        }
      },
      "source": [
        "spark = SparkSession.builder.getOrCreate()\n",
        "\n",
        "# Creating a Spark DataFrame called spark_temp by calling the .createDataFrame() method with pd_temp as the argument\n",
        "spark_temp = spark.createDataFrame(pd_temp)\n",
        "\n",
        "# Examing the tables in the catalog\n",
        "print(spark.catalog.listTables()) # OUTPUT -> # [Table(name='flights', database=None, description=None, tableType='TEMPORARY', isTemporary=True)]\n",
        "# Note that it DOES NOT have the newly created spark_temp table as this is only created locally and not in the spark catalog\n",
        "\n",
        "# Registering spark_temp as a temporary table names 'temp' using the createOrReplaceTempView() method. The name of the table is set by passing the desired name as an argument to the method\n",
        "spark_temp.createOrReplaceTempView('temp')\n",
        "\n",
        "# Examining the list of tables once again. This time, it will list our newly created temp DataFrame as a table\n",
        "print(spark.catalog.listTables()) \n",
        "# OUTPUT-> [Table(name='flights', database=None, description=None, tableType='TEMPORARY', isTemporary=True), Table(name='temp', database=None, description=None, tableType='TEMPORARY', isTemporary=True)]"
      ],
      "execution_count": 20,
      "outputs": [
        {
          "output_type": "stream",
          "text": [
            "[Table(name='flights', database=None, description=None, tableType='TEMPORARY', isTemporary=True)]\n",
            "[Table(name='flights', database=None, description=None, tableType='TEMPORARY', isTemporary=True), Table(name='temp', database=None, description=None, tableType='TEMPORARY', isTemporary=True)]\n"
          ],
          "name": "stdout"
        }
      ]
    },
    {
      "cell_type": "markdown",
      "metadata": {
        "id": "ZsZYtRssNur2",
        "colab_type": "text"
      },
      "source": [
        "---\n"
      ]
    },
    {
      "cell_type": "markdown",
      "metadata": {
        "id": "2lOAibbQNzcw",
        "colab_type": "text"
      },
      "source": [
        "### Dropping the middle man\n",
        "Now you know how to put data into Spark via `pandas`, but you're probably wondering why deal with `pandas` at all? Wouldn't it be easier to just read a text file straight into Spark? Of course it would!\n",
        "\n",
        "Luckily, your `SparkSession` has a `.read` attribute which has several methods for reading different data sources into Spark DataFrames. Using these you can create a DataFrame from a .csv file just like with regular pandas DataFrames!\n",
        "\n",
        "The variable `file_path` is a string with the path to the file `airports.csv`. This file contains information about different airports all over the world."
      ]
    },
    {
      "cell_type": "code",
      "metadata": {
        "id": "-tBV9l32QBo4",
        "colab_type": "code",
        "outputId": "7273c479-9374-4ea4-dc01-8062ae2c2e26",
        "colab": {
          "base_uri": "https://localhost:8080/",
          "height": 476
        }
      },
      "source": [
        "spark = SparkSession.builder.getOrCreate()\n",
        "\n",
        "file_path = '/tmp/airports.csv'\n",
        "\n",
        "# Reading the CSV file into a Spark DataFrame\n",
        "airports = spark.read.csv(file_path, header=True)\n",
        "print(type(airports)) # Note the Datatype is <class 'pyspark.sql.dataframe.DataFrame'>\n",
        "\n",
        "# Show the data\n",
        "airports.show()"
      ],
      "execution_count": 21,
      "outputs": [
        {
          "output_type": "stream",
          "text": [
            "<class 'pyspark.sql.dataframe.DataFrame'>\n",
            "+---+--------------------+----------------+-----------------+----+---+---+\n",
            "|faa|                name|             lat|              lon| alt| tz|dst|\n",
            "+---+--------------------+----------------+-----------------+----+---+---+\n",
            "|04G|   Lansdowne Airport|      41.1304722|      -80.6195833|1044| -5|  A|\n",
            "|06A|Moton Field Munic...|      32.4605722|      -85.6800278| 264| -5|  A|\n",
            "|06C| Schaumburg Regional|      41.9893408|      -88.1012428| 801| -6|  A|\n",
            "|06N|     Randall Airport|       41.431912|      -74.3915611| 523| -5|  A|\n",
            "|09J|Jekyll Island Air...|      31.0744722|      -81.4277778|  11| -4|  A|\n",
            "|0A9|Elizabethton Muni...|      36.3712222|      -82.1734167|1593| -4|  A|\n",
            "|0G6|Williams County A...|      41.4673056|      -84.5067778| 730| -5|  A|\n",
            "|0G7|Finger Lakes Regi...|      42.8835647|      -76.7812318| 492| -5|  A|\n",
            "|0P2|Shoestring Aviati...|      39.7948244|      -76.6471914|1000| -5|  U|\n",
            "|0S9|Jefferson County ...|      48.0538086|     -122.8106436| 108| -8|  A|\n",
            "|0W3|Harford County Ai...|      39.5668378|      -76.2024028| 409| -5|  A|\n",
            "|10C|  Galt Field Airport|      42.4028889|      -88.3751111| 875| -6|  U|\n",
            "|17G|Port Bucyrus-Craw...|      40.7815556|      -82.9748056|1003| -5|  A|\n",
            "|19A|Jackson County Ai...|      34.1758638|      -83.5615972| 951| -4|  U|\n",
            "|1A3|Martin Campbell F...|      35.0158056|      -84.3468333|1789| -4|  A|\n",
            "|1B9| Mansfield Municipal|      42.0001331|      -71.1967714| 122| -5|  A|\n",
            "|1C9|Frazier Lake Airpark|54.0133333333333|-124.768333333333| 152| -8|  A|\n",
            "|1CS|Clow Internationa...|      41.6959744|      -88.1292306| 670| -6|  U|\n",
            "|1G3|  Kent State Airport|      41.1513889|      -81.4151111|1134| -4|  A|\n",
            "|1OH|     Fortman Airport|      40.5553253|      -84.3866186| 885| -5|  U|\n",
            "+---+--------------------+----------------+-----------------+----+---+---+\n",
            "only showing top 20 rows\n",
            "\n"
          ],
          "name": "stdout"
        }
      ]
    },
    {
      "cell_type": "markdown",
      "metadata": {
        "id": "ya1Ojkc2UxT_",
        "colab_type": "text"
      },
      "source": [
        "\n",
        "\n",
        "---\n",
        "\n",
        "\n",
        "\n",
        "---\n",
        "\n"
      ]
    },
    {
      "cell_type": "markdown",
      "metadata": {
        "id": "dptCqiwl0fEi",
        "colab_type": "text"
      },
      "source": [
        "# Part 2: Manipulating data\n",
        "In this chapter, we'll learn about the pyspark.sql module, which provides optimized data queries to our Spark session."
      ]
    },
    {
      "cell_type": "markdown",
      "metadata": {
        "id": "9i06WeTWXDMn",
        "colab_type": "text"
      },
      "source": [
        "## Creating columns\n",
        "In this chapter, you'll learn how to use the methods defined by Spark's DataFrame class to perform common data operations.\n",
        "\n",
        "Let's look at performing column-wise operations. In Spark you can do this using the `.withColumn()` method, which takes two arguments. \n",
        "\n",
        "> 1) A string with the name of your new column\n",
        "\n",
        "> 2) The new column itself\n",
        "\n",
        "The new column must be an object of class `Column`. Creating one of these is as easy as extracting a column from your DataFrame using `df.colName`.\n",
        "\n",
        "Updating a Spark DataFrame is somewhat different than working in `pandas` because the **Spark DataFrame is immutable**. This means that it can't be changed, and so columns can't be updated inplace.\n",
        "\n",
        "Thus, all these methods return a **new** DataFrame. To overwrite the original DataFrame you must reassign the returned DataFrame using the method like so:\n",
        "\n",
        "> `df = df.withColumn(\"newCol\", df.oldCol + 1)`\n",
        "\n",
        "The above code creates a DataFrame with the same columns as `df` plus a new column, `newCol`, where every entry is equal to the corresponding entry from `oldCol`, plus one.\n",
        "\n",
        "To overwrite an existing column, just pass the name of that particular column as the first argument!"
      ]
    },
    {
      "cell_type": "code",
      "metadata": {
        "id": "3YHUhZxj0r-t",
        "colab_type": "code",
        "outputId": "a45c2843-d692-434d-84df-2fc247c3484e",
        "colab": {
          "base_uri": "https://localhost:8080/",
          "height": 459
        }
      },
      "source": [
        "from pyspark.sql import SparkSession\n",
        "spark = SparkSession.builder.getOrCreate()\n",
        "\n",
        "# Pulling the flights from the catalog to create a Spark DataFrame containing the values of the flights.\n",
        "flights = spark.table('flights')\n",
        "\n",
        "# Show the head using .show() method. The column air_time contains the duration of the flight in minutes.\n",
        "flights.show()"
      ],
      "execution_count": 22,
      "outputs": [
        {
          "output_type": "stream",
          "text": [
            "+----+-----+---+--------+---------+--------+---------+-------+-------+------+------+----+--------+--------+----+------+\n",
            "|year|month|day|dep_time|dep_delay|arr_time|arr_delay|carrier|tailnum|flight|origin|dest|air_time|distance|hour|minute|\n",
            "+----+-----+---+--------+---------+--------+---------+-------+-------+------+------+----+--------+--------+----+------+\n",
            "|2014|   12|  8|     658|       -7|     935|       -5|     VX| N846VA|  1780|   SEA| LAX|     132|     954|   6|    58|\n",
            "|2014|    1| 22|    1040|        5|    1505|        5|     AS| N559AS|   851|   SEA| HNL|     360|    2677|  10|    40|\n",
            "|2014|    3|  9|    1443|       -2|    1652|        2|     VX| N847VA|   755|   SEA| SFO|     111|     679|  14|    43|\n",
            "|2014|    4|  9|    1705|       45|    1839|       34|     WN| N360SW|   344|   PDX| SJC|      83|     569|  17|     5|\n",
            "|2014|    3|  9|     754|       -1|    1015|        1|     AS| N612AS|   522|   SEA| BUR|     127|     937|   7|    54|\n",
            "|2014|    1| 15|    1037|        7|    1352|        2|     WN| N646SW|    48|   PDX| DEN|     121|     991|  10|    37|\n",
            "|2014|    7|  2|     847|       42|    1041|       51|     WN| N422WN|  1520|   PDX| OAK|      90|     543|   8|    47|\n",
            "|2014|    5| 12|    1655|       -5|    1842|      -18|     VX| N361VA|   755|   SEA| SFO|      98|     679|  16|    55|\n",
            "|2014|    4| 19|    1236|       -4|    1508|       -7|     AS| N309AS|   490|   SEA| SAN|     135|    1050|  12|    36|\n",
            "|2014|   11| 19|    1812|       -3|    2352|       -4|     AS| N564AS|    26|   SEA| ORD|     198|    1721|  18|    12|\n",
            "|2014|   11|  8|    1653|       -2|    1924|       -1|     AS| N323AS|   448|   SEA| LAX|     130|     954|  16|    53|\n",
            "|2014|    8|  3|    1120|        0|    1415|        2|     AS| N305AS|   656|   SEA| PHX|     154|    1107|  11|    20|\n",
            "|2014|   10| 30|     811|       21|    1038|       29|     AS| N433AS|   608|   SEA| LAS|     127|     867|   8|    11|\n",
            "|2014|   11| 12|    2346|       -4|     217|      -28|     AS| N765AS|   121|   SEA| ANC|     183|    1448|  23|    46|\n",
            "|2014|   10| 31|    1314|       89|    1544|      111|     AS| N713AS|   306|   SEA| SFO|     129|     679|  13|    14|\n",
            "|2014|    1| 29|    2009|        3|    2159|        9|     UA| N27205|  1458|   PDX| SFO|      90|     550|  20|     9|\n",
            "|2014|   12| 17|    2015|       50|    2150|       41|     AS| N626AS|   368|   SEA| SMF|      76|     605|  20|    15|\n",
            "|2014|    8| 11|    1017|       -3|    1613|       -7|     WN| N8634A|   827|   SEA| MDW|     216|    1733|  10|    17|\n",
            "|2014|    1| 13|    2156|       -9|     607|      -15|     AS| N597AS|    24|   SEA| BOS|     290|    2496|  21|    56|\n",
            "|2014|    6|  5|    1733|      -12|    1945|      -10|     OO| N215AG|  3488|   PDX| BUR|     111|     817|  17|    33|\n",
            "+----+-----+---+--------+---------+--------+---------+-------+-------+------+------+----+--------+--------+----+------+\n",
            "only showing top 20 rows\n",
            "\n"
          ],
          "name": "stdout"
        }
      ]
    },
    {
      "cell_type": "markdown",
      "metadata": {
        "id": "PrFJ7FK33X5y",
        "colab_type": "text"
      },
      "source": [
        "Verfying that the `spark.table()` method returns a Spark DataFrame"
      ]
    },
    {
      "cell_type": "code",
      "metadata": {
        "id": "7CNqrB2r3Q4F",
        "colab_type": "code",
        "outputId": "f131abdc-fc06-40a7-f482-bfff634b6736",
        "colab": {
          "base_uri": "https://localhost:8080/",
          "height": 34
        }
      },
      "source": [
        "type(flights)"
      ],
      "execution_count": 23,
      "outputs": [
        {
          "output_type": "execute_result",
          "data": {
            "text/plain": [
              "pyspark.sql.dataframe.DataFrame"
            ]
          },
          "metadata": {
            "tags": []
          },
          "execution_count": 23
        }
      ]
    },
    {
      "cell_type": "markdown",
      "metadata": {
        "id": "Rtai6lfF345F",
        "colab_type": "text"
      },
      "source": [
        "### The `.withColumn()` method\n",
        "We can manipulate a column, or add a new column to our Spark DataFrame by calling the `.withColumn()` method on the DataFrame.\n",
        "\n",
        "Adding another column `duration_hrs` to our DataFrame whose value is derived from the `air_time` column..."
      ]
    },
    {
      "cell_type": "code",
      "metadata": {
        "id": "Q_6Qyb50209j",
        "colab_type": "code",
        "outputId": "3f69ec26-c9c3-4c6e-9042-dcabd95dc420",
        "colab": {
          "base_uri": "https://localhost:8080/",
          "height": 459
        }
      },
      "source": [
        "flights = flights.withColumn('duration_hrs', flights.air_time / 60)\n",
        "\n",
        "flights.show()"
      ],
      "execution_count": 24,
      "outputs": [
        {
          "output_type": "stream",
          "text": [
            "+----+-----+---+--------+---------+--------+---------+-------+-------+------+------+----+--------+--------+----+------+------------------+\n",
            "|year|month|day|dep_time|dep_delay|arr_time|arr_delay|carrier|tailnum|flight|origin|dest|air_time|distance|hour|minute|      duration_hrs|\n",
            "+----+-----+---+--------+---------+--------+---------+-------+-------+------+------+----+--------+--------+----+------+------------------+\n",
            "|2014|   12|  8|     658|       -7|     935|       -5|     VX| N846VA|  1780|   SEA| LAX|     132|     954|   6|    58|               2.2|\n",
            "|2014|    1| 22|    1040|        5|    1505|        5|     AS| N559AS|   851|   SEA| HNL|     360|    2677|  10|    40|               6.0|\n",
            "|2014|    3|  9|    1443|       -2|    1652|        2|     VX| N847VA|   755|   SEA| SFO|     111|     679|  14|    43|              1.85|\n",
            "|2014|    4|  9|    1705|       45|    1839|       34|     WN| N360SW|   344|   PDX| SJC|      83|     569|  17|     5|1.3833333333333333|\n",
            "|2014|    3|  9|     754|       -1|    1015|        1|     AS| N612AS|   522|   SEA| BUR|     127|     937|   7|    54|2.1166666666666667|\n",
            "|2014|    1| 15|    1037|        7|    1352|        2|     WN| N646SW|    48|   PDX| DEN|     121|     991|  10|    37|2.0166666666666666|\n",
            "|2014|    7|  2|     847|       42|    1041|       51|     WN| N422WN|  1520|   PDX| OAK|      90|     543|   8|    47|               1.5|\n",
            "|2014|    5| 12|    1655|       -5|    1842|      -18|     VX| N361VA|   755|   SEA| SFO|      98|     679|  16|    55|1.6333333333333333|\n",
            "|2014|    4| 19|    1236|       -4|    1508|       -7|     AS| N309AS|   490|   SEA| SAN|     135|    1050|  12|    36|              2.25|\n",
            "|2014|   11| 19|    1812|       -3|    2352|       -4|     AS| N564AS|    26|   SEA| ORD|     198|    1721|  18|    12|               3.3|\n",
            "|2014|   11|  8|    1653|       -2|    1924|       -1|     AS| N323AS|   448|   SEA| LAX|     130|     954|  16|    53|2.1666666666666665|\n",
            "|2014|    8|  3|    1120|        0|    1415|        2|     AS| N305AS|   656|   SEA| PHX|     154|    1107|  11|    20| 2.566666666666667|\n",
            "|2014|   10| 30|     811|       21|    1038|       29|     AS| N433AS|   608|   SEA| LAS|     127|     867|   8|    11|2.1166666666666667|\n",
            "|2014|   11| 12|    2346|       -4|     217|      -28|     AS| N765AS|   121|   SEA| ANC|     183|    1448|  23|    46|              3.05|\n",
            "|2014|   10| 31|    1314|       89|    1544|      111|     AS| N713AS|   306|   SEA| SFO|     129|     679|  13|    14|              2.15|\n",
            "|2014|    1| 29|    2009|        3|    2159|        9|     UA| N27205|  1458|   PDX| SFO|      90|     550|  20|     9|               1.5|\n",
            "|2014|   12| 17|    2015|       50|    2150|       41|     AS| N626AS|   368|   SEA| SMF|      76|     605|  20|    15|1.2666666666666666|\n",
            "|2014|    8| 11|    1017|       -3|    1613|       -7|     WN| N8634A|   827|   SEA| MDW|     216|    1733|  10|    17|               3.6|\n",
            "|2014|    1| 13|    2156|       -9|     607|      -15|     AS| N597AS|    24|   SEA| BOS|     290|    2496|  21|    56| 4.833333333333333|\n",
            "|2014|    6|  5|    1733|      -12|    1945|      -10|     OO| N215AG|  3488|   PDX| BUR|     111|     817|  17|    33|              1.85|\n",
            "+----+-----+---+--------+---------+--------+---------+-------+-------+------+------+----+--------+--------+----+------+------------------+\n",
            "only showing top 20 rows\n",
            "\n"
          ],
          "name": "stdout"
        }
      ]
    },
    {
      "cell_type": "markdown",
      "metadata": {
        "id": "fyytGL7Whq0V",
        "colab_type": "text"
      },
      "source": [
        "---"
      ]
    },
    {
      "cell_type": "markdown",
      "metadata": {
        "id": "3ZfLnVjFhrt0",
        "colab_type": "text"
      },
      "source": [
        "### Filtering Data\n",
        "Now that you have a bit of SQL know-how under your belt, it's easier to talk about the analogous operations using Spark DataFrames.\n",
        "\n",
        "Let's take a look at the `.filter()` method. As you might suspect, this is the Spark counterpart of SQL's WHERE clause. The `.filter()` method takes either an expression that would follow the WHERE clause of a SQL expression as a string, or a Spark Column of boolean (True/False) values.\n",
        "\n",
        "For example, the following two expressions will produce the same output:\n",
        "\n",
        "> `flights.filter(\"air_time > 120\").show()`\n",
        "\n",
        "> `flights.filter(flights.air_time > 120).show()`\n",
        "\n",
        "Notice that in the first case, we pass a **string** to `.filter()`. In SQL, we would write this filtering task as `SELECT * FROM flights WHERE air_time > 120`. Spark's `.filter()` can accept any expression that could go in the WHERE clause of a SQL query (in this case, `\"air_time > 120\"`), as long as it is passed as a string. Notice that in this case, we do not reference the name of the table in the string -- as we wouldn't in the SQL request.\n",
        "\n",
        "In the second case, we actually pass a **column of boolean values** to `.filter()`. Remember that `flights.air_time > 120` returns a column of boolean values that has True in place of those records in `flights.air_time` that are over 120, and False otherwise.\n",
        "\n",
        "Remember, a SparkSession called spark is already in your workspace, along with the Spark DataFrame flights."
      ]
    },
    {
      "cell_type": "code",
      "metadata": {
        "id": "iH93owQUkFQ4",
        "colab_type": "code",
        "outputId": "50b3b8ce-322d-4c1e-d3be-6cc1f7d5b3ee",
        "colab": {
          "base_uri": "https://localhost:8080/",
          "height": 901
        }
      },
      "source": [
        "# Filter flights by passing a string to filter() method to find all flights that flew over 1000 miles distance.\n",
        "long_flights1 = flights.filter('distance > 1000')\n",
        "\n",
        "# Filter flights by passing a column of boolean values\n",
        "long_flights2 = flights.filter(flights.distance > 1000)\n",
        "\n",
        "# Print the data to check they're equal\n",
        "long_flights1.show()\n",
        "long_flights2.show()"
      ],
      "execution_count": 25,
      "outputs": [
        {
          "output_type": "stream",
          "text": [
            "+----+-----+---+--------+---------+--------+---------+-------+-------+------+------+----+--------+--------+----+------+------------------+\n",
            "|year|month|day|dep_time|dep_delay|arr_time|arr_delay|carrier|tailnum|flight|origin|dest|air_time|distance|hour|minute|      duration_hrs|\n",
            "+----+-----+---+--------+---------+--------+---------+-------+-------+------+------+----+--------+--------+----+------+------------------+\n",
            "|2014|    1| 22|    1040|        5|    1505|        5|     AS| N559AS|   851|   SEA| HNL|     360|    2677|  10|    40|               6.0|\n",
            "|2014|    4| 19|    1236|       -4|    1508|       -7|     AS| N309AS|   490|   SEA| SAN|     135|    1050|  12|    36|              2.25|\n",
            "|2014|   11| 19|    1812|       -3|    2352|       -4|     AS| N564AS|    26|   SEA| ORD|     198|    1721|  18|    12|               3.3|\n",
            "|2014|    8|  3|    1120|        0|    1415|        2|     AS| N305AS|   656|   SEA| PHX|     154|    1107|  11|    20| 2.566666666666667|\n",
            "|2014|   11| 12|    2346|       -4|     217|      -28|     AS| N765AS|   121|   SEA| ANC|     183|    1448|  23|    46|              3.05|\n",
            "|2014|    8| 11|    1017|       -3|    1613|       -7|     WN| N8634A|   827|   SEA| MDW|     216|    1733|  10|    17|               3.6|\n",
            "|2014|    1| 13|    2156|       -9|     607|      -15|     AS| N597AS|    24|   SEA| BOS|     290|    2496|  21|    56| 4.833333333333333|\n",
            "|2014|    9| 26|     610|       -5|    1523|       65|     US| N127UW|   616|   SEA| PHL|     293|    2378|   6|    10| 4.883333333333334|\n",
            "|2014|   12|  4|     954|       -6|    1348|      -17|     HA| N395HA|    29|   SEA| OGG|     333|    2640|   9|    54|              5.55|\n",
            "|2014|    6|  4|    1115|        0|    1346|       -3|     AS| N461AS|   488|   SEA| SAN|     133|    1050|  11|    15| 2.216666666666667|\n",
            "|2014|    6| 26|    2054|       -1|    2318|       -6|     B6| N590JB|   907|   SEA| ANC|     179|    1448|  20|    54|2.9833333333333334|\n",
            "|2014|    6|  7|    1823|       -7|    2112|      -28|     AS| N512AS|   815|   SEA| LIH|     335|    2701|  18|    23| 5.583333333333333|\n",
            "|2014|    4| 30|     801|        1|    1757|       90|     AS| N407AS|    18|   SEA| MCO|     342|    2554|   8|     1|               5.7|\n",
            "|2014|   11| 29|     905|      155|    1655|      170|     DL| N824DN|  1598|   SEA| ATL|     229|    2182|   9|     5| 3.816666666666667|\n",
            "|2014|    6|  2|    2222|        7|      55|       15|     AS| N402AS|    99|   SEA| ANC|     190|    1448|  22|    22|3.1666666666666665|\n",
            "|2014|   11| 15|    1034|       -6|    1414|      -26|     AS| N589AS|   794|   SEA| ABQ|     139|    1180|  10|    34| 2.316666666666667|\n",
            "|2014|   10| 20|    1328|       -1|    1949|        4|     UA| N68805|  1212|   SEA| IAH|     228|    1874|  13|    28|               3.8|\n",
            "|2014|   12| 16|    1500|        0|    1906|       19|     US| N662AW|   500|   SEA| PHX|     151|    1107|  15|     0|2.5166666666666666|\n",
            "|2014|   11| 19|    1319|       -6|    1821|      -14|     DL| N309US|  2164|   PDX| MSP|     169|    1426|  13|    19| 2.816666666666667|\n",
            "|2014|    5| 21|     515|        0|     757|        0|     US| N172US|   593|   SEA| PHX|     143|    1107|   5|    15|2.3833333333333333|\n",
            "+----+-----+---+--------+---------+--------+---------+-------+-------+------+------+----+--------+--------+----+------+------------------+\n",
            "only showing top 20 rows\n",
            "\n",
            "+----+-----+---+--------+---------+--------+---------+-------+-------+------+------+----+--------+--------+----+------+------------------+\n",
            "|year|month|day|dep_time|dep_delay|arr_time|arr_delay|carrier|tailnum|flight|origin|dest|air_time|distance|hour|minute|      duration_hrs|\n",
            "+----+-----+---+--------+---------+--------+---------+-------+-------+------+------+----+--------+--------+----+------+------------------+\n",
            "|2014|    1| 22|    1040|        5|    1505|        5|     AS| N559AS|   851|   SEA| HNL|     360|    2677|  10|    40|               6.0|\n",
            "|2014|    4| 19|    1236|       -4|    1508|       -7|     AS| N309AS|   490|   SEA| SAN|     135|    1050|  12|    36|              2.25|\n",
            "|2014|   11| 19|    1812|       -3|    2352|       -4|     AS| N564AS|    26|   SEA| ORD|     198|    1721|  18|    12|               3.3|\n",
            "|2014|    8|  3|    1120|        0|    1415|        2|     AS| N305AS|   656|   SEA| PHX|     154|    1107|  11|    20| 2.566666666666667|\n",
            "|2014|   11| 12|    2346|       -4|     217|      -28|     AS| N765AS|   121|   SEA| ANC|     183|    1448|  23|    46|              3.05|\n",
            "|2014|    8| 11|    1017|       -3|    1613|       -7|     WN| N8634A|   827|   SEA| MDW|     216|    1733|  10|    17|               3.6|\n",
            "|2014|    1| 13|    2156|       -9|     607|      -15|     AS| N597AS|    24|   SEA| BOS|     290|    2496|  21|    56| 4.833333333333333|\n",
            "|2014|    9| 26|     610|       -5|    1523|       65|     US| N127UW|   616|   SEA| PHL|     293|    2378|   6|    10| 4.883333333333334|\n",
            "|2014|   12|  4|     954|       -6|    1348|      -17|     HA| N395HA|    29|   SEA| OGG|     333|    2640|   9|    54|              5.55|\n",
            "|2014|    6|  4|    1115|        0|    1346|       -3|     AS| N461AS|   488|   SEA| SAN|     133|    1050|  11|    15| 2.216666666666667|\n",
            "|2014|    6| 26|    2054|       -1|    2318|       -6|     B6| N590JB|   907|   SEA| ANC|     179|    1448|  20|    54|2.9833333333333334|\n",
            "|2014|    6|  7|    1823|       -7|    2112|      -28|     AS| N512AS|   815|   SEA| LIH|     335|    2701|  18|    23| 5.583333333333333|\n",
            "|2014|    4| 30|     801|        1|    1757|       90|     AS| N407AS|    18|   SEA| MCO|     342|    2554|   8|     1|               5.7|\n",
            "|2014|   11| 29|     905|      155|    1655|      170|     DL| N824DN|  1598|   SEA| ATL|     229|    2182|   9|     5| 3.816666666666667|\n",
            "|2014|    6|  2|    2222|        7|      55|       15|     AS| N402AS|    99|   SEA| ANC|     190|    1448|  22|    22|3.1666666666666665|\n",
            "|2014|   11| 15|    1034|       -6|    1414|      -26|     AS| N589AS|   794|   SEA| ABQ|     139|    1180|  10|    34| 2.316666666666667|\n",
            "|2014|   10| 20|    1328|       -1|    1949|        4|     UA| N68805|  1212|   SEA| IAH|     228|    1874|  13|    28|               3.8|\n",
            "|2014|   12| 16|    1500|        0|    1906|       19|     US| N662AW|   500|   SEA| PHX|     151|    1107|  15|     0|2.5166666666666666|\n",
            "|2014|   11| 19|    1319|       -6|    1821|      -14|     DL| N309US|  2164|   PDX| MSP|     169|    1426|  13|    19| 2.816666666666667|\n",
            "|2014|    5| 21|     515|        0|     757|        0|     US| N172US|   593|   SEA| PHX|     143|    1107|   5|    15|2.3833333333333333|\n",
            "+----+-----+---+--------+---------+--------+---------+-------+-------+------+------+----+--------+--------+----+------+------------------+\n",
            "only showing top 20 rows\n",
            "\n"
          ],
          "name": "stdout"
        }
      ]
    },
    {
      "cell_type": "markdown",
      "metadata": {
        "id": "AN2xV2lIlXE3",
        "colab_type": "text"
      },
      "source": [
        "---"
      ]
    },
    {
      "cell_type": "markdown",
      "metadata": {
        "id": "yQnYeMLvlX7l",
        "colab_type": "text"
      },
      "source": [
        "### Selecting\n",
        "The Spark variant of SQL's `SELECT` is the `.select()` method. This method takes multiple arguments - one for each column you want to select. These arguments can either be the column name as a string (one for each column) or a column object (using the `df.colName` syntax). When you pass a column object, you can perform operations like addition or subtraction on the column to change the data contained in it, much like inside `.withColumn()`.\n",
        "\n",
        "#### Difference between `.select()` and `.withColumn()`\n",
        "The difference between `.select()` and `.withColumn()` methods is that `.select()` returns only the columns you specify, while `.withColumn()` returns all the columns of the DataFrame in addition to the one you defined. It's often a good idea to drop columns you don't need at the beginning of an operation so that you're not dragging around extra data as you're wrangling. In this case, you would use `.select()` and not `.withColumn()`.\n"
      ]
    },
    {
      "cell_type": "code",
      "metadata": {
        "id": "AsNAoH7vmGTe",
        "colab_type": "code",
        "outputId": "748a372c-b866-4226-a3f5-857049961bb7",
        "colab": {
          "base_uri": "https://localhost:8080/",
          "height": 1000
        }
      },
      "source": [
        "# BY STRINGS: Selecting the columns tailnum, origin, and dest from flights by passing the column names as strings.\n",
        "selected1 = flights.select('tailnum', 'origin', 'dest')\n",
        "selected1.show()\n",
        "\n",
        "# BY BOOLEAN MASK: Selecting the columns origin, dest, and carrier using the df.colName\n",
        "temp = flights.select(flights.origin, flights.dest, flights.carrier)\n",
        "temp.show()\n",
        "\n",
        "# Defining boolean filters and filtering data based on these filters\n",
        "filterA = flights.origin == \"SEA\"\n",
        "filterB = flights.dest == \"PDX\"\n",
        "selected2  = flights.filter(filterA).filter(filterB)\n",
        "selected2.show()"
      ],
      "execution_count": 26,
      "outputs": [
        {
          "output_type": "stream",
          "text": [
            "+-------+------+----+\n",
            "|tailnum|origin|dest|\n",
            "+-------+------+----+\n",
            "| N846VA|   SEA| LAX|\n",
            "| N559AS|   SEA| HNL|\n",
            "| N847VA|   SEA| SFO|\n",
            "| N360SW|   PDX| SJC|\n",
            "| N612AS|   SEA| BUR|\n",
            "| N646SW|   PDX| DEN|\n",
            "| N422WN|   PDX| OAK|\n",
            "| N361VA|   SEA| SFO|\n",
            "| N309AS|   SEA| SAN|\n",
            "| N564AS|   SEA| ORD|\n",
            "| N323AS|   SEA| LAX|\n",
            "| N305AS|   SEA| PHX|\n",
            "| N433AS|   SEA| LAS|\n",
            "| N765AS|   SEA| ANC|\n",
            "| N713AS|   SEA| SFO|\n",
            "| N27205|   PDX| SFO|\n",
            "| N626AS|   SEA| SMF|\n",
            "| N8634A|   SEA| MDW|\n",
            "| N597AS|   SEA| BOS|\n",
            "| N215AG|   PDX| BUR|\n",
            "+-------+------+----+\n",
            "only showing top 20 rows\n",
            "\n",
            "+------+----+-------+\n",
            "|origin|dest|carrier|\n",
            "+------+----+-------+\n",
            "|   SEA| LAX|     VX|\n",
            "|   SEA| HNL|     AS|\n",
            "|   SEA| SFO|     VX|\n",
            "|   PDX| SJC|     WN|\n",
            "|   SEA| BUR|     AS|\n",
            "|   PDX| DEN|     WN|\n",
            "|   PDX| OAK|     WN|\n",
            "|   SEA| SFO|     VX|\n",
            "|   SEA| SAN|     AS|\n",
            "|   SEA| ORD|     AS|\n",
            "|   SEA| LAX|     AS|\n",
            "|   SEA| PHX|     AS|\n",
            "|   SEA| LAS|     AS|\n",
            "|   SEA| ANC|     AS|\n",
            "|   SEA| SFO|     AS|\n",
            "|   PDX| SFO|     UA|\n",
            "|   SEA| SMF|     AS|\n",
            "|   SEA| MDW|     WN|\n",
            "|   SEA| BOS|     AS|\n",
            "|   PDX| BUR|     OO|\n",
            "+------+----+-------+\n",
            "only showing top 20 rows\n",
            "\n",
            "+----+-----+---+--------+---------+--------+---------+-------+-------+------+------+----+--------+--------+----+------+-------------------+\n",
            "|year|month|day|dep_time|dep_delay|arr_time|arr_delay|carrier|tailnum|flight|origin|dest|air_time|distance|hour|minute|       duration_hrs|\n",
            "+----+-----+---+--------+---------+--------+---------+-------+-------+------+------+----+--------+--------+----+------+-------------------+\n",
            "|2014|   10|  1|    1717|       -8|    1819|        4|     OO| N810SK|  4546|   SEA| PDX|      28|     129|  17|    17| 0.4666666666666667|\n",
            "|2014|    9| 26|    2339|      144|      29|      142|     OO| N822SK|  4612|   SEA| PDX|      29|     129|  23|    39|0.48333333333333334|\n",
            "|2014|    8| 18|    1728|       -2|    1822|        0|     OO| N586SW|  5440|   SEA| PDX|      41|     129|  17|    28| 0.6833333333333333|\n",
            "|2014|    2|  4|    2053|       -7|    2144|       -4|     OO| N223SW|  5433|   SEA| PDX|      29|     129|  20|    53|0.48333333333333334|\n",
            "|2014|    2|  9|    1058|      133|    1158|      145|     OO| N580SW|  5438|   SEA| PDX|      35|     129|  10|    58| 0.5833333333333334|\n",
            "|2014|   12|  6|    2227|       -3|    2304|      -11|     AS| N520AS|   414|   SEA| PDX|      25|     129|  22|    27| 0.4166666666666667|\n",
            "|2014|   10| 15|    1722|       -3|    1816|        1|     OO| N809SK|  4546|   SEA| PDX|      28|     129|  17|    22| 0.4666666666666667|\n",
            "|2014|    3|  3|    1720|       -8|    1810|       -6|     OO| N295SW|  5305|   SEA| PDX|      34|     129|  17|    20| 0.5666666666666667|\n",
            "|2014|    2| 23|    2050|      -10|    2140|       -8|     OO| N221SW|  5433|   SEA| PDX|      34|     129|  20|    50| 0.5666666666666667|\n",
            "|2014|    3| 25|    2050|      -10|    2148|        1|     OO| N294SW|  5433|   SEA| PDX|      34|     129|  20|    50| 0.5666666666666667|\n",
            "|2014|    4| 19|    1842|       -3|    1940|        3|     OO| N581SW|  5424|   SEA| PDX|      35|     129|  18|    42| 0.5833333333333334|\n",
            "|2014|    3|  4|     928|       -7|    1026|        3|     OO| N563SW|  5438|   SEA| PDX|      34|     129|   9|    28| 0.5666666666666667|\n",
            "|2014|    1| 15|    1433|       -6|    1528|        1|     OO| N297SW|  5417|   SEA| PDX|      40|     129|  14|    33| 0.6666666666666666|\n",
            "|2014|    5| 11|    1850|      -10|    1938|      -14|     OO| N564SW|  5424|   SEA| PDX|      35|     129|  18|    50| 0.5833333333333334|\n",
            "|2014|   11| 24|    2227|       -3|    2309|       -6|     AS| N468AS|   414|   SEA| PDX|      30|     129|  22|    27|                0.5|\n",
            "|2014|    2| 22|    1450|       -5|    1544|        1|     OO| N229SW|  5417|   SEA| PDX|      30|     129|  14|    50|                0.5|\n",
            "|2014|    3| 28|     921|       -5|    1023|       10|     OO| N565SW|  5411|   SEA| PDX|      40|     129|   9|    21| 0.6666666666666666|\n",
            "|2014|    3| 25|    1515|      274|    1608|      279|     OO| N580SW|  5325|   SEA| PDX|      36|     129|  15|    15|                0.6|\n",
            "|2014|   12| 28|     652|       -8|     802|        2|     OO| N817SK|  4608|   SEA| PDX|      32|     129|   6|    52| 0.5333333333333333|\n",
            "|2014|    5| 11|    1501|        1|    1550|        0|     OO| N564SW|  5417|   SEA| PDX|      34|     129|  15|     1| 0.5666666666666667|\n",
            "+----+-----+---+--------+---------+--------+---------+-------+-------+------+------+----+--------+--------+----+------+-------------------+\n",
            "only showing top 20 rows\n",
            "\n"
          ],
          "name": "stdout"
        }
      ]
    },
    {
      "cell_type": "markdown",
      "metadata": {
        "id": "tIAnnAzBBBA3",
        "colab_type": "text"
      },
      "source": [
        "Similar to SQL, we can also use the `.select()` method to perform column-wise operations. When we're selecting a column using the `df.colName` notation, we can perform any column operation and the `.select()` method will return the transformed column. For example,\n",
        "\n",
        "> `flights.select(flights.air_time/60)`\n",
        "\n",
        "returns a column of flight durations in hours instead of minutes. We can also use the `.alias()` method to rename a column we're selecting. So if we wanted to `.select()` the column duration_hrs (which isn't in our DataFrame) we could do\n",
        "\n",
        "> `flights.select((flights.air_time/60).alias(\"duration_hrs\"))`\n",
        "\n",
        "The equivalent Spark DataFrame method `.selectExpr()` takes SQL expressions as a string:\n",
        "\n",
        "> `flights.selectExpr(\"air_time/60 as duration_hrs\")`\n",
        "\n",
        "with the SQL as keyword being equivalent to the `.alias()` method. \n",
        "\n",
        "To select multiple columns, we can pass multiple strings."
      ]
    },
    {
      "cell_type": "code",
      "metadata": {
        "id": "CzyeAt3dCFQn",
        "colab_type": "code",
        "outputId": "73ce47aa-7ec7-456b-b659-620cfff7c611",
        "colab": {
          "base_uri": "https://localhost:8080/",
          "height": 986
        }
      },
      "source": [
        "# Define avg_speed\n",
        "avg_speed = (flights.distance/(flights.air_time/60)).alias(\"avg_speed\") # The result has a dataype of Spark Column\n",
        "print(type(avg_speed))\n",
        "\n",
        "print(\"-\" * 5)\n",
        "\n",
        "# Select the correct columns\n",
        "speed1 = flights.select(\"origin\", \"dest\", \"tailnum\", avg_speed)\n",
        "print(type(speed1))\n",
        "speed1.show()\n",
        "\n",
        "print(\"-\" * 5)\n",
        "\n",
        "# Create the same table using a SQL expression\n",
        "speed2 = flights.selectExpr(\"origin\", \"dest\", \"tailnum\", \"distance/(air_time/60) as avg_speed\")\n",
        "print(type(speed2))\n",
        "speed2.show()"
      ],
      "execution_count": 27,
      "outputs": [
        {
          "output_type": "stream",
          "text": [
            "<class 'pyspark.sql.column.Column'>\n",
            "-----\n",
            "<class 'pyspark.sql.dataframe.DataFrame'>\n",
            "+------+----+-------+------------------+\n",
            "|origin|dest|tailnum|         avg_speed|\n",
            "+------+----+-------+------------------+\n",
            "|   SEA| LAX| N846VA| 433.6363636363636|\n",
            "|   SEA| HNL| N559AS| 446.1666666666667|\n",
            "|   SEA| SFO| N847VA|367.02702702702703|\n",
            "|   PDX| SJC| N360SW| 411.3253012048193|\n",
            "|   SEA| BUR| N612AS| 442.6771653543307|\n",
            "|   PDX| DEN| N646SW|491.40495867768595|\n",
            "|   PDX| OAK| N422WN|             362.0|\n",
            "|   SEA| SFO| N361VA| 415.7142857142857|\n",
            "|   SEA| SAN| N309AS| 466.6666666666667|\n",
            "|   SEA| ORD| N564AS| 521.5151515151515|\n",
            "|   SEA| LAX| N323AS| 440.3076923076923|\n",
            "|   SEA| PHX| N305AS|431.29870129870125|\n",
            "|   SEA| LAS| N433AS| 409.6062992125984|\n",
            "|   SEA| ANC| N765AS|474.75409836065575|\n",
            "|   SEA| SFO| N713AS| 315.8139534883721|\n",
            "|   PDX| SFO| N27205| 366.6666666666667|\n",
            "|   SEA| SMF| N626AS|477.63157894736844|\n",
            "|   SEA| MDW| N8634A|481.38888888888886|\n",
            "|   SEA| BOS| N597AS| 516.4137931034483|\n",
            "|   PDX| BUR| N215AG| 441.6216216216216|\n",
            "+------+----+-------+------------------+\n",
            "only showing top 20 rows\n",
            "\n",
            "-----\n",
            "<class 'pyspark.sql.dataframe.DataFrame'>\n",
            "+------+----+-------+------------------+\n",
            "|origin|dest|tailnum|         avg_speed|\n",
            "+------+----+-------+------------------+\n",
            "|   SEA| LAX| N846VA| 433.6363636363636|\n",
            "|   SEA| HNL| N559AS| 446.1666666666667|\n",
            "|   SEA| SFO| N847VA|367.02702702702703|\n",
            "|   PDX| SJC| N360SW| 411.3253012048193|\n",
            "|   SEA| BUR| N612AS| 442.6771653543307|\n",
            "|   PDX| DEN| N646SW|491.40495867768595|\n",
            "|   PDX| OAK| N422WN|             362.0|\n",
            "|   SEA| SFO| N361VA| 415.7142857142857|\n",
            "|   SEA| SAN| N309AS| 466.6666666666667|\n",
            "|   SEA| ORD| N564AS| 521.5151515151515|\n",
            "|   SEA| LAX| N323AS| 440.3076923076923|\n",
            "|   SEA| PHX| N305AS|431.29870129870125|\n",
            "|   SEA| LAS| N433AS| 409.6062992125984|\n",
            "|   SEA| ANC| N765AS|474.75409836065575|\n",
            "|   SEA| SFO| N713AS| 315.8139534883721|\n",
            "|   PDX| SFO| N27205| 366.6666666666667|\n",
            "|   SEA| SMF| N626AS|477.63157894736844|\n",
            "|   SEA| MDW| N8634A|481.38888888888886|\n",
            "|   SEA| BOS| N597AS| 516.4137931034483|\n",
            "|   PDX| BUR| N215AG| 441.6216216216216|\n",
            "+------+----+-------+------------------+\n",
            "only showing top 20 rows\n",
            "\n"
          ],
          "name": "stdout"
        }
      ]
    },
    {
      "cell_type": "markdown",
      "metadata": {
        "id": "DthbzAN3LCRm",
        "colab_type": "text"
      },
      "source": [
        "---\n",
        "\n",
        "## Aggregating\n",
        "All of the common aggregation methods, like `.min()`, `.max()`, and `.count()` are `GroupedData` methods. These are created by calling the `.groupBy()` DataFrame method. For example, to find the minimum value of a column, `col`, in a DataFrame, `df`, we can do\n",
        "\n",
        "> `df.groupBy().min(\"col\").show()`\n",
        "\n",
        "This creates a `GroupedData` object (so we can use the `.min()` method), then finds the minimum value in `col`, and returns it as a DataFrame.\n",
        "\n",
        "Now we're ready to do some aggregating of our own!\n",
        "\n",
        "\n",
        "Finding the length of the shortest (in terms of distance) flight that left PDX by first .filter()ing and using the .min() method. Perform the filtering by referencing the column directly, not passing a SQL string."
      ]
    },
    {
      "cell_type": "code",
      "metadata": {
        "id": "nK-5L_2mLkv7",
        "colab_type": "code",
        "colab": {
          "base_uri": "https://localhost:8080/",
          "height": 850
        },
        "outputId": "a0dd1340-ba4b-48e3-b767-0a8ff9246221"
      },
      "source": [
        "flights.filter(flights.origin=='PDX').groupBy().min('distance').show()"
      ],
      "execution_count": 28,
      "outputs": [
        {
          "output_type": "error",
          "ename": "AnalysisException",
          "evalue": "ignored",
          "traceback": [
            "\u001b[0;31m---------------------------------------------------------------------------\u001b[0m",
            "\u001b[0;31mPy4JJavaError\u001b[0m                             Traceback (most recent call last)",
            "\u001b[0;32m/content/spark-2.4.4-bin-hadoop2.7/python/pyspark/sql/utils.py\u001b[0m in \u001b[0;36mdeco\u001b[0;34m(*a, **kw)\u001b[0m\n\u001b[1;32m     62\u001b[0m         \u001b[0;32mtry\u001b[0m\u001b[0;34m:\u001b[0m\u001b[0;34m\u001b[0m\u001b[0;34m\u001b[0m\u001b[0m\n\u001b[0;32m---> 63\u001b[0;31m             \u001b[0;32mreturn\u001b[0m \u001b[0mf\u001b[0m\u001b[0;34m(\u001b[0m\u001b[0;34m*\u001b[0m\u001b[0ma\u001b[0m\u001b[0;34m,\u001b[0m \u001b[0;34m**\u001b[0m\u001b[0mkw\u001b[0m\u001b[0;34m)\u001b[0m\u001b[0;34m\u001b[0m\u001b[0;34m\u001b[0m\u001b[0m\n\u001b[0m\u001b[1;32m     64\u001b[0m         \u001b[0;32mexcept\u001b[0m \u001b[0mpy4j\u001b[0m\u001b[0;34m.\u001b[0m\u001b[0mprotocol\u001b[0m\u001b[0;34m.\u001b[0m\u001b[0mPy4JJavaError\u001b[0m \u001b[0;32mas\u001b[0m \u001b[0me\u001b[0m\u001b[0;34m:\u001b[0m\u001b[0;34m\u001b[0m\u001b[0;34m\u001b[0m\u001b[0m\n",
            "\u001b[0;32m/content/spark-2.4.4-bin-hadoop2.7/python/lib/py4j-0.10.7-src.zip/py4j/protocol.py\u001b[0m in \u001b[0;36mget_return_value\u001b[0;34m(answer, gateway_client, target_id, name)\u001b[0m\n\u001b[1;32m    327\u001b[0m                     \u001b[0;34m\"An error occurred while calling {0}{1}{2}.\\n\"\u001b[0m\u001b[0;34m.\u001b[0m\u001b[0;34m\u001b[0m\u001b[0;34m\u001b[0m\u001b[0m\n\u001b[0;32m--> 328\u001b[0;31m                     format(target_id, \".\", name), value)\n\u001b[0m\u001b[1;32m    329\u001b[0m             \u001b[0;32melse\u001b[0m\u001b[0;34m:\u001b[0m\u001b[0;34m\u001b[0m\u001b[0;34m\u001b[0m\u001b[0m\n",
            "\u001b[0;31mPy4JJavaError\u001b[0m: An error occurred while calling o165.min.\n: org.apache.spark.sql.AnalysisException: \"distance\" is not a numeric column. Aggregation function can only be applied on a numeric column.;\n\tat org.apache.spark.sql.RelationalGroupedDataset$$anonfun$4.apply(RelationalGroupedDataset.scala:101)\n\tat org.apache.spark.sql.RelationalGroupedDataset$$anonfun$4.apply(RelationalGroupedDataset.scala:98)\n\tat scala.collection.TraversableLike$$anonfun$map$1.apply(TraversableLike.scala:234)\n\tat scala.collection.TraversableLike$$anonfun$map$1.apply(TraversableLike.scala:234)\n\tat scala.collection.Iterator$class.foreach(Iterator.scala:891)\n\tat scala.collection.AbstractIterator.foreach(Iterator.scala:1334)\n\tat scala.collection.IterableLike$class.foreach(IterableLike.scala:72)\n\tat scala.collection.AbstractIterable.foreach(Iterable.scala:54)\n\tat scala.collection.TraversableLike$class.map(TraversableLike.scala:234)\n\tat scala.collection.AbstractTraversable.map(Traversable.scala:104)\n\tat org.apache.spark.sql.RelationalGroupedDataset.aggregateNumericColumns(RelationalGroupedDataset.scala:98)\n\tat org.apache.spark.sql.RelationalGroupedDataset.min(RelationalGroupedDataset.scala:284)\n\tat sun.reflect.NativeMethodAccessorImpl.invoke0(Native Method)\n\tat sun.reflect.NativeMethodAccessorImpl.invoke(NativeMethodAccessorImpl.java:62)\n\tat sun.reflect.DelegatingMethodAccessorImpl.invoke(DelegatingMethodAccessorImpl.java:43)\n\tat java.lang.reflect.Method.invoke(Method.java:498)\n\tat py4j.reflection.MethodInvoker.invoke(MethodInvoker.java:244)\n\tat py4j.reflection.ReflectionEngine.invoke(ReflectionEngine.java:357)\n\tat py4j.Gateway.invoke(Gateway.java:282)\n\tat py4j.commands.AbstractCommand.invokeMethod(AbstractCommand.java:132)\n\tat py4j.commands.CallCommand.execute(CallCommand.java:79)\n\tat py4j.GatewayConnection.run(GatewayConnection.java:238)\n\tat java.lang.Thread.run(Thread.java:748)\n",
            "\nDuring handling of the above exception, another exception occurred:\n",
            "\u001b[0;31mAnalysisException\u001b[0m                         Traceback (most recent call last)",
            "\u001b[0;32m<ipython-input-28-b6389d4480e5>\u001b[0m in \u001b[0;36m<module>\u001b[0;34m()\u001b[0m\n\u001b[0;32m----> 1\u001b[0;31m \u001b[0mflights\u001b[0m\u001b[0;34m.\u001b[0m\u001b[0mfilter\u001b[0m\u001b[0;34m(\u001b[0m\u001b[0mflights\u001b[0m\u001b[0;34m.\u001b[0m\u001b[0morigin\u001b[0m\u001b[0;34m==\u001b[0m\u001b[0;34m'PDX'\u001b[0m\u001b[0;34m)\u001b[0m\u001b[0;34m.\u001b[0m\u001b[0mgroupBy\u001b[0m\u001b[0;34m(\u001b[0m\u001b[0;34m)\u001b[0m\u001b[0;34m.\u001b[0m\u001b[0mmin\u001b[0m\u001b[0;34m(\u001b[0m\u001b[0;34m'distance'\u001b[0m\u001b[0;34m)\u001b[0m\u001b[0;34m.\u001b[0m\u001b[0mshow\u001b[0m\u001b[0;34m(\u001b[0m\u001b[0;34m)\u001b[0m\u001b[0;34m\u001b[0m\u001b[0;34m\u001b[0m\u001b[0m\n\u001b[0m",
            "\u001b[0;32m/content/spark-2.4.4-bin-hadoop2.7/python/pyspark/sql/group.py\u001b[0m in \u001b[0;36m_api\u001b[0;34m(self, *cols)\u001b[0m\n\u001b[1;32m     40\u001b[0m     \u001b[0;32mdef\u001b[0m \u001b[0m_api\u001b[0m\u001b[0;34m(\u001b[0m\u001b[0mself\u001b[0m\u001b[0;34m,\u001b[0m \u001b[0;34m*\u001b[0m\u001b[0mcols\u001b[0m\u001b[0;34m)\u001b[0m\u001b[0;34m:\u001b[0m\u001b[0;34m\u001b[0m\u001b[0;34m\u001b[0m\u001b[0m\n\u001b[1;32m     41\u001b[0m         \u001b[0mname\u001b[0m \u001b[0;34m=\u001b[0m \u001b[0mf\u001b[0m\u001b[0;34m.\u001b[0m\u001b[0m__name__\u001b[0m\u001b[0;34m\u001b[0m\u001b[0;34m\u001b[0m\u001b[0m\n\u001b[0;32m---> 42\u001b[0;31m         \u001b[0mjdf\u001b[0m \u001b[0;34m=\u001b[0m \u001b[0mgetattr\u001b[0m\u001b[0;34m(\u001b[0m\u001b[0mself\u001b[0m\u001b[0;34m.\u001b[0m\u001b[0m_jgd\u001b[0m\u001b[0;34m,\u001b[0m \u001b[0mname\u001b[0m\u001b[0;34m)\u001b[0m\u001b[0;34m(\u001b[0m\u001b[0m_to_seq\u001b[0m\u001b[0;34m(\u001b[0m\u001b[0mself\u001b[0m\u001b[0;34m.\u001b[0m\u001b[0msql_ctx\u001b[0m\u001b[0;34m.\u001b[0m\u001b[0m_sc\u001b[0m\u001b[0;34m,\u001b[0m \u001b[0mcols\u001b[0m\u001b[0;34m)\u001b[0m\u001b[0;34m)\u001b[0m\u001b[0;34m\u001b[0m\u001b[0;34m\u001b[0m\u001b[0m\n\u001b[0m\u001b[1;32m     43\u001b[0m         \u001b[0;32mreturn\u001b[0m \u001b[0mDataFrame\u001b[0m\u001b[0;34m(\u001b[0m\u001b[0mjdf\u001b[0m\u001b[0;34m,\u001b[0m \u001b[0mself\u001b[0m\u001b[0;34m.\u001b[0m\u001b[0msql_ctx\u001b[0m\u001b[0;34m)\u001b[0m\u001b[0;34m\u001b[0m\u001b[0;34m\u001b[0m\u001b[0m\n\u001b[1;32m     44\u001b[0m     \u001b[0m_api\u001b[0m\u001b[0;34m.\u001b[0m\u001b[0m__name__\u001b[0m \u001b[0;34m=\u001b[0m \u001b[0mf\u001b[0m\u001b[0;34m.\u001b[0m\u001b[0m__name__\u001b[0m\u001b[0;34m\u001b[0m\u001b[0;34m\u001b[0m\u001b[0m\n",
            "\u001b[0;32m/content/spark-2.4.4-bin-hadoop2.7/python/lib/py4j-0.10.7-src.zip/py4j/java_gateway.py\u001b[0m in \u001b[0;36m__call__\u001b[0;34m(self, *args)\u001b[0m\n\u001b[1;32m   1255\u001b[0m         \u001b[0manswer\u001b[0m \u001b[0;34m=\u001b[0m \u001b[0mself\u001b[0m\u001b[0;34m.\u001b[0m\u001b[0mgateway_client\u001b[0m\u001b[0;34m.\u001b[0m\u001b[0msend_command\u001b[0m\u001b[0;34m(\u001b[0m\u001b[0mcommand\u001b[0m\u001b[0;34m)\u001b[0m\u001b[0;34m\u001b[0m\u001b[0;34m\u001b[0m\u001b[0m\n\u001b[1;32m   1256\u001b[0m         return_value = get_return_value(\n\u001b[0;32m-> 1257\u001b[0;31m             answer, self.gateway_client, self.target_id, self.name)\n\u001b[0m\u001b[1;32m   1258\u001b[0m \u001b[0;34m\u001b[0m\u001b[0m\n\u001b[1;32m   1259\u001b[0m         \u001b[0;32mfor\u001b[0m \u001b[0mtemp_arg\u001b[0m \u001b[0;32min\u001b[0m \u001b[0mtemp_args\u001b[0m\u001b[0;34m:\u001b[0m\u001b[0;34m\u001b[0m\u001b[0;34m\u001b[0m\u001b[0m\n",
            "\u001b[0;32m/content/spark-2.4.4-bin-hadoop2.7/python/pyspark/sql/utils.py\u001b[0m in \u001b[0;36mdeco\u001b[0;34m(*a, **kw)\u001b[0m\n\u001b[1;32m     67\u001b[0m                                              e.java_exception.getStackTrace()))\n\u001b[1;32m     68\u001b[0m             \u001b[0;32mif\u001b[0m \u001b[0ms\u001b[0m\u001b[0;34m.\u001b[0m\u001b[0mstartswith\u001b[0m\u001b[0;34m(\u001b[0m\u001b[0;34m'org.apache.spark.sql.AnalysisException: '\u001b[0m\u001b[0;34m)\u001b[0m\u001b[0;34m:\u001b[0m\u001b[0;34m\u001b[0m\u001b[0;34m\u001b[0m\u001b[0m\n\u001b[0;32m---> 69\u001b[0;31m                 \u001b[0;32mraise\u001b[0m \u001b[0mAnalysisException\u001b[0m\u001b[0;34m(\u001b[0m\u001b[0ms\u001b[0m\u001b[0;34m.\u001b[0m\u001b[0msplit\u001b[0m\u001b[0;34m(\u001b[0m\u001b[0;34m': '\u001b[0m\u001b[0;34m,\u001b[0m \u001b[0;36m1\u001b[0m\u001b[0;34m)\u001b[0m\u001b[0;34m[\u001b[0m\u001b[0;36m1\u001b[0m\u001b[0;34m]\u001b[0m\u001b[0;34m,\u001b[0m \u001b[0mstackTrace\u001b[0m\u001b[0;34m)\u001b[0m\u001b[0;34m\u001b[0m\u001b[0;34m\u001b[0m\u001b[0m\n\u001b[0m\u001b[1;32m     70\u001b[0m             \u001b[0;32mif\u001b[0m \u001b[0ms\u001b[0m\u001b[0;34m.\u001b[0m\u001b[0mstartswith\u001b[0m\u001b[0;34m(\u001b[0m\u001b[0;34m'org.apache.spark.sql.catalyst.analysis'\u001b[0m\u001b[0;34m)\u001b[0m\u001b[0;34m:\u001b[0m\u001b[0;34m\u001b[0m\u001b[0;34m\u001b[0m\u001b[0m\n\u001b[1;32m     71\u001b[0m                 \u001b[0;32mraise\u001b[0m \u001b[0mAnalysisException\u001b[0m\u001b[0;34m(\u001b[0m\u001b[0ms\u001b[0m\u001b[0;34m.\u001b[0m\u001b[0msplit\u001b[0m\u001b[0;34m(\u001b[0m\u001b[0;34m': '\u001b[0m\u001b[0;34m,\u001b[0m \u001b[0;36m1\u001b[0m\u001b[0;34m)\u001b[0m\u001b[0;34m[\u001b[0m\u001b[0;36m1\u001b[0m\u001b[0;34m]\u001b[0m\u001b[0;34m,\u001b[0m \u001b[0mstackTrace\u001b[0m\u001b[0;34m)\u001b[0m\u001b[0;34m\u001b[0m\u001b[0;34m\u001b[0m\u001b[0m\n",
            "\u001b[0;31mAnalysisException\u001b[0m: '\"distance\" is not a numeric column. Aggregation function can only be applied on a numeric column.;'"
          ]
        }
      ]
    },
    {
      "cell_type": "markdown",
      "metadata": {
        "id": "ZYbLE7EHNc-V",
        "colab_type": "text"
      },
      "source": [
        "Finding the length of the longest (in terms of time) flight that left `SEA` by filter()ing and using the .max() method. Performing the filtering by referencing the column directly, not passing a SQL string."
      ]
    },
    {
      "cell_type": "code",
      "metadata": {
        "id": "ie5MyzMMNkCy",
        "colab_type": "code",
        "colab": {}
      },
      "source": [
        "flights.filter(flights.origin=='SEA').groupBy().max('duration_hrs').show()"
      ],
      "execution_count": 0,
      "outputs": []
    },
    {
      "cell_type": "markdown",
      "metadata": {
        "id": "98C51OVg0tVl",
        "colab_type": "text"
      },
      "source": [
        "# Part 3: Getting started with machine learning pipelines\n",
        "PySpark has built-in, cutting-edge machine learning routines, along with utilities to create full machine learning pipelines. We'll learn about them in this part."
      ]
    },
    {
      "cell_type": "code",
      "metadata": {
        "id": "8lDXTVzD08mU",
        "colab_type": "code",
        "colab": {}
      },
      "source": [
        ""
      ],
      "execution_count": 0,
      "outputs": []
    },
    {
      "cell_type": "markdown",
      "metadata": {
        "id": "c7e8LKdg09Tn",
        "colab_type": "text"
      },
      "source": [
        "# Part 4: Model tuning and selection\n",
        "In this last part, we'll apply what you've learned to create a model that predicts which flights will be delayed."
      ]
    },
    {
      "cell_type": "code",
      "metadata": {
        "id": "1DhJuHOl1JUn",
        "colab_type": "code",
        "colab": {}
      },
      "source": [
        ""
      ],
      "execution_count": 0,
      "outputs": []
    }
  ]
}